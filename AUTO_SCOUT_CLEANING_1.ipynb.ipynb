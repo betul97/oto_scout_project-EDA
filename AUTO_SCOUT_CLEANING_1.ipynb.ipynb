{
  "metadata": {
    "kernelspec": {
      "language": "python",
      "display_name": "Python 3",
      "name": "python3"
    },
    "language_info": {
      "pygments_lexer": "ipython3",
      "nbconvert_exporter": "python",
      "version": "3.6.4",
      "file_extension": ".py",
      "codemirror_mode": {
        "name": "ipython",
        "version": 3
      },
      "name": "python",
      "mimetype": "text/x-python"
    },
    "colab": {
      "provenance": []
    }
  },
  "nbformat_minor": 0,
  "nbformat": 4,
  "cells": [
    {
      "cell_type": "markdown",
      "source": [
        "___\n",
        "\n",
        "<p style=\"text-align: center;\"><img src=\"https://docs.google.com/uc?id=1lY0Uj5R04yMY3-ZppPWxqCr5pvBLYPnV\" class=\"img-fluid\" \n",
        "alt=\"CLRSWY\"></p>\n",
        "\n",
        "## <p style=\"background-color:#FDFEFE; font-family:newtimeroman; color:#9d4f8c; font-size:100%; text-align:center; border-radius:10px 10px;\">WAY TO REINVENT YOURSELF</p>"
      ],
      "metadata": {
        "id": "Bv1I7_aas1L3"
      }
    },
    {
      "cell_type": "markdown",
      "source": [
        "<img src=https://i.ibb.co/wJW61Y2/Used-cars.jpg width=\"700\" height=\"200\">\n",
        "\n",
        "## <p style=\"background-color:#FDFEFE; font-family:newtimeroman; color:#060108; font-size:200%; text-align:center; border-radius:10px 10px;\">The Capstone Project of Data Analytics Module</p>\n",
        "\n",
        "## <p style=\"background-color:#FDFEFE; font-family:newtimeroman; color:#060108; font-size:150%; text-align:center; border-radius:10px 10px;\">Car Price Prediction EDA</p>"
      ],
      "metadata": {
        "id": "Bkw3_pB0s1L-"
      }
    },
    {
      "cell_type": "markdown",
      "source": [
        "## Introduction\n",
        "Welcome to \"***AutoScout Data Analysis Project***\". This is the capstone project of ***Data Analysis*** Module. **Auto Scout** data which using for this project, scraped from the on-line car trading company in 2019, contains many features of 9 different car models. In this project, you will have the opportunity to apply many commonly used algorithms for Data Cleaning and Exploratory Data Analysis by using many Python libraries such as Numpy, Pandas, Matplotlib, Seaborn, Scipy you will analyze clean dataset.\n",
        "\n",
        "### Some Reminders on Exploratory data analysis (EDA)\n",
        "\n",
        "Exploratory data analysis (EDA) is an especially important activity in the routine of a data analyst or scientist. It enables an in depth understanding of the dataset, define or discard hypotheses and create predictive models on a solid basis. It uses data manipulation techniques and several statistical tools to describe and understand the relationship between variables and how these can impact business. By means of EDA, we can obtain meaningful insights that can impact analysis under the following questions (If a checklist is good enough for pilots to use every flight, it’s good enough for data scientists to use with every dataset).\n",
        "1. What question are you trying to solve (or prove wrong)?\n",
        "2. What kind of data do you have?\n",
        "3. What’s missing from the data?\n",
        "4. Where are the outliers?\n",
        "5. How can you add, change or remove features to get more out of your data?\n",
        "\n",
        "**``Exploratory data analysis (EDA)``** is often an **iterative brainstorming process** where you pose a question, review the data, and develop further questions to investigate before beginning model development work. The image below shows how the brainstorming phase is connected with that of understanding the variables and how this in turn is connected again with the brainstorming phase.<br>\n",
        "\n",
        "<img src=https://i.ibb.co/k0MC950/EDA-Process.png width=\"300\" height=\"100\">\n",
        "\n",
        "[Image Credit: Andrew D.](https://towardsdatascience.com/exploratory-data-analysis-in-python-a-step-by-step-process-d0dfa6bf94ee)\n",
        "\n",
        "**``In this context, the project consists of 3 parts in general:``**\n",
        "* **The first part** is related to 'Data Cleaning'. It deals with Incorrect Headers, Incorrect Format, Anomalies, and Dropping useless columns.\n",
        "* **The second part** is related to 'Filling Data', in other words 'Imputation'. It deals with Missing Values. Categorical to numeric transformation is done as well.\n",
        "* **The third part** is related to 'Handling Outliers of Data' via Visualization libraries. So, some insights will be extracted.\n",
        "\n",
        "**``NOTE:``**  However, you are free to create your own style. You do NOT have to stick to the steps above. We, the DA & DV instructors, recommend you study each part separately to create a source notebook for each part title for your further studies. "
      ],
      "metadata": {
        "id": "Z_oWczxZs1MA"
      }
    },
    {
      "cell_type": "markdown",
      "source": [
        "# PART- 1 `( Data Cleaning )`"
      ],
      "metadata": {
        "id": "vvgJ5KWTs1MB"
      }
    },
    {
      "cell_type": "code",
      "source": [
        "import numpy as np\n",
        "import pandas as pd\n",
        "import seaborn as sns \n",
        "import matplotlib.pyplot as plt\n",
        "\n",
        "import warnings\n",
        "warnings.filterwarnings(\"ignore\")\n",
        "warnings.warn(\"this will not show\")\n",
        "\n",
        "%matplotlib inline\n",
        "# %matplotlib notebook\n",
        "\n",
        "plt.rcParams[\"figure.figsize\"] = (10,6)\n",
        "# plt.rcParams['figure.dpi'] = 100\n",
        "\n",
        "sns.set_style(\"whitegrid\")\n",
        "pd.set_option('display.float_format', lambda x: '%.3f' % x)\n",
        "\n",
        "pd.options.display.max_rows = 100\n",
        "pd.options.display.max_columns = 100"
      ],
      "metadata": {
        "id": "Y13_gId7s1MC",
        "execution": {
          "iopub.status.busy": "2022-08-04T22:02:12.220717Z",
          "iopub.execute_input": "2022-08-04T22:02:12.221474Z",
          "iopub.status.idle": "2022-08-04T22:02:13.644873Z",
          "shell.execute_reply.started": "2022-08-04T22:02:12.22131Z",
          "shell.execute_reply": "2022-08-04T22:02:13.643186Z"
        },
        "trusted": true
      },
      "execution_count": 3,
      "outputs": []
    },
    {
      "cell_type": "code",
      "source": [
        "df = pd.read_json('scout_car.json', lines=True)"
      ],
      "metadata": {
        "id": "Is4HLjHWs1MF",
        "execution": {
          "iopub.status.busy": "2022-08-04T22:02:13.648361Z",
          "iopub.execute_input": "2022-08-04T22:02:13.649043Z",
          "iopub.status.idle": "2022-08-04T22:02:16.984086Z",
          "shell.execute_reply.started": "2022-08-04T22:02:13.64898Z",
          "shell.execute_reply": "2022-08-04T22:02:16.982633Z"
        },
        "trusted": true
      },
      "execution_count": 85,
      "outputs": []
    },
    {
      "cell_type": "code",
      "source": [
        "df_copy=df.copy()"
      ],
      "metadata": {
        "execution": {
          "iopub.status.busy": "2022-08-04T22:02:16.985967Z",
          "iopub.execute_input": "2022-08-04T22:02:16.986382Z",
          "iopub.status.idle": "2022-08-04T22:02:17.014284Z",
          "shell.execute_reply.started": "2022-08-04T22:02:16.986348Z",
          "shell.execute_reply": "2022-08-04T22:02:17.012769Z"
        },
        "trusted": true,
        "id": "5vlsXE4z-cp2"
      },
      "execution_count": 7,
      "outputs": []
    },
    {
      "cell_type": "code",
      "source": [
        "df.head(3).T"
      ],
      "metadata": {
        "id": "8mgL_Bd0s1MG",
        "execution": {
          "iopub.status.busy": "2022-08-04T22:02:17.017392Z",
          "iopub.execute_input": "2022-08-04T22:02:17.018076Z",
          "iopub.status.idle": "2022-08-04T22:02:17.076868Z",
          "shell.execute_reply.started": "2022-08-04T22:02:17.018032Z",
          "shell.execute_reply": "2022-08-04T22:02:17.075409Z"
        },
        "trusted": true,
        "colab": {
          "base_uri": "https://localhost:8080/",
          "height": 1000
        },
        "outputId": "516b5618-5703-4c23-dd05-b26a5b754c09"
      },
      "execution_count": 8,
      "outputs": [
        {
          "output_type": "execute_result",
          "data": {
            "text/plain": [
              "                                                                               0  \\\n",
              "url                            https://www.autoscout24.com//offers/audi-a1-sp...   \n",
              "make_model                                                               Audi A1   \n",
              "short_description                    Sportback 1.4 TDI S-tronic Xenon Navi Klima   \n",
              "body_type                                                                 Sedans   \n",
              "price                                                                      15770   \n",
              "vat                                                               VAT deductible   \n",
              "km                                                                     56,013 km   \n",
              "registration                                                             01/2016   \n",
              "prev_owner                                                     2 previous owners   \n",
              "kW                                                                           NaN   \n",
              "hp                                                                         66 kW   \n",
              "Type                                     [, Used, , Diesel (Particulate Filter)]   \n",
              "Previous Owners                                                            \\n2\\n   \n",
              "Next Inspection                            [\\n06/2021\\n, \\n99 g CO2/km (comb)\\n]   \n",
              "Inspection new                                             [\\nYes\\n, \\nEuro 6\\n]   \n",
              "Warranty                                                 [\\n, \\n, \\n4 (Green)\\n]   \n",
              "Full Service                                                            [\\n, \\n]   \n",
              "Non-smoking Vehicle                                                     [\\n, \\n]   \n",
              "null                                                                          []   \n",
              "Make                                                                    \\nAudi\\n   \n",
              "Model                                                               [\\n, A1, \\n]   \n",
              "Offer Number                                                     [\\nLR-062483\\n]   \n",
              "First Registration                                                [\\n, 2016, \\n]   \n",
              "Body Color                                                       [\\n, Black, \\n]   \n",
              "Paint Type                                                        [\\nMetallic\\n]   \n",
              "Body Color Original                                          [\\nMythosschwarz\\n]   \n",
              "Upholstery                                                    [\\nCloth, Black\\n]   \n",
              "Body                                                            [\\n, Sedans, \\n]   \n",
              "Nr. of Doors                                                             [\\n5\\n]   \n",
              "Nr. of Seats                                                             [\\n5\\n]   \n",
              "Model Code                                                        [\\n0588/BDF\\n]   \n",
              "Gearing Type                                                 [\\n, Automatic, \\n]   \n",
              "Displacement                                                      [\\n1,422 cc\\n]   \n",
              "Cylinders                                                                [\\n3\\n]   \n",
              "Weight                                                            [\\n1,220 kg\\n]   \n",
              "Drive chain                                                          [\\nfront\\n]   \n",
              "Fuel                                       [\\n, Diesel (Particulate Filter), \\n]   \n",
              "Consumption                    [[3.8 l/100 km (comb)], [4.3 l/100 km (city)],...   \n",
              "CO2 Emission                                            [\\n99 g CO2/km (comb)\\n]   \n",
              "Emission Class                                                      [\\nEuro 6\\n]   \n",
              "\\nComfort & Convenience\\n      [Air conditioning, Armrest, Automatic climate ...   \n",
              "\\nEntertainment & Media\\n      [Bluetooth, Hands-free equipment, On-board com...   \n",
              "\\nExtras\\n                     [Alloy wheels, Catalytic Converter, Voice Cont...   \n",
              "\\nSafety & Security\\n          [ABS, Central door lock, Daytime running light...   \n",
              "description                    [\\n, Sicherheit:,  , Deaktivierung für Beifahr...   \n",
              "Emission Label                                                               NaN   \n",
              "Gears                                                                        NaN   \n",
              "Country version                                                              NaN   \n",
              "Electricity consumption                                                      NaN   \n",
              "Last Service Date                                                            NaN   \n",
              "Other Fuel Types                                                             NaN   \n",
              "Availability                                                                 NaN   \n",
              "Last Timing Belt Service Date                                                NaN   \n",
              "Available from                                                               NaN   \n",
              "\n",
              "                                                                               1  \\\n",
              "url                            https://www.autoscout24.com//offers/audi-a1-1-...   \n",
              "make_model                                                               Audi A1   \n",
              "short_description                                                 1.8 TFSI sport   \n",
              "body_type                                                                 Sedans   \n",
              "price                                                                      14500   \n",
              "vat                                                             Price negotiable   \n",
              "km                                                                     80,000 km   \n",
              "registration                                                             03/2017   \n",
              "prev_owner                                                                  None   \n",
              "kW                                                                           NaN   \n",
              "hp                                                                        141 kW   \n",
              "Type                                                        [, Used, , Gasoline]   \n",
              "Previous Owners                                                              NaN   \n",
              "Next Inspection                                                              NaN   \n",
              "Inspection new                                                               NaN   \n",
              "Warranty                                                                     NaN   \n",
              "Full Service                                                                 NaN   \n",
              "Non-smoking Vehicle                                                          NaN   \n",
              "null                                                                          []   \n",
              "Make                                                                    \\nAudi\\n   \n",
              "Model                                                               [\\n, A1, \\n]   \n",
              "Offer Number                                                                 NaN   \n",
              "First Registration                                                [\\n, 2017, \\n]   \n",
              "Body Color                                                         [\\n, Red, \\n]   \n",
              "Paint Type                                                                   NaN   \n",
              "Body Color Original                                                          NaN   \n",
              "Upholstery                                                     [\\nCloth, Grey\\n]   \n",
              "Body                                                            [\\n, Sedans, \\n]   \n",
              "Nr. of Doors                                                             [\\n3\\n]   \n",
              "Nr. of Seats                                                             [\\n4\\n]   \n",
              "Model Code                                                        [\\n0588/BCY\\n]   \n",
              "Gearing Type                                                 [\\n, Automatic, \\n]   \n",
              "Displacement                                                      [\\n1,798 cc\\n]   \n",
              "Cylinders                                                                [\\n4\\n]   \n",
              "Weight                                                            [\\n1,255 kg\\n]   \n",
              "Drive chain                                                          [\\nfront\\n]   \n",
              "Fuel                                                          [\\n, Gasoline, \\n]   \n",
              "Consumption                    [[5.6 l/100 km (comb)], [7.1 l/100 km (city)],...   \n",
              "CO2 Emission                                           [\\n129 g CO2/km (comb)\\n]   \n",
              "Emission Class                                                      [\\nEuro 6\\n]   \n",
              "\\nComfort & Convenience\\n      [Air conditioning, Automatic climate control, ...   \n",
              "\\nEntertainment & Media\\n      [Bluetooth, Hands-free equipment, On-board com...   \n",
              "\\nExtras\\n                     [Alloy wheels, Sport seats, Sport suspension, ...   \n",
              "\\nSafety & Security\\n          [ABS, Central door lock, Central door lock wit...   \n",
              "description                    [\\nLangstreckenfahrzeug daher die hohe Kilomet...   \n",
              "Emission Label                                                   [\\n4 (Green)\\n]   \n",
              "Gears                                                                    [\\n7\\n]   \n",
              "Country version                                                              NaN   \n",
              "Electricity consumption                                                      NaN   \n",
              "Last Service Date                                                            NaN   \n",
              "Other Fuel Types                                                             NaN   \n",
              "Availability                                                                 NaN   \n",
              "Last Timing Belt Service Date                                                NaN   \n",
              "Available from                                                               NaN   \n",
              "\n",
              "                                                                               2  \n",
              "url                            https://www.autoscout24.com//offers/audi-a1-sp...  \n",
              "make_model                                                               Audi A1  \n",
              "short_description              Sportback 1.6 TDI S tronic Einparkhilfe plus+m...  \n",
              "body_type                                                                 Sedans  \n",
              "price                                                                      14640  \n",
              "vat                                                               VAT deductible  \n",
              "km                                                                     83,450 km  \n",
              "registration                                                             02/2016  \n",
              "prev_owner                                                      1 previous owner  \n",
              "kW                                                                           NaN  \n",
              "hp                                                                         85 kW  \n",
              "Type                                     [, Used, , Diesel (Particulate Filter)]  \n",
              "Previous Owners                                                            \\n1\\n  \n",
              "Next Inspection                                                              NaN  \n",
              "Inspection new                                                               NaN  \n",
              "Warranty                                        [\\n, \\n, \\n99 g CO2/km (comb)\\n]  \n",
              "Full Service                                                                 NaN  \n",
              "Non-smoking Vehicle                                                          NaN  \n",
              "null                                                                          []  \n",
              "Make                                                                    \\nAudi\\n  \n",
              "Model                                                               [\\n, A1, \\n]  \n",
              "Offer Number                                                      [\\nAM-95365\\n]  \n",
              "First Registration                                                [\\n, 2016, \\n]  \n",
              "Body Color                                                       [\\n, Black, \\n]  \n",
              "Paint Type                                                        [\\nMetallic\\n]  \n",
              "Body Color Original                                 [\\nmythosschwarz metallic\\n]  \n",
              "Upholstery                                                    [\\nCloth, Black\\n]  \n",
              "Body                                                            [\\n, Sedans, \\n]  \n",
              "Nr. of Doors                                                             [\\n4\\n]  \n",
              "Nr. of Seats                                                             [\\n4\\n]  \n",
              "Model Code                                                                   NaN  \n",
              "Gearing Type                                                 [\\n, Automatic, \\n]  \n",
              "Displacement                                                      [\\n1,598 cc\\n]  \n",
              "Cylinders                                                                    NaN  \n",
              "Weight                                                                       NaN  \n",
              "Drive chain                                                          [\\nfront\\n]  \n",
              "Fuel                                       [\\n, Diesel (Particulate Filter), \\n]  \n",
              "Consumption                    [[3.8 l/100 km (comb)], [4.4 l/100 km (city)],...  \n",
              "CO2 Emission                                            [\\n99 g CO2/km (comb)\\n]  \n",
              "Emission Class                                                      [\\nEuro 6\\n]  \n",
              "\\nComfort & Convenience\\n      [Air conditioning, Cruise control, Electrical ...  \n",
              "\\nEntertainment & Media\\n                               [MP3, On-board computer]  \n",
              "\\nExtras\\n                                         [Alloy wheels, Voice Control]  \n",
              "\\nSafety & Security\\n          [ABS, Central door lock, Daytime running light...  \n",
              "description                    [\\n, Fahrzeug-Nummer: AM-95365,  , Ehem. UPE 2...  \n",
              "Emission Label                                                   [\\n4 (Green)\\n]  \n",
              "Gears                                                                        NaN  \n",
              "Country version                                                              NaN  \n",
              "Electricity consumption                                                      NaN  \n",
              "Last Service Date                                                            NaN  \n",
              "Other Fuel Types                                                             NaN  \n",
              "Availability                                                                 NaN  \n",
              "Last Timing Belt Service Date                                                NaN  \n",
              "Available from                                                               NaN  "
            ],
            "text/html": [
              "\n",
              "  <div id=\"df-ee1672fa-5fbf-47ff-9586-04e6790ea76f\">\n",
              "    <div class=\"colab-df-container\">\n",
              "      <div>\n",
              "<style scoped>\n",
              "    .dataframe tbody tr th:only-of-type {\n",
              "        vertical-align: middle;\n",
              "    }\n",
              "\n",
              "    .dataframe tbody tr th {\n",
              "        vertical-align: top;\n",
              "    }\n",
              "\n",
              "    .dataframe thead th {\n",
              "        text-align: right;\n",
              "    }\n",
              "</style>\n",
              "<table border=\"1\" class=\"dataframe\">\n",
              "  <thead>\n",
              "    <tr style=\"text-align: right;\">\n",
              "      <th></th>\n",
              "      <th>0</th>\n",
              "      <th>1</th>\n",
              "      <th>2</th>\n",
              "    </tr>\n",
              "  </thead>\n",
              "  <tbody>\n",
              "    <tr>\n",
              "      <th>url</th>\n",
              "      <td>https://www.autoscout24.com//offers/audi-a1-sp...</td>\n",
              "      <td>https://www.autoscout24.com//offers/audi-a1-1-...</td>\n",
              "      <td>https://www.autoscout24.com//offers/audi-a1-sp...</td>\n",
              "    </tr>\n",
              "    <tr>\n",
              "      <th>make_model</th>\n",
              "      <td>Audi A1</td>\n",
              "      <td>Audi A1</td>\n",
              "      <td>Audi A1</td>\n",
              "    </tr>\n",
              "    <tr>\n",
              "      <th>short_description</th>\n",
              "      <td>Sportback 1.4 TDI S-tronic Xenon Navi Klima</td>\n",
              "      <td>1.8 TFSI sport</td>\n",
              "      <td>Sportback 1.6 TDI S tronic Einparkhilfe plus+m...</td>\n",
              "    </tr>\n",
              "    <tr>\n",
              "      <th>body_type</th>\n",
              "      <td>Sedans</td>\n",
              "      <td>Sedans</td>\n",
              "      <td>Sedans</td>\n",
              "    </tr>\n",
              "    <tr>\n",
              "      <th>price</th>\n",
              "      <td>15770</td>\n",
              "      <td>14500</td>\n",
              "      <td>14640</td>\n",
              "    </tr>\n",
              "    <tr>\n",
              "      <th>vat</th>\n",
              "      <td>VAT deductible</td>\n",
              "      <td>Price negotiable</td>\n",
              "      <td>VAT deductible</td>\n",
              "    </tr>\n",
              "    <tr>\n",
              "      <th>km</th>\n",
              "      <td>56,013 km</td>\n",
              "      <td>80,000 km</td>\n",
              "      <td>83,450 km</td>\n",
              "    </tr>\n",
              "    <tr>\n",
              "      <th>registration</th>\n",
              "      <td>01/2016</td>\n",
              "      <td>03/2017</td>\n",
              "      <td>02/2016</td>\n",
              "    </tr>\n",
              "    <tr>\n",
              "      <th>prev_owner</th>\n",
              "      <td>2 previous owners</td>\n",
              "      <td>None</td>\n",
              "      <td>1 previous owner</td>\n",
              "    </tr>\n",
              "    <tr>\n",
              "      <th>kW</th>\n",
              "      <td>NaN</td>\n",
              "      <td>NaN</td>\n",
              "      <td>NaN</td>\n",
              "    </tr>\n",
              "    <tr>\n",
              "      <th>hp</th>\n",
              "      <td>66 kW</td>\n",
              "      <td>141 kW</td>\n",
              "      <td>85 kW</td>\n",
              "    </tr>\n",
              "    <tr>\n",
              "      <th>Type</th>\n",
              "      <td>[, Used, , Diesel (Particulate Filter)]</td>\n",
              "      <td>[, Used, , Gasoline]</td>\n",
              "      <td>[, Used, , Diesel (Particulate Filter)]</td>\n",
              "    </tr>\n",
              "    <tr>\n",
              "      <th>Previous Owners</th>\n",
              "      <td>\\n2\\n</td>\n",
              "      <td>NaN</td>\n",
              "      <td>\\n1\\n</td>\n",
              "    </tr>\n",
              "    <tr>\n",
              "      <th>Next Inspection</th>\n",
              "      <td>[\\n06/2021\\n, \\n99 g CO2/km (comb)\\n]</td>\n",
              "      <td>NaN</td>\n",
              "      <td>NaN</td>\n",
              "    </tr>\n",
              "    <tr>\n",
              "      <th>Inspection new</th>\n",
              "      <td>[\\nYes\\n, \\nEuro 6\\n]</td>\n",
              "      <td>NaN</td>\n",
              "      <td>NaN</td>\n",
              "    </tr>\n",
              "    <tr>\n",
              "      <th>Warranty</th>\n",
              "      <td>[\\n, \\n, \\n4 (Green)\\n]</td>\n",
              "      <td>NaN</td>\n",
              "      <td>[\\n, \\n, \\n99 g CO2/km (comb)\\n]</td>\n",
              "    </tr>\n",
              "    <tr>\n",
              "      <th>Full Service</th>\n",
              "      <td>[\\n, \\n]</td>\n",
              "      <td>NaN</td>\n",
              "      <td>NaN</td>\n",
              "    </tr>\n",
              "    <tr>\n",
              "      <th>Non-smoking Vehicle</th>\n",
              "      <td>[\\n, \\n]</td>\n",
              "      <td>NaN</td>\n",
              "      <td>NaN</td>\n",
              "    </tr>\n",
              "    <tr>\n",
              "      <th>null</th>\n",
              "      <td>[]</td>\n",
              "      <td>[]</td>\n",
              "      <td>[]</td>\n",
              "    </tr>\n",
              "    <tr>\n",
              "      <th>Make</th>\n",
              "      <td>\\nAudi\\n</td>\n",
              "      <td>\\nAudi\\n</td>\n",
              "      <td>\\nAudi\\n</td>\n",
              "    </tr>\n",
              "    <tr>\n",
              "      <th>Model</th>\n",
              "      <td>[\\n, A1, \\n]</td>\n",
              "      <td>[\\n, A1, \\n]</td>\n",
              "      <td>[\\n, A1, \\n]</td>\n",
              "    </tr>\n",
              "    <tr>\n",
              "      <th>Offer Number</th>\n",
              "      <td>[\\nLR-062483\\n]</td>\n",
              "      <td>NaN</td>\n",
              "      <td>[\\nAM-95365\\n]</td>\n",
              "    </tr>\n",
              "    <tr>\n",
              "      <th>First Registration</th>\n",
              "      <td>[\\n, 2016, \\n]</td>\n",
              "      <td>[\\n, 2017, \\n]</td>\n",
              "      <td>[\\n, 2016, \\n]</td>\n",
              "    </tr>\n",
              "    <tr>\n",
              "      <th>Body Color</th>\n",
              "      <td>[\\n, Black, \\n]</td>\n",
              "      <td>[\\n, Red, \\n]</td>\n",
              "      <td>[\\n, Black, \\n]</td>\n",
              "    </tr>\n",
              "    <tr>\n",
              "      <th>Paint Type</th>\n",
              "      <td>[\\nMetallic\\n]</td>\n",
              "      <td>NaN</td>\n",
              "      <td>[\\nMetallic\\n]</td>\n",
              "    </tr>\n",
              "    <tr>\n",
              "      <th>Body Color Original</th>\n",
              "      <td>[\\nMythosschwarz\\n]</td>\n",
              "      <td>NaN</td>\n",
              "      <td>[\\nmythosschwarz metallic\\n]</td>\n",
              "    </tr>\n",
              "    <tr>\n",
              "      <th>Upholstery</th>\n",
              "      <td>[\\nCloth, Black\\n]</td>\n",
              "      <td>[\\nCloth, Grey\\n]</td>\n",
              "      <td>[\\nCloth, Black\\n]</td>\n",
              "    </tr>\n",
              "    <tr>\n",
              "      <th>Body</th>\n",
              "      <td>[\\n, Sedans, \\n]</td>\n",
              "      <td>[\\n, Sedans, \\n]</td>\n",
              "      <td>[\\n, Sedans, \\n]</td>\n",
              "    </tr>\n",
              "    <tr>\n",
              "      <th>Nr. of Doors</th>\n",
              "      <td>[\\n5\\n]</td>\n",
              "      <td>[\\n3\\n]</td>\n",
              "      <td>[\\n4\\n]</td>\n",
              "    </tr>\n",
              "    <tr>\n",
              "      <th>Nr. of Seats</th>\n",
              "      <td>[\\n5\\n]</td>\n",
              "      <td>[\\n4\\n]</td>\n",
              "      <td>[\\n4\\n]</td>\n",
              "    </tr>\n",
              "    <tr>\n",
              "      <th>Model Code</th>\n",
              "      <td>[\\n0588/BDF\\n]</td>\n",
              "      <td>[\\n0588/BCY\\n]</td>\n",
              "      <td>NaN</td>\n",
              "    </tr>\n",
              "    <tr>\n",
              "      <th>Gearing Type</th>\n",
              "      <td>[\\n, Automatic, \\n]</td>\n",
              "      <td>[\\n, Automatic, \\n]</td>\n",
              "      <td>[\\n, Automatic, \\n]</td>\n",
              "    </tr>\n",
              "    <tr>\n",
              "      <th>Displacement</th>\n",
              "      <td>[\\n1,422 cc\\n]</td>\n",
              "      <td>[\\n1,798 cc\\n]</td>\n",
              "      <td>[\\n1,598 cc\\n]</td>\n",
              "    </tr>\n",
              "    <tr>\n",
              "      <th>Cylinders</th>\n",
              "      <td>[\\n3\\n]</td>\n",
              "      <td>[\\n4\\n]</td>\n",
              "      <td>NaN</td>\n",
              "    </tr>\n",
              "    <tr>\n",
              "      <th>Weight</th>\n",
              "      <td>[\\n1,220 kg\\n]</td>\n",
              "      <td>[\\n1,255 kg\\n]</td>\n",
              "      <td>NaN</td>\n",
              "    </tr>\n",
              "    <tr>\n",
              "      <th>Drive chain</th>\n",
              "      <td>[\\nfront\\n]</td>\n",
              "      <td>[\\nfront\\n]</td>\n",
              "      <td>[\\nfront\\n]</td>\n",
              "    </tr>\n",
              "    <tr>\n",
              "      <th>Fuel</th>\n",
              "      <td>[\\n, Diesel (Particulate Filter), \\n]</td>\n",
              "      <td>[\\n, Gasoline, \\n]</td>\n",
              "      <td>[\\n, Diesel (Particulate Filter), \\n]</td>\n",
              "    </tr>\n",
              "    <tr>\n",
              "      <th>Consumption</th>\n",
              "      <td>[[3.8 l/100 km (comb)], [4.3 l/100 km (city)],...</td>\n",
              "      <td>[[5.6 l/100 km (comb)], [7.1 l/100 km (city)],...</td>\n",
              "      <td>[[3.8 l/100 km (comb)], [4.4 l/100 km (city)],...</td>\n",
              "    </tr>\n",
              "    <tr>\n",
              "      <th>CO2 Emission</th>\n",
              "      <td>[\\n99 g CO2/km (comb)\\n]</td>\n",
              "      <td>[\\n129 g CO2/km (comb)\\n]</td>\n",
              "      <td>[\\n99 g CO2/km (comb)\\n]</td>\n",
              "    </tr>\n",
              "    <tr>\n",
              "      <th>Emission Class</th>\n",
              "      <td>[\\nEuro 6\\n]</td>\n",
              "      <td>[\\nEuro 6\\n]</td>\n",
              "      <td>[\\nEuro 6\\n]</td>\n",
              "    </tr>\n",
              "    <tr>\n",
              "      <th>\\nComfort &amp; Convenience\\n</th>\n",
              "      <td>[Air conditioning, Armrest, Automatic climate ...</td>\n",
              "      <td>[Air conditioning, Automatic climate control, ...</td>\n",
              "      <td>[Air conditioning, Cruise control, Electrical ...</td>\n",
              "    </tr>\n",
              "    <tr>\n",
              "      <th>\\nEntertainment &amp; Media\\n</th>\n",
              "      <td>[Bluetooth, Hands-free equipment, On-board com...</td>\n",
              "      <td>[Bluetooth, Hands-free equipment, On-board com...</td>\n",
              "      <td>[MP3, On-board computer]</td>\n",
              "    </tr>\n",
              "    <tr>\n",
              "      <th>\\nExtras\\n</th>\n",
              "      <td>[Alloy wheels, Catalytic Converter, Voice Cont...</td>\n",
              "      <td>[Alloy wheels, Sport seats, Sport suspension, ...</td>\n",
              "      <td>[Alloy wheels, Voice Control]</td>\n",
              "    </tr>\n",
              "    <tr>\n",
              "      <th>\\nSafety &amp; Security\\n</th>\n",
              "      <td>[ABS, Central door lock, Daytime running light...</td>\n",
              "      <td>[ABS, Central door lock, Central door lock wit...</td>\n",
              "      <td>[ABS, Central door lock, Daytime running light...</td>\n",
              "    </tr>\n",
              "    <tr>\n",
              "      <th>description</th>\n",
              "      <td>[\\n, Sicherheit:,  , Deaktivierung für Beifahr...</td>\n",
              "      <td>[\\nLangstreckenfahrzeug daher die hohe Kilomet...</td>\n",
              "      <td>[\\n, Fahrzeug-Nummer: AM-95365,  , Ehem. UPE 2...</td>\n",
              "    </tr>\n",
              "    <tr>\n",
              "      <th>Emission Label</th>\n",
              "      <td>NaN</td>\n",
              "      <td>[\\n4 (Green)\\n]</td>\n",
              "      <td>[\\n4 (Green)\\n]</td>\n",
              "    </tr>\n",
              "    <tr>\n",
              "      <th>Gears</th>\n",
              "      <td>NaN</td>\n",
              "      <td>[\\n7\\n]</td>\n",
              "      <td>NaN</td>\n",
              "    </tr>\n",
              "    <tr>\n",
              "      <th>Country version</th>\n",
              "      <td>NaN</td>\n",
              "      <td>NaN</td>\n",
              "      <td>NaN</td>\n",
              "    </tr>\n",
              "    <tr>\n",
              "      <th>Electricity consumption</th>\n",
              "      <td>NaN</td>\n",
              "      <td>NaN</td>\n",
              "      <td>NaN</td>\n",
              "    </tr>\n",
              "    <tr>\n",
              "      <th>Last Service Date</th>\n",
              "      <td>NaN</td>\n",
              "      <td>NaN</td>\n",
              "      <td>NaN</td>\n",
              "    </tr>\n",
              "    <tr>\n",
              "      <th>Other Fuel Types</th>\n",
              "      <td>NaN</td>\n",
              "      <td>NaN</td>\n",
              "      <td>NaN</td>\n",
              "    </tr>\n",
              "    <tr>\n",
              "      <th>Availability</th>\n",
              "      <td>NaN</td>\n",
              "      <td>NaN</td>\n",
              "      <td>NaN</td>\n",
              "    </tr>\n",
              "    <tr>\n",
              "      <th>Last Timing Belt Service Date</th>\n",
              "      <td>NaN</td>\n",
              "      <td>NaN</td>\n",
              "      <td>NaN</td>\n",
              "    </tr>\n",
              "    <tr>\n",
              "      <th>Available from</th>\n",
              "      <td>NaN</td>\n",
              "      <td>NaN</td>\n",
              "      <td>NaN</td>\n",
              "    </tr>\n",
              "  </tbody>\n",
              "</table>\n",
              "</div>\n",
              "      <button class=\"colab-df-convert\" onclick=\"convertToInteractive('df-ee1672fa-5fbf-47ff-9586-04e6790ea76f')\"\n",
              "              title=\"Convert this dataframe to an interactive table.\"\n",
              "              style=\"display:none;\">\n",
              "        \n",
              "  <svg xmlns=\"http://www.w3.org/2000/svg\" height=\"24px\"viewBox=\"0 0 24 24\"\n",
              "       width=\"24px\">\n",
              "    <path d=\"M0 0h24v24H0V0z\" fill=\"none\"/>\n",
              "    <path d=\"M18.56 5.44l.94 2.06.94-2.06 2.06-.94-2.06-.94-.94-2.06-.94 2.06-2.06.94zm-11 1L8.5 8.5l.94-2.06 2.06-.94-2.06-.94L8.5 2.5l-.94 2.06-2.06.94zm10 10l.94 2.06.94-2.06 2.06-.94-2.06-.94-.94-2.06-.94 2.06-2.06.94z\"/><path d=\"M17.41 7.96l-1.37-1.37c-.4-.4-.92-.59-1.43-.59-.52 0-1.04.2-1.43.59L10.3 9.45l-7.72 7.72c-.78.78-.78 2.05 0 2.83L4 21.41c.39.39.9.59 1.41.59.51 0 1.02-.2 1.41-.59l7.78-7.78 2.81-2.81c.8-.78.8-2.07 0-2.86zM5.41 20L4 18.59l7.72-7.72 1.47 1.35L5.41 20z\"/>\n",
              "  </svg>\n",
              "      </button>\n",
              "      \n",
              "  <style>\n",
              "    .colab-df-container {\n",
              "      display:flex;\n",
              "      flex-wrap:wrap;\n",
              "      gap: 12px;\n",
              "    }\n",
              "\n",
              "    .colab-df-convert {\n",
              "      background-color: #E8F0FE;\n",
              "      border: none;\n",
              "      border-radius: 50%;\n",
              "      cursor: pointer;\n",
              "      display: none;\n",
              "      fill: #1967D2;\n",
              "      height: 32px;\n",
              "      padding: 0 0 0 0;\n",
              "      width: 32px;\n",
              "    }\n",
              "\n",
              "    .colab-df-convert:hover {\n",
              "      background-color: #E2EBFA;\n",
              "      box-shadow: 0px 1px 2px rgba(60, 64, 67, 0.3), 0px 1px 3px 1px rgba(60, 64, 67, 0.15);\n",
              "      fill: #174EA6;\n",
              "    }\n",
              "\n",
              "    [theme=dark] .colab-df-convert {\n",
              "      background-color: #3B4455;\n",
              "      fill: #D2E3FC;\n",
              "    }\n",
              "\n",
              "    [theme=dark] .colab-df-convert:hover {\n",
              "      background-color: #434B5C;\n",
              "      box-shadow: 0px 1px 3px 1px rgba(0, 0, 0, 0.15);\n",
              "      filter: drop-shadow(0px 1px 2px rgba(0, 0, 0, 0.3));\n",
              "      fill: #FFFFFF;\n",
              "    }\n",
              "  </style>\n",
              "\n",
              "      <script>\n",
              "        const buttonEl =\n",
              "          document.querySelector('#df-ee1672fa-5fbf-47ff-9586-04e6790ea76f button.colab-df-convert');\n",
              "        buttonEl.style.display =\n",
              "          google.colab.kernel.accessAllowed ? 'block' : 'none';\n",
              "\n",
              "        async function convertToInteractive(key) {\n",
              "          const element = document.querySelector('#df-ee1672fa-5fbf-47ff-9586-04e6790ea76f');\n",
              "          const dataTable =\n",
              "            await google.colab.kernel.invokeFunction('convertToInteractive',\n",
              "                                                     [key], {});\n",
              "          if (!dataTable) return;\n",
              "\n",
              "          const docLinkHtml = 'Like what you see? Visit the ' +\n",
              "            '<a target=\"_blank\" href=https://colab.research.google.com/notebooks/data_table.ipynb>data table notebook</a>'\n",
              "            + ' to learn more about interactive tables.';\n",
              "          element.innerHTML = '';\n",
              "          dataTable['output_type'] = 'display_data';\n",
              "          await google.colab.output.renderOutput(dataTable, element);\n",
              "          const docLink = document.createElement('div');\n",
              "          docLink.innerHTML = docLinkHtml;\n",
              "          element.appendChild(docLink);\n",
              "        }\n",
              "      </script>\n",
              "    </div>\n",
              "  </div>\n",
              "  "
            ]
          },
          "metadata": {},
          "execution_count": 8
        }
      ]
    },
    {
      "cell_type": "code",
      "source": [
        "df.info()"
      ],
      "metadata": {
        "id": "faDyWTC9s1MJ",
        "execution": {
          "iopub.status.busy": "2022-08-04T22:02:17.078575Z",
          "iopub.execute_input": "2022-08-04T22:02:17.0791Z",
          "iopub.status.idle": "2022-08-04T22:02:17.261035Z",
          "shell.execute_reply.started": "2022-08-04T22:02:17.079061Z",
          "shell.execute_reply": "2022-08-04T22:02:17.259259Z"
        },
        "trusted": true,
        "colab": {
          "base_uri": "https://localhost:8080/"
        },
        "outputId": "78ad2316-7c4f-4d5a-b480-a7fd8abccf94"
      },
      "execution_count": 5,
      "outputs": [
        {
          "output_type": "stream",
          "name": "stdout",
          "text": [
            "<class 'pandas.core.frame.DataFrame'>\n",
            "RangeIndex: 15919 entries, 0 to 15918\n",
            "Data columns (total 54 columns):\n",
            " #   Column                         Non-Null Count  Dtype  \n",
            "---  ------                         --------------  -----  \n",
            " 0   url                            15919 non-null  object \n",
            " 1   make_model                     15919 non-null  object \n",
            " 2   short_description              15873 non-null  object \n",
            " 3   body_type                      15859 non-null  object \n",
            " 4   price                          15919 non-null  int64  \n",
            " 5   vat                            11406 non-null  object \n",
            " 6   km                             15919 non-null  object \n",
            " 7   registration                   15919 non-null  object \n",
            " 8   prev_owner                     9091 non-null   object \n",
            " 9   kW                             0 non-null      float64\n",
            " 10  hp                             15919 non-null  object \n",
            " 11  Type                           15917 non-null  object \n",
            " 12  Previous Owners                9279 non-null   object \n",
            " 13  Next Inspection                3535 non-null   object \n",
            " 14  Inspection new                 3932 non-null   object \n",
            " 15  Warranty                       10499 non-null  object \n",
            " 16  Full Service                   8215 non-null   object \n",
            " 17  Non-smoking Vehicle            7177 non-null   object \n",
            " 18  null                           15919 non-null  object \n",
            " 19  Make                           15919 non-null  object \n",
            " 20  Model                          15919 non-null  object \n",
            " 21  Offer Number                   12744 non-null  object \n",
            " 22  First Registration             14322 non-null  object \n",
            " 23  Body Color                     15322 non-null  object \n",
            " 24  Paint Type                     10147 non-null  object \n",
            " 25  Body Color Original            12160 non-null  object \n",
            " 26  Upholstery                     12199 non-null  object \n",
            " 27  Body                           15859 non-null  object \n",
            " 28  Nr. of Doors                   15707 non-null  object \n",
            " 29  Nr. of Seats                   14942 non-null  object \n",
            " 30  Model Code                     4978 non-null   object \n",
            " 31  Gearing Type                   15919 non-null  object \n",
            " 32  Displacement                   15423 non-null  object \n",
            " 33  Cylinders                      10239 non-null  object \n",
            " 34  Weight                         8945 non-null   object \n",
            " 35  Drive chain                    9061 non-null   object \n",
            " 36  Fuel                           15919 non-null  object \n",
            " 37  Consumption                    14013 non-null  object \n",
            " 38  CO2 Emission                   14111 non-null  object \n",
            " 39  Emission Class                 12898 non-null  object \n",
            " 40  \n",
            "Comfort & Convenience\n",
            "        14999 non-null  object \n",
            " 41  \n",
            "Entertainment & Media\n",
            "        14545 non-null  object \n",
            " 42  \n",
            "Extras\n",
            "                       12957 non-null  object \n",
            " 43  \n",
            "Safety & Security\n",
            "            14937 non-null  object \n",
            " 44  description                    15919 non-null  object \n",
            " 45  Emission Label                 3985 non-null   object \n",
            " 46  Gears                          11207 non-null  object \n",
            " 47  Country version                7586 non-null   object \n",
            " 48  Electricity consumption        137 non-null    object \n",
            " 49  Last Service Date              566 non-null    object \n",
            " 50  Other Fuel Types               880 non-null    object \n",
            " 51  Availability                   635 non-null    object \n",
            " 52  Last Timing Belt Service Date  16 non-null     object \n",
            " 53  Available from                 272 non-null    object \n",
            "dtypes: float64(1), int64(1), object(52)\n",
            "memory usage: 6.6+ MB\n"
          ]
        }
      ]
    },
    {
      "cell_type": "code",
      "source": [
        "df.columns"
      ],
      "metadata": {
        "execution": {
          "iopub.status.busy": "2022-08-04T22:02:17.262926Z",
          "iopub.execute_input": "2022-08-04T22:02:17.263648Z",
          "iopub.status.idle": "2022-08-04T22:02:17.27386Z",
          "shell.execute_reply.started": "2022-08-04T22:02:17.263598Z",
          "shell.execute_reply": "2022-08-04T22:02:17.272032Z"
        },
        "trusted": true,
        "colab": {
          "base_uri": "https://localhost:8080/"
        },
        "id": "rNFkkTlw-cp3",
        "outputId": "77309e6d-b952-47c1-f20f-f5c5a0ea6b96"
      },
      "execution_count": 9,
      "outputs": [
        {
          "output_type": "execute_result",
          "data": {
            "text/plain": [
              "Index(['url', 'make_model', 'short_description', 'body_type', 'price', 'vat',\n",
              "       'km', 'registration', 'prev_owner', 'kW', 'hp', 'Type',\n",
              "       'Previous Owners', 'Next Inspection', 'Inspection new', 'Warranty',\n",
              "       'Full Service', 'Non-smoking Vehicle', 'null', 'Make', 'Model',\n",
              "       'Offer Number', 'First Registration', 'Body Color', 'Paint Type',\n",
              "       'Body Color Original', 'Upholstery', 'Body', 'Nr. of Doors',\n",
              "       'Nr. of Seats', 'Model Code', 'Gearing Type', 'Displacement',\n",
              "       'Cylinders', 'Weight', 'Drive chain', 'Fuel', 'Consumption',\n",
              "       'CO2 Emission', 'Emission Class', '\\nComfort & Convenience\\n',\n",
              "       '\\nEntertainment & Media\\n', '\\nExtras\\n', '\\nSafety & Security\\n',\n",
              "       'description', 'Emission Label', 'Gears', 'Country version',\n",
              "       'Electricity consumption', 'Last Service Date', 'Other Fuel Types',\n",
              "       'Availability', 'Last Timing Belt Service Date', 'Available from'],\n",
              "      dtype='object')"
            ]
          },
          "metadata": {},
          "execution_count": 9
        }
      ]
    },
    {
      "cell_type": "code",
      "source": [
        "df['Comfort & Convenience']=df['\\nComfort & Convenience\\n']\n",
        "df['Entertainment & Media']=df['\\nEntertainment & Media\\n']\n",
        "df['Extras']=df['\\nExtras\\n']\n",
        "df['Safety & Security']=df['\\nSafety & Security\\n'] "
      ],
      "metadata": {
        "execution": {
          "iopub.status.busy": "2022-08-04T22:02:17.278198Z",
          "iopub.execute_input": "2022-08-04T22:02:17.279709Z",
          "iopub.status.idle": "2022-08-04T22:02:17.29493Z",
          "shell.execute_reply.started": "2022-08-04T22:02:17.279646Z",
          "shell.execute_reply": "2022-08-04T22:02:17.293322Z"
        },
        "trusted": true,
        "id": "VblbZGXU-cp3"
      },
      "execution_count": 86,
      "outputs": []
    },
    {
      "cell_type": "code",
      "source": [
        "df_cloumn = ['\\nComfort & Convenience\\n','\\nEntertainment & Media\\n', '\\nExtras\\n', '\\nSafety & Security\\n']\n",
        "df.drop(df_cloumn, axis=1, inplace=True)"
      ],
      "metadata": {
        "execution": {
          "iopub.status.busy": "2022-08-04T22:02:17.296801Z",
          "iopub.execute_input": "2022-08-04T22:02:17.297596Z",
          "iopub.status.idle": "2022-08-04T22:02:17.42766Z",
          "shell.execute_reply.started": "2022-08-04T22:02:17.297544Z",
          "shell.execute_reply": "2022-08-04T22:02:17.426187Z"
        },
        "trusted": true,
        "id": "a2kaDxuH-cp4"
      },
      "execution_count": 87,
      "outputs": []
    },
    {
      "cell_type": "code",
      "source": [
        "\n",
        "#tek satirda kolon temizleme\n",
        "#from skimpy import clean_columns\n",
        "#clean_df = clean_columns(df)#temiz dataframe\n",
        "#df.columns = clean_df.columns.tolist()#tekrar kendi dataframe'imi onun icine attim"
      ],
      "metadata": {
        "id": "tcLK7S8SN1Td"
      },
      "execution_count": null,
      "outputs": []
    },
    {
      "cell_type": "code",
      "source": [
        "#2.yontem\n",
        "#df.columns = df.columns.str.replace(\" \",\"_\").str.lower().str.replace(\"\\n\",\"\").str.replace(\"_&_\",\"&\")"
      ],
      "metadata": {
        "id": "hB7-IhQUOd6y"
      },
      "execution_count": null,
      "outputs": []
    },
    {
      "cell_type": "code",
      "source": [
        "#3.yontem\n",
        "#for col in df.columns:\n",
        "    #df.rename(columns={col:col.lower().replace(\" \",\"_\")},inplace=True)"
      ],
      "metadata": {
        "id": "ETxnGr_oOgzG"
      },
      "execution_count": null,
      "outputs": []
    },
    {
      "cell_type": "code",
      "source": [
        "df.info()"
      ],
      "metadata": {
        "execution": {
          "iopub.status.busy": "2022-08-04T22:02:17.429185Z",
          "iopub.execute_input": "2022-08-04T22:02:17.42967Z",
          "iopub.status.idle": "2022-08-04T22:02:17.602538Z",
          "shell.execute_reply.started": "2022-08-04T22:02:17.429631Z",
          "shell.execute_reply": "2022-08-04T22:02:17.600945Z"
        },
        "trusted": true,
        "colab": {
          "base_uri": "https://localhost:8080/"
        },
        "id": "R16jRd7G-cp5",
        "outputId": "1fff3aad-e376-4ed3-c20a-dce140947965"
      },
      "execution_count": 12,
      "outputs": [
        {
          "output_type": "stream",
          "name": "stdout",
          "text": [
            "<class 'pandas.core.frame.DataFrame'>\n",
            "RangeIndex: 15919 entries, 0 to 15918\n",
            "Data columns (total 54 columns):\n",
            " #   Column                         Non-Null Count  Dtype  \n",
            "---  ------                         --------------  -----  \n",
            " 0   url                            15919 non-null  object \n",
            " 1   make_model                     15919 non-null  object \n",
            " 2   short_description              15873 non-null  object \n",
            " 3   body_type                      15859 non-null  object \n",
            " 4   price                          15919 non-null  int64  \n",
            " 5   vat                            11406 non-null  object \n",
            " 6   km                             15919 non-null  object \n",
            " 7   registration                   15919 non-null  object \n",
            " 8   prev_owner                     9091 non-null   object \n",
            " 9   kW                             0 non-null      float64\n",
            " 10  hp                             15919 non-null  object \n",
            " 11  Type                           15917 non-null  object \n",
            " 12  Previous Owners                9279 non-null   object \n",
            " 13  Next Inspection                3535 non-null   object \n",
            " 14  Inspection new                 3932 non-null   object \n",
            " 15  Warranty                       10499 non-null  object \n",
            " 16  Full Service                   8215 non-null   object \n",
            " 17  Non-smoking Vehicle            7177 non-null   object \n",
            " 18  null                           15919 non-null  object \n",
            " 19  Make                           15919 non-null  object \n",
            " 20  Model                          15919 non-null  object \n",
            " 21  Offer Number                   12744 non-null  object \n",
            " 22  First Registration             14322 non-null  object \n",
            " 23  Body Color                     15322 non-null  object \n",
            " 24  Paint Type                     10147 non-null  object \n",
            " 25  Body Color Original            12160 non-null  object \n",
            " 26  Upholstery                     12199 non-null  object \n",
            " 27  Body                           15859 non-null  object \n",
            " 28  Nr. of Doors                   15707 non-null  object \n",
            " 29  Nr. of Seats                   14942 non-null  object \n",
            " 30  Model Code                     4978 non-null   object \n",
            " 31  Gearing Type                   15919 non-null  object \n",
            " 32  Displacement                   15423 non-null  object \n",
            " 33  Cylinders                      10239 non-null  object \n",
            " 34  Weight                         8945 non-null   object \n",
            " 35  Drive chain                    9061 non-null   object \n",
            " 36  Fuel                           15919 non-null  object \n",
            " 37  Consumption                    14013 non-null  object \n",
            " 38  CO2 Emission                   14111 non-null  object \n",
            " 39  Emission Class                 12898 non-null  object \n",
            " 40  description                    15919 non-null  object \n",
            " 41  Emission Label                 3985 non-null   object \n",
            " 42  Gears                          11207 non-null  object \n",
            " 43  Country version                7586 non-null   object \n",
            " 44  Electricity consumption        137 non-null    object \n",
            " 45  Last Service Date              566 non-null    object \n",
            " 46  Other Fuel Types               880 non-null    object \n",
            " 47  Availability                   635 non-null    object \n",
            " 48  Last Timing Belt Service Date  16 non-null     object \n",
            " 49  Available from                 272 non-null    object \n",
            " 50  Comfort & Convenience          14999 non-null  object \n",
            " 51  Entertainment & Media          14545 non-null  object \n",
            " 52  Extras                         12957 non-null  object \n",
            " 53  Safety & Security              14937 non-null  object \n",
            "dtypes: float64(1), int64(1), object(52)\n",
            "memory usage: 6.6+ MB\n"
          ]
        }
      ]
    },
    {
      "cell_type": "code",
      "source": [
        "df.shape"
      ],
      "metadata": {
        "execution": {
          "iopub.status.busy": "2022-08-04T22:02:17.607742Z",
          "iopub.execute_input": "2022-08-04T22:02:17.608242Z",
          "iopub.status.idle": "2022-08-04T22:02:17.6158Z",
          "shell.execute_reply.started": "2022-08-04T22:02:17.60819Z",
          "shell.execute_reply": "2022-08-04T22:02:17.614745Z"
        },
        "trusted": true,
        "colab": {
          "base_uri": "https://localhost:8080/"
        },
        "id": "jQ6pk4D6-cp5",
        "outputId": "49ee93df-ad8b-4406-fab0-abd19d70acbc"
      },
      "execution_count": 13,
      "outputs": [
        {
          "output_type": "execute_result",
          "data": {
            "text/plain": [
              "(15919, 54)"
            ]
          },
          "metadata": {},
          "execution_count": 13
        }
      ]
    },
    {
      "cell_type": "code",
      "source": [
        "df.isnull().sum()"
      ],
      "metadata": {
        "execution": {
          "iopub.status.busy": "2022-08-04T22:02:17.617436Z",
          "iopub.execute_input": "2022-08-04T22:02:17.618436Z",
          "iopub.status.idle": "2022-08-04T22:02:17.781219Z",
          "shell.execute_reply.started": "2022-08-04T22:02:17.618373Z",
          "shell.execute_reply": "2022-08-04T22:02:17.779194Z"
        },
        "trusted": true,
        "colab": {
          "base_uri": "https://localhost:8080/"
        },
        "id": "T9fLj2WB-cp6",
        "outputId": "fe319a12-a44e-4da6-9983-5a4ba79854ee"
      },
      "execution_count": 14,
      "outputs": [
        {
          "output_type": "execute_result",
          "data": {
            "text/plain": [
              "url                                  0\n",
              "make_model                           0\n",
              "short_description                   46\n",
              "body_type                           60\n",
              "price                                0\n",
              "vat                               4513\n",
              "km                                   0\n",
              "registration                         0\n",
              "prev_owner                        6828\n",
              "kW                               15919\n",
              "hp                                   0\n",
              "Type                                 2\n",
              "Previous Owners                   6640\n",
              "Next Inspection                  12384\n",
              "Inspection new                   11987\n",
              "Warranty                          5420\n",
              "Full Service                      7704\n",
              "Non-smoking Vehicle               8742\n",
              "null                                 0\n",
              "Make                                 0\n",
              "Model                                0\n",
              "Offer Number                      3175\n",
              "First Registration                1597\n",
              "Body Color                         597\n",
              "Paint Type                        5772\n",
              "Body Color Original               3759\n",
              "Upholstery                        3720\n",
              "Body                                60\n",
              "Nr. of Doors                       212\n",
              "Nr. of Seats                       977\n",
              "Model Code                       10941\n",
              "Gearing Type                         0\n",
              "Displacement                       496\n",
              "Cylinders                         5680\n",
              "Weight                            6974\n",
              "Drive chain                       6858\n",
              "Fuel                                 0\n",
              "Consumption                       1906\n",
              "CO2 Emission                      1808\n",
              "Emission Class                    3021\n",
              "description                          0\n",
              "Emission Label                   11934\n",
              "Gears                             4712\n",
              "Country version                   8333\n",
              "Electricity consumption          15782\n",
              "Last Service Date                15353\n",
              "Other Fuel Types                 15039\n",
              "Availability                     15284\n",
              "Last Timing Belt Service Date    15903\n",
              "Available from                   15647\n",
              "Comfort & Convenience              920\n",
              "Entertainment & Media             1374\n",
              "Extras                            2962\n",
              "Safety & Security                  982\n",
              "dtype: int64"
            ]
          },
          "metadata": {},
          "execution_count": 14
        }
      ]
    },
    {
      "cell_type": "code",
      "source": [
        "# Null Data Percentages\n",
        "def null_values(df):\n",
        "    \"\"\"a function to show null values with percentage\"\"\"\n",
        "    nv=pd.concat([df.isnull().sum(), 100 * df.isnull().sum()/df.shape[0]],axis=1).rename(columns={0:'Missing_Records', 1:'Percentage (%)'})\n",
        "    return nv[['Percentage (%)']].sort_values('Percentage (%)', ascending=False)\n",
        "null_values(df)"
      ],
      "metadata": {
        "colab": {
          "base_uri": "https://localhost:8080/",
          "height": 1000
        },
        "id": "imKhGH4xU0z2",
        "outputId": "19f91df1-223d-42f2-d2e7-db73cdc8ac93"
      },
      "execution_count": 15,
      "outputs": [
        {
          "output_type": "execute_result",
          "data": {
            "text/plain": [
              "                               Percentage (%)\n",
              "kW                                    100.000\n",
              "Last Timing Belt Service Date          99.899\n",
              "Electricity consumption                99.139\n",
              "Available from                         98.291\n",
              "Last Service Date                      96.445\n",
              "Availability                           96.011\n",
              "Other Fuel Types                       94.472\n",
              "Next Inspection                        77.794\n",
              "Inspection new                         75.300\n",
              "Emission Label                         74.967\n",
              "Model Code                             68.729\n",
              "Non-smoking Vehicle                    54.916\n",
              "Country version                        52.346\n",
              "Full Service                           48.395\n",
              "Weight                                 43.809\n",
              "Drive chain                            43.081\n",
              "prev_owner                             42.892\n",
              "Previous Owners                        41.711\n",
              "Paint Type                             36.259\n",
              "Cylinders                              35.681\n",
              "Warranty                               34.047\n",
              "Gears                                  29.600\n",
              "vat                                    28.350\n",
              "Body Color Original                    23.613\n",
              "Upholstery                             23.368\n",
              "Offer Number                           19.945\n",
              "Emission Class                         18.977\n",
              "Extras                                 18.607\n",
              "Consumption                            11.973\n",
              "CO2 Emission                           11.357\n",
              "First Registration                     10.032\n",
              "Entertainment & Media                   8.631\n",
              "Safety & Security                       6.169\n",
              "Nr. of Seats                            6.137\n",
              "Comfort & Convenience                   5.779\n",
              "Body Color                              3.750\n",
              "Displacement                            3.116\n",
              "Nr. of Doors                            1.332\n",
              "Body                                    0.377\n",
              "body_type                               0.377\n",
              "short_description                       0.289\n",
              "Type                                    0.013\n",
              "Fuel                                    0.000\n",
              "description                             0.000\n",
              "Gearing Type                            0.000\n",
              "make_model                              0.000\n",
              "Model                                   0.000\n",
              "Make                                    0.000\n",
              "null                                    0.000\n",
              "hp                                      0.000\n",
              "registration                            0.000\n",
              "km                                      0.000\n",
              "price                                   0.000\n",
              "url                                     0.000"
            ],
            "text/html": [
              "\n",
              "  <div id=\"df-3511ae62-0c39-4226-8cf7-9871fbc2401d\">\n",
              "    <div class=\"colab-df-container\">\n",
              "      <div>\n",
              "<style scoped>\n",
              "    .dataframe tbody tr th:only-of-type {\n",
              "        vertical-align: middle;\n",
              "    }\n",
              "\n",
              "    .dataframe tbody tr th {\n",
              "        vertical-align: top;\n",
              "    }\n",
              "\n",
              "    .dataframe thead th {\n",
              "        text-align: right;\n",
              "    }\n",
              "</style>\n",
              "<table border=\"1\" class=\"dataframe\">\n",
              "  <thead>\n",
              "    <tr style=\"text-align: right;\">\n",
              "      <th></th>\n",
              "      <th>Percentage (%)</th>\n",
              "    </tr>\n",
              "  </thead>\n",
              "  <tbody>\n",
              "    <tr>\n",
              "      <th>kW</th>\n",
              "      <td>100.000</td>\n",
              "    </tr>\n",
              "    <tr>\n",
              "      <th>Last Timing Belt Service Date</th>\n",
              "      <td>99.899</td>\n",
              "    </tr>\n",
              "    <tr>\n",
              "      <th>Electricity consumption</th>\n",
              "      <td>99.139</td>\n",
              "    </tr>\n",
              "    <tr>\n",
              "      <th>Available from</th>\n",
              "      <td>98.291</td>\n",
              "    </tr>\n",
              "    <tr>\n",
              "      <th>Last Service Date</th>\n",
              "      <td>96.445</td>\n",
              "    </tr>\n",
              "    <tr>\n",
              "      <th>Availability</th>\n",
              "      <td>96.011</td>\n",
              "    </tr>\n",
              "    <tr>\n",
              "      <th>Other Fuel Types</th>\n",
              "      <td>94.472</td>\n",
              "    </tr>\n",
              "    <tr>\n",
              "      <th>Next Inspection</th>\n",
              "      <td>77.794</td>\n",
              "    </tr>\n",
              "    <tr>\n",
              "      <th>Inspection new</th>\n",
              "      <td>75.300</td>\n",
              "    </tr>\n",
              "    <tr>\n",
              "      <th>Emission Label</th>\n",
              "      <td>74.967</td>\n",
              "    </tr>\n",
              "    <tr>\n",
              "      <th>Model Code</th>\n",
              "      <td>68.729</td>\n",
              "    </tr>\n",
              "    <tr>\n",
              "      <th>Non-smoking Vehicle</th>\n",
              "      <td>54.916</td>\n",
              "    </tr>\n",
              "    <tr>\n",
              "      <th>Country version</th>\n",
              "      <td>52.346</td>\n",
              "    </tr>\n",
              "    <tr>\n",
              "      <th>Full Service</th>\n",
              "      <td>48.395</td>\n",
              "    </tr>\n",
              "    <tr>\n",
              "      <th>Weight</th>\n",
              "      <td>43.809</td>\n",
              "    </tr>\n",
              "    <tr>\n",
              "      <th>Drive chain</th>\n",
              "      <td>43.081</td>\n",
              "    </tr>\n",
              "    <tr>\n",
              "      <th>prev_owner</th>\n",
              "      <td>42.892</td>\n",
              "    </tr>\n",
              "    <tr>\n",
              "      <th>Previous Owners</th>\n",
              "      <td>41.711</td>\n",
              "    </tr>\n",
              "    <tr>\n",
              "      <th>Paint Type</th>\n",
              "      <td>36.259</td>\n",
              "    </tr>\n",
              "    <tr>\n",
              "      <th>Cylinders</th>\n",
              "      <td>35.681</td>\n",
              "    </tr>\n",
              "    <tr>\n",
              "      <th>Warranty</th>\n",
              "      <td>34.047</td>\n",
              "    </tr>\n",
              "    <tr>\n",
              "      <th>Gears</th>\n",
              "      <td>29.600</td>\n",
              "    </tr>\n",
              "    <tr>\n",
              "      <th>vat</th>\n",
              "      <td>28.350</td>\n",
              "    </tr>\n",
              "    <tr>\n",
              "      <th>Body Color Original</th>\n",
              "      <td>23.613</td>\n",
              "    </tr>\n",
              "    <tr>\n",
              "      <th>Upholstery</th>\n",
              "      <td>23.368</td>\n",
              "    </tr>\n",
              "    <tr>\n",
              "      <th>Offer Number</th>\n",
              "      <td>19.945</td>\n",
              "    </tr>\n",
              "    <tr>\n",
              "      <th>Emission Class</th>\n",
              "      <td>18.977</td>\n",
              "    </tr>\n",
              "    <tr>\n",
              "      <th>Extras</th>\n",
              "      <td>18.607</td>\n",
              "    </tr>\n",
              "    <tr>\n",
              "      <th>Consumption</th>\n",
              "      <td>11.973</td>\n",
              "    </tr>\n",
              "    <tr>\n",
              "      <th>CO2 Emission</th>\n",
              "      <td>11.357</td>\n",
              "    </tr>\n",
              "    <tr>\n",
              "      <th>First Registration</th>\n",
              "      <td>10.032</td>\n",
              "    </tr>\n",
              "    <tr>\n",
              "      <th>Entertainment &amp; Media</th>\n",
              "      <td>8.631</td>\n",
              "    </tr>\n",
              "    <tr>\n",
              "      <th>Safety &amp; Security</th>\n",
              "      <td>6.169</td>\n",
              "    </tr>\n",
              "    <tr>\n",
              "      <th>Nr. of Seats</th>\n",
              "      <td>6.137</td>\n",
              "    </tr>\n",
              "    <tr>\n",
              "      <th>Comfort &amp; Convenience</th>\n",
              "      <td>5.779</td>\n",
              "    </tr>\n",
              "    <tr>\n",
              "      <th>Body Color</th>\n",
              "      <td>3.750</td>\n",
              "    </tr>\n",
              "    <tr>\n",
              "      <th>Displacement</th>\n",
              "      <td>3.116</td>\n",
              "    </tr>\n",
              "    <tr>\n",
              "      <th>Nr. of Doors</th>\n",
              "      <td>1.332</td>\n",
              "    </tr>\n",
              "    <tr>\n",
              "      <th>Body</th>\n",
              "      <td>0.377</td>\n",
              "    </tr>\n",
              "    <tr>\n",
              "      <th>body_type</th>\n",
              "      <td>0.377</td>\n",
              "    </tr>\n",
              "    <tr>\n",
              "      <th>short_description</th>\n",
              "      <td>0.289</td>\n",
              "    </tr>\n",
              "    <tr>\n",
              "      <th>Type</th>\n",
              "      <td>0.013</td>\n",
              "    </tr>\n",
              "    <tr>\n",
              "      <th>Fuel</th>\n",
              "      <td>0.000</td>\n",
              "    </tr>\n",
              "    <tr>\n",
              "      <th>description</th>\n",
              "      <td>0.000</td>\n",
              "    </tr>\n",
              "    <tr>\n",
              "      <th>Gearing Type</th>\n",
              "      <td>0.000</td>\n",
              "    </tr>\n",
              "    <tr>\n",
              "      <th>make_model</th>\n",
              "      <td>0.000</td>\n",
              "    </tr>\n",
              "    <tr>\n",
              "      <th>Model</th>\n",
              "      <td>0.000</td>\n",
              "    </tr>\n",
              "    <tr>\n",
              "      <th>Make</th>\n",
              "      <td>0.000</td>\n",
              "    </tr>\n",
              "    <tr>\n",
              "      <th>null</th>\n",
              "      <td>0.000</td>\n",
              "    </tr>\n",
              "    <tr>\n",
              "      <th>hp</th>\n",
              "      <td>0.000</td>\n",
              "    </tr>\n",
              "    <tr>\n",
              "      <th>registration</th>\n",
              "      <td>0.000</td>\n",
              "    </tr>\n",
              "    <tr>\n",
              "      <th>km</th>\n",
              "      <td>0.000</td>\n",
              "    </tr>\n",
              "    <tr>\n",
              "      <th>price</th>\n",
              "      <td>0.000</td>\n",
              "    </tr>\n",
              "    <tr>\n",
              "      <th>url</th>\n",
              "      <td>0.000</td>\n",
              "    </tr>\n",
              "  </tbody>\n",
              "</table>\n",
              "</div>\n",
              "      <button class=\"colab-df-convert\" onclick=\"convertToInteractive('df-3511ae62-0c39-4226-8cf7-9871fbc2401d')\"\n",
              "              title=\"Convert this dataframe to an interactive table.\"\n",
              "              style=\"display:none;\">\n",
              "        \n",
              "  <svg xmlns=\"http://www.w3.org/2000/svg\" height=\"24px\"viewBox=\"0 0 24 24\"\n",
              "       width=\"24px\">\n",
              "    <path d=\"M0 0h24v24H0V0z\" fill=\"none\"/>\n",
              "    <path d=\"M18.56 5.44l.94 2.06.94-2.06 2.06-.94-2.06-.94-.94-2.06-.94 2.06-2.06.94zm-11 1L8.5 8.5l.94-2.06 2.06-.94-2.06-.94L8.5 2.5l-.94 2.06-2.06.94zm10 10l.94 2.06.94-2.06 2.06-.94-2.06-.94-.94-2.06-.94 2.06-2.06.94z\"/><path d=\"M17.41 7.96l-1.37-1.37c-.4-.4-.92-.59-1.43-.59-.52 0-1.04.2-1.43.59L10.3 9.45l-7.72 7.72c-.78.78-.78 2.05 0 2.83L4 21.41c.39.39.9.59 1.41.59.51 0 1.02-.2 1.41-.59l7.78-7.78 2.81-2.81c.8-.78.8-2.07 0-2.86zM5.41 20L4 18.59l7.72-7.72 1.47 1.35L5.41 20z\"/>\n",
              "  </svg>\n",
              "      </button>\n",
              "      \n",
              "  <style>\n",
              "    .colab-df-container {\n",
              "      display:flex;\n",
              "      flex-wrap:wrap;\n",
              "      gap: 12px;\n",
              "    }\n",
              "\n",
              "    .colab-df-convert {\n",
              "      background-color: #E8F0FE;\n",
              "      border: none;\n",
              "      border-radius: 50%;\n",
              "      cursor: pointer;\n",
              "      display: none;\n",
              "      fill: #1967D2;\n",
              "      height: 32px;\n",
              "      padding: 0 0 0 0;\n",
              "      width: 32px;\n",
              "    }\n",
              "\n",
              "    .colab-df-convert:hover {\n",
              "      background-color: #E2EBFA;\n",
              "      box-shadow: 0px 1px 2px rgba(60, 64, 67, 0.3), 0px 1px 3px 1px rgba(60, 64, 67, 0.15);\n",
              "      fill: #174EA6;\n",
              "    }\n",
              "\n",
              "    [theme=dark] .colab-df-convert {\n",
              "      background-color: #3B4455;\n",
              "      fill: #D2E3FC;\n",
              "    }\n",
              "\n",
              "    [theme=dark] .colab-df-convert:hover {\n",
              "      background-color: #434B5C;\n",
              "      box-shadow: 0px 1px 3px 1px rgba(0, 0, 0, 0.15);\n",
              "      filter: drop-shadow(0px 1px 2px rgba(0, 0, 0, 0.3));\n",
              "      fill: #FFFFFF;\n",
              "    }\n",
              "  </style>\n",
              "\n",
              "      <script>\n",
              "        const buttonEl =\n",
              "          document.querySelector('#df-3511ae62-0c39-4226-8cf7-9871fbc2401d button.colab-df-convert');\n",
              "        buttonEl.style.display =\n",
              "          google.colab.kernel.accessAllowed ? 'block' : 'none';\n",
              "\n",
              "        async function convertToInteractive(key) {\n",
              "          const element = document.querySelector('#df-3511ae62-0c39-4226-8cf7-9871fbc2401d');\n",
              "          const dataTable =\n",
              "            await google.colab.kernel.invokeFunction('convertToInteractive',\n",
              "                                                     [key], {});\n",
              "          if (!dataTable) return;\n",
              "\n",
              "          const docLinkHtml = 'Like what you see? Visit the ' +\n",
              "            '<a target=\"_blank\" href=https://colab.research.google.com/notebooks/data_table.ipynb>data table notebook</a>'\n",
              "            + ' to learn more about interactive tables.';\n",
              "          element.innerHTML = '';\n",
              "          dataTable['output_type'] = 'display_data';\n",
              "          await google.colab.output.renderOutput(dataTable, element);\n",
              "          const docLink = document.createElement('div');\n",
              "          docLink.innerHTML = docLinkHtml;\n",
              "          element.appendChild(docLink);\n",
              "        }\n",
              "      </script>\n",
              "    </div>\n",
              "  </div>\n",
              "  "
            ]
          },
          "metadata": {},
          "execution_count": 15
        }
      ]
    },
    {
      "cell_type": "code",
      "source": [
        "#2.yontem\n",
        "(df.isnull().sum()/len(df)*100).sort_values(ascending=False)"
      ],
      "metadata": {
        "execution": {
          "iopub.status.busy": "2022-08-04T22:02:17.783691Z",
          "iopub.execute_input": "2022-08-04T22:02:17.784612Z",
          "iopub.status.idle": "2022-08-04T22:02:17.951689Z",
          "shell.execute_reply.started": "2022-08-04T22:02:17.784547Z",
          "shell.execute_reply": "2022-08-04T22:02:17.949952Z"
        },
        "trusted": true,
        "colab": {
          "base_uri": "https://localhost:8080/"
        },
        "id": "s7BLEG2b-cp6",
        "outputId": "18b5e9a8-8b4c-4290-e7a1-6e5dece6492f"
      },
      "execution_count": null,
      "outputs": [
        {
          "output_type": "execute_result",
          "data": {
            "text/plain": [
              "kW                              100.000\n",
              "Last Timing Belt Service Date    99.899\n",
              "Electricity consumption          99.139\n",
              "Available from                   98.291\n",
              "Last Service Date                96.445\n",
              "Availability                     96.011\n",
              "Other Fuel Types                 94.472\n",
              "Next Inspection                  77.794\n",
              "Inspection new                   75.300\n",
              "Emission Label                   74.967\n",
              "Model Code                       68.729\n",
              "Non-smoking Vehicle              54.916\n",
              "Country version                  52.346\n",
              "Full Service                     48.395\n",
              "Weight                           43.809\n",
              "Drive chain                      43.081\n",
              "prev_owner                       42.892\n",
              "Previous Owners                  41.711\n",
              "Paint Type                       36.259\n",
              "Cylinders                        35.681\n",
              "Warranty                         34.047\n",
              "Gears                            29.600\n",
              "vat                              28.350\n",
              "Body Color Original              23.613\n",
              "Upholstery                       23.368\n",
              "Offer Number                     19.945\n",
              "Emission Class                   18.977\n",
              "Extras                           18.607\n",
              "Consumption                      11.973\n",
              "CO2 Emission                     11.357\n",
              "First Registration               10.032\n",
              "Entertainment & Media             8.631\n",
              "Safety & Security                 6.169\n",
              "Nr. of Seats                      6.137\n",
              "Comfort & Convenience             5.779\n",
              "Body Color                        3.750\n",
              "Displacement                      3.116\n",
              "Nr. of Doors                      1.332\n",
              "Body                              0.377\n",
              "body_type                         0.377\n",
              "short_description                 0.289\n",
              "Type                              0.013\n",
              "Fuel                              0.000\n",
              "description                       0.000\n",
              "Gearing Type                      0.000\n",
              "make_model                        0.000\n",
              "Model                             0.000\n",
              "Make                              0.000\n",
              "null                              0.000\n",
              "hp                                0.000\n",
              "registration                      0.000\n",
              "km                                0.000\n",
              "price                             0.000\n",
              "url                               0.000\n",
              "dtype: float64"
            ]
          },
          "metadata": {},
          "execution_count": 12
        }
      ]
    },
    {
      "cell_type": "markdown",
      "source": [
        "### Droping columns that have %80 percent and higher of missing values."
      ],
      "metadata": {
        "id": "4v8OL9_i-cp7"
      }
    },
    {
      "cell_type": "code",
      "source": [
        "df.drop([\"kW\", \n",
        "         \"Last Timing Belt Service Date\", \n",
        "         \"Electricity consumption\", \n",
        "         \"Available from\", \n",
        "         \"Last Service Date\",\n",
        "         \"Availability\", \n",
        "         \"Other Fuel Types\"], axis=1, inplace=True)"
      ],
      "metadata": {
        "execution": {
          "iopub.status.busy": "2022-08-04T22:02:17.953647Z",
          "iopub.execute_input": "2022-08-04T22:02:17.955268Z",
          "iopub.status.idle": "2022-08-04T22:02:18.004655Z",
          "shell.execute_reply.started": "2022-08-04T22:02:17.955201Z",
          "shell.execute_reply": "2022-08-04T22:02:18.003145Z"
        },
        "trusted": true,
        "id": "7o88Q4T5-cp7"
      },
      "execution_count": 88,
      "outputs": []
    },
    {
      "cell_type": "code",
      "source": [
        "df.drop(\"null\", axis=1, inplace=True)"
      ],
      "metadata": {
        "execution": {
          "iopub.status.busy": "2022-08-04T22:02:18.006211Z",
          "iopub.execute_input": "2022-08-04T22:02:18.00663Z",
          "iopub.status.idle": "2022-08-04T22:02:18.054518Z",
          "shell.execute_reply.started": "2022-08-04T22:02:18.006593Z",
          "shell.execute_reply": "2022-08-04T22:02:18.052365Z"
        },
        "trusted": true,
        "id": "IBBgpCnf-cp7"
      },
      "execution_count": 89,
      "outputs": []
    },
    {
      "cell_type": "code",
      "source": [
        "df.info()"
      ],
      "metadata": {
        "execution": {
          "iopub.status.busy": "2022-08-04T22:02:18.056962Z",
          "iopub.execute_input": "2022-08-04T22:02:18.057405Z",
          "iopub.status.idle": "2022-08-04T22:02:18.214488Z",
          "shell.execute_reply.started": "2022-08-04T22:02:18.057365Z",
          "shell.execute_reply": "2022-08-04T22:02:18.21298Z"
        },
        "trusted": true,
        "colab": {
          "base_uri": "https://localhost:8080/"
        },
        "id": "aZtZNazL-cp8",
        "outputId": "8e9a5d7c-f5b0-4441-953a-3e03690fe659"
      },
      "execution_count": null,
      "outputs": [
        {
          "output_type": "stream",
          "name": "stdout",
          "text": [
            "<class 'pandas.core.frame.DataFrame'>\n",
            "RangeIndex: 15919 entries, 0 to 15918\n",
            "Data columns (total 46 columns):\n",
            " #   Column                 Non-Null Count  Dtype \n",
            "---  ------                 --------------  ----- \n",
            " 0   url                    15919 non-null  object\n",
            " 1   make_model             15919 non-null  object\n",
            " 2   short_description      15873 non-null  object\n",
            " 3   body_type              15859 non-null  object\n",
            " 4   price                  15919 non-null  int64 \n",
            " 5   vat                    11406 non-null  object\n",
            " 6   km                     15919 non-null  object\n",
            " 7   registration           15919 non-null  object\n",
            " 8   prev_owner             9091 non-null   object\n",
            " 9   hp                     15919 non-null  object\n",
            " 10  Type                   15917 non-null  object\n",
            " 11  Previous Owners        9279 non-null   object\n",
            " 12  Next Inspection        3535 non-null   object\n",
            " 13  Inspection new         3932 non-null   object\n",
            " 14  Warranty               10499 non-null  object\n",
            " 15  Full Service           8215 non-null   object\n",
            " 16  Non-smoking Vehicle    7177 non-null   object\n",
            " 17  Make                   15919 non-null  object\n",
            " 18  Model                  15919 non-null  object\n",
            " 19  Offer Number           12744 non-null  object\n",
            " 20  First Registration     14322 non-null  object\n",
            " 21  Body Color             15322 non-null  object\n",
            " 22  Paint Type             10147 non-null  object\n",
            " 23  Body Color Original    12160 non-null  object\n",
            " 24  Upholstery             12199 non-null  object\n",
            " 25  Body                   15859 non-null  object\n",
            " 26  Nr. of Doors           15707 non-null  object\n",
            " 27  Nr. of Seats           14942 non-null  object\n",
            " 28  Model Code             4978 non-null   object\n",
            " 29  Gearing Type           15919 non-null  object\n",
            " 30  Displacement           15423 non-null  object\n",
            " 31  Cylinders              10239 non-null  object\n",
            " 32  Weight                 8945 non-null   object\n",
            " 33  Drive chain            9061 non-null   object\n",
            " 34  Fuel                   15919 non-null  object\n",
            " 35  Consumption            14013 non-null  object\n",
            " 36  CO2 Emission           14111 non-null  object\n",
            " 37  Emission Class         12898 non-null  object\n",
            " 38  description            15919 non-null  object\n",
            " 39  Emission Label         3985 non-null   object\n",
            " 40  Gears                  11207 non-null  object\n",
            " 41  Country version        7586 non-null   object\n",
            " 42  Comfort & Convenience  14999 non-null  object\n",
            " 43  Entertainment & Media  14545 non-null  object\n",
            " 44  Extras                 12957 non-null  object\n",
            " 45  Safety & Security      14937 non-null  object\n",
            "dtypes: int64(1), object(45)\n",
            "memory usage: 5.6+ MB\n"
          ]
        }
      ]
    },
    {
      "cell_type": "markdown",
      "source": [
        "### url"
      ],
      "metadata": {
        "id": "J0oM48_T-cp8"
      }
    },
    {
      "cell_type": "code",
      "source": [
        "df.url.value_counts()"
      ],
      "metadata": {
        "execution": {
          "iopub.status.busy": "2022-08-04T22:02:18.216518Z",
          "iopub.execute_input": "2022-08-04T22:02:18.2171Z",
          "iopub.status.idle": "2022-08-04T22:02:18.247475Z",
          "shell.execute_reply.started": "2022-08-04T22:02:18.217048Z",
          "shell.execute_reply": "2022-08-04T22:02:18.245965Z"
        },
        "trusted": true,
        "colab": {
          "base_uri": "https://localhost:8080/"
        },
        "id": "KG1X1JYh-cp8",
        "outputId": "323ec4e2-bba0-4fd1-bc10-434277bf50be"
      },
      "execution_count": null,
      "outputs": [
        {
          "output_type": "execute_result",
          "data": {
            "text/plain": [
              "https://www.autoscout24.com//offers/audi-a1-sportback-1-4-tdi-s-tronic-xenon-navi-klima-diesel-black-bdab349a-caa5-41b0-98eb-c1345b84445e                  1\n",
              "https://www.autoscout24.com//offers/opel-insignia-bus-inno-2-0-cdti-aut-navi-bi-xe-led-e6-diesel-black-8710b253-dd98-4ed0-9d46-cbad2d79532b                1\n",
              "https://www.autoscout24.com//offers/opel-insignia-sport-tourer-opel-sport-tourer-1-6-cdti-136-ch-a-c-diesel-silver-10b7463b-9f56-4348-af35-df3432b2b585    1\n",
              "https://www.autoscout24.com//offers/opel-insignia-2-0cdti-st-business-innovation-navi-bt-diesel-black-ba5a3368-dedc-4e51-9127-3976b26e93c2                 1\n",
              "https://www.autoscout24.com//offers/opel-insignia-sport-tourer-opel-sport-tourer-1-6-cdti-136-ch-a-c-diesel-silver-7b52f054-78d3-4d5e-9370-8a7d081d7edd    1\n",
              "                                                                                                                                                          ..\n",
              "https://www.autoscout24.com//offers/audi-a3-sb-30-1-6-tdi-business-116cv-s-tronic-diesel-black-cf50f7b1-4d7b-466f-93a2-4e11ec0b4107                        1\n",
              "https://www.autoscout24.com//offers/audi-a3-sb-30-1-6-tdi-business-116cv-s-tronic-diesel-grey-3f47eb34-15c4-4763-860d-78fcbbd2c9ff                         1\n",
              "https://www.autoscout24.com//offers/audi-a3-sb-30-1-6-tdi-business-116cv-s-tronic-diesel-silver-f7a4bc95-b2ef-4bac-9497-6bcbcd05db0b                       1\n",
              "https://www.autoscout24.com//offers/audi-a3-sb-30-1-6-tdi-business-116cv-s-tronic-diesel-silver-1c94c7a2-67b5-49ca-ae42-42a6800fb3f5                       1\n",
              "https://www.autoscout24.com//offers/renault-espace-initiale-paris-tce-225-edc-gpf-navi-shz-aux-gasoline-grey-0bd690d9-7e93-4cab-bc5a-9d5b63402481          1\n",
              "Name: url, Length: 15919, dtype: int64"
            ]
          },
          "metadata": {},
          "execution_count": 16
        }
      ]
    },
    {
      "cell_type": "code",
      "source": [
        "df.drop(\"url\", axis=1, inplace=True)"
      ],
      "metadata": {
        "execution": {
          "iopub.status.busy": "2022-08-04T22:02:18.249007Z",
          "iopub.execute_input": "2022-08-04T22:02:18.249468Z",
          "iopub.status.idle": "2022-08-04T22:02:18.300497Z",
          "shell.execute_reply.started": "2022-08-04T22:02:18.249426Z",
          "shell.execute_reply": "2022-08-04T22:02:18.298728Z"
        },
        "trusted": true,
        "id": "fRCMs_kM-cp9"
      },
      "execution_count": 90,
      "outputs": []
    },
    {
      "cell_type": "markdown",
      "source": [
        "### make_model"
      ],
      "metadata": {
        "id": "84EbK6Px-cp9"
      }
    },
    {
      "cell_type": "code",
      "source": [
        "df.make_model.value_counts()"
      ],
      "metadata": {
        "execution": {
          "iopub.status.busy": "2022-08-04T22:02:18.302578Z",
          "iopub.execute_input": "2022-08-04T22:02:18.30341Z",
          "iopub.status.idle": "2022-08-04T22:02:18.324515Z",
          "shell.execute_reply.started": "2022-08-04T22:02:18.303334Z",
          "shell.execute_reply": "2022-08-04T22:02:18.323017Z"
        },
        "trusted": true,
        "colab": {
          "base_uri": "https://localhost:8080/"
        },
        "id": "xjB1yRJL-cp9",
        "outputId": "75fcbbc9-4af5-4091-df46-f19fef8b302e"
      },
      "execution_count": 16,
      "outputs": [
        {
          "output_type": "execute_result",
          "data": {
            "text/plain": [
              "Audi A3           3097\n",
              "Audi A1           2614\n",
              "Opel Insignia     2598\n",
              "Opel Astra        2526\n",
              "Opel Corsa        2219\n",
              "Renault Clio      1839\n",
              "Renault Espace     991\n",
              "Renault Duster      34\n",
              "Audi A2              1\n",
              "Name: make_model, dtype: int64"
            ]
          },
          "metadata": {},
          "execution_count": 16
        }
      ]
    },
    {
      "cell_type": "markdown",
      "source": [
        "### short_description"
      ],
      "metadata": {
        "id": "6Fi1y-UA-cp9"
      }
    },
    {
      "cell_type": "code",
      "source": [
        "df.short_description.value_counts()"
      ],
      "metadata": {
        "execution": {
          "iopub.status.busy": "2022-08-04T22:02:18.326621Z",
          "iopub.execute_input": "2022-08-04T22:02:18.327113Z",
          "iopub.status.idle": "2022-08-04T22:02:18.362974Z",
          "shell.execute_reply.started": "2022-08-04T22:02:18.32707Z",
          "shell.execute_reply": "2022-08-04T22:02:18.361038Z"
        },
        "trusted": true,
        "id": "nCIEVebU-cp9",
        "colab": {
          "base_uri": "https://localhost:8080/"
        },
        "outputId": "6b94cff9-2218-4b63-fea8-5dd88747b607"
      },
      "execution_count": 17,
      "outputs": [
        {
          "output_type": "execute_result",
          "data": {
            "text/plain": [
              "SPB 1.6 TDI 116 CV S tronic Sport                 64\n",
              "1.4 66kW (90CV) Selective                         40\n",
              "MOVE KLIMA CD USB ALLWETTER BLUETOOTH             38\n",
              "SPB 30 TDI S tronic Business                      35\n",
              "SPB 30 TFSI S tronic Admired                      35\n",
              "                                                  ..\n",
              "K Sports Tourer Business **Navi*Voll**             1\n",
              "1.0 Turbo ecoFLEX Automatic Elective Park Navi     1\n",
              "1.6 CDTI Business *Navi*Automatik*Spurh.*          1\n",
              "1.6 136 CV Automatica Navi E 6 Garanzia Full       1\n",
              "TCe 225 EDC GPF LIM Deluxe Pano,RFK                1\n",
              "Name: short_description, Length: 10001, dtype: int64"
            ]
          },
          "metadata": {},
          "execution_count": 17
        }
      ]
    },
    {
      "cell_type": "code",
      "source": [
        "df.drop(\"short_description\", axis=1, inplace=True)"
      ],
      "metadata": {
        "execution": {
          "iopub.status.busy": "2022-08-04T22:02:18.364848Z",
          "iopub.execute_input": "2022-08-04T22:02:18.365343Z",
          "iopub.status.idle": "2022-08-04T22:02:18.415627Z",
          "shell.execute_reply.started": "2022-08-04T22:02:18.365302Z",
          "shell.execute_reply": "2022-08-04T22:02:18.414003Z"
        },
        "trusted": true,
        "id": "I_eodxd9-cp-"
      },
      "execution_count": 91,
      "outputs": []
    },
    {
      "cell_type": "markdown",
      "source": [
        "### body_type"
      ],
      "metadata": {
        "id": "suOJGozM-cp-"
      }
    },
    {
      "cell_type": "code",
      "source": [
        "df.body_type.value_counts(dropna=False)"
      ],
      "metadata": {
        "execution": {
          "iopub.status.busy": "2022-08-04T22:02:18.417955Z",
          "iopub.execute_input": "2022-08-04T22:02:18.41847Z",
          "iopub.status.idle": "2022-08-04T22:02:18.43734Z",
          "shell.execute_reply.started": "2022-08-04T22:02:18.418427Z",
          "shell.execute_reply": "2022-08-04T22:02:18.436141Z"
        },
        "trusted": true,
        "colab": {
          "base_uri": "https://localhost:8080/"
        },
        "id": "w1CaTixt-cp-",
        "outputId": "e0b2b973-edf8-4230-9093-dbb08c0e28ab"
      },
      "execution_count": 19,
      "outputs": [
        {
          "output_type": "execute_result",
          "data": {
            "text/plain": [
              "Sedans           7903\n",
              "Station wagon    3553\n",
              "Compact          3153\n",
              "Van               783\n",
              "Other             290\n",
              "Transporter        88\n",
              "NaN                60\n",
              "Off-Road           56\n",
              "Coupe              25\n",
              "Convertible         8\n",
              "Name: body_type, dtype: int64"
            ]
          },
          "metadata": {},
          "execution_count": 19
        }
      ]
    },
    {
      "cell_type": "markdown",
      "source": [
        "### price"
      ],
      "metadata": {
        "id": "XmVG2nTv-cp-"
      }
    },
    {
      "cell_type": "code",
      "source": [
        "df.price.value_counts(dropna=False)"
      ],
      "metadata": {
        "execution": {
          "iopub.status.busy": "2022-08-04T22:02:18.439549Z",
          "iopub.execute_input": "2022-08-04T22:02:18.440961Z",
          "iopub.status.idle": "2022-08-04T22:02:18.454565Z",
          "shell.execute_reply.started": "2022-08-04T22:02:18.440902Z",
          "shell.execute_reply": "2022-08-04T22:02:18.453086Z"
        },
        "trusted": true,
        "colab": {
          "base_uri": "https://localhost:8080/"
        },
        "id": "LTfZeWyB-cp_",
        "outputId": "b3d1c5aa-9a1b-4e92-f124-64fc11b41ab4"
      },
      "execution_count": 20,
      "outputs": [
        {
          "output_type": "execute_result",
          "data": {
            "text/plain": [
              "14990    154\n",
              "15990    151\n",
              "10990    139\n",
              "15900    106\n",
              "17990    102\n",
              "        ... \n",
              "17559      1\n",
              "17560      1\n",
              "17570      1\n",
              "17575      1\n",
              "39875      1\n",
              "Name: price, Length: 2956, dtype: int64"
            ]
          },
          "metadata": {},
          "execution_count": 20
        }
      ]
    },
    {
      "cell_type": "markdown",
      "source": [
        "### vat"
      ],
      "metadata": {
        "id": "on4cj6ma-cp_"
      }
    },
    {
      "cell_type": "code",
      "source": [
        "df.vat.value_counts(dropna=False)"
      ],
      "metadata": {
        "execution": {
          "iopub.status.busy": "2022-08-04T22:02:18.456424Z",
          "iopub.execute_input": "2022-08-04T22:02:18.457978Z",
          "iopub.status.idle": "2022-08-04T22:02:18.475892Z",
          "shell.execute_reply.started": "2022-08-04T22:02:18.457914Z",
          "shell.execute_reply": "2022-08-04T22:02:18.47479Z"
        },
        "trusted": true,
        "colab": {
          "base_uri": "https://localhost:8080/"
        },
        "id": "aSbsM6R3-cp_",
        "outputId": "95982dd6-cc68-41f5-b678-8930d4827154"
      },
      "execution_count": 21,
      "outputs": [
        {
          "output_type": "execute_result",
          "data": {
            "text/plain": [
              "VAT deductible      10980\n",
              "NaN                  4513\n",
              "Price negotiable      426\n",
              "Name: vat, dtype: int64"
            ]
          },
          "metadata": {},
          "execution_count": 21
        }
      ]
    },
    {
      "cell_type": "markdown",
      "source": [
        "### km "
      ],
      "metadata": {
        "id": "nKS7kpyf-cp_"
      }
    },
    {
      "cell_type": "code",
      "source": [
        "df.km.value_counts(dropna=False)"
      ],
      "metadata": {
        "scrolled": true,
        "execution": {
          "iopub.status.busy": "2022-08-04T22:02:18.477566Z",
          "iopub.execute_input": "2022-08-04T22:02:18.478542Z",
          "iopub.status.idle": "2022-08-04T22:02:18.51025Z",
          "shell.execute_reply.started": "2022-08-04T22:02:18.478485Z",
          "shell.execute_reply": "2022-08-04T22:02:18.50877Z"
        },
        "trusted": true,
        "colab": {
          "base_uri": "https://localhost:8080/"
        },
        "id": "wStLcKj5-cqA",
        "outputId": "50db1541-5509-4c58-b63e-de674e66cccb"
      },
      "execution_count": 92,
      "outputs": [
        {
          "output_type": "execute_result",
          "data": {
            "text/plain": [
              "10 km        1045\n",
              "- km         1024\n",
              "1 km          367\n",
              "5 km          170\n",
              "50 km         148\n",
              "             ... \n",
              "67,469 km       1\n",
              "43,197 km       1\n",
              "10,027 km       1\n",
              "35,882 km       1\n",
              "57 km           1\n",
              "Name: km, Length: 6690, dtype: int64"
            ]
          },
          "metadata": {},
          "execution_count": 92
        }
      ]
    },
    {
      "cell_type": "code",
      "source": [
        "df.km = df.km.str.replace(\",\",\"\").str.rstrip(\" km\")"
      ],
      "metadata": {
        "execution": {
          "iopub.status.busy": "2022-08-04T22:02:18.51246Z",
          "iopub.execute_input": "2022-08-04T22:02:18.513152Z",
          "iopub.status.idle": "2022-08-04T22:02:18.553703Z",
          "shell.execute_reply.started": "2022-08-04T22:02:18.513096Z",
          "shell.execute_reply": "2022-08-04T22:02:18.552386Z"
        },
        "trusted": true,
        "id": "0S2xmteU-cqA"
      },
      "execution_count": 93,
      "outputs": []
    },
    {
      "cell_type": "code",
      "source": [
        "df.km= df.km.replace(\"-\", np.nan)"
      ],
      "metadata": {
        "execution": {
          "iopub.status.busy": "2022-08-04T22:02:18.556183Z",
          "iopub.execute_input": "2022-08-04T22:02:18.556616Z",
          "iopub.status.idle": "2022-08-04T22:02:18.566846Z",
          "shell.execute_reply.started": "2022-08-04T22:02:18.556579Z",
          "shell.execute_reply": "2022-08-04T22:02:18.565586Z"
        },
        "trusted": true,
        "id": "VcEzHPT6-cqA"
      },
      "execution_count": 94,
      "outputs": []
    },
    {
      "cell_type": "code",
      "source": [
        "df.km=df.km.astype(\"float\")"
      ],
      "metadata": {
        "execution": {
          "iopub.status.busy": "2022-08-04T22:02:18.568591Z",
          "iopub.execute_input": "2022-08-04T22:02:18.569501Z",
          "iopub.status.idle": "2022-08-04T22:02:18.615965Z",
          "shell.execute_reply.started": "2022-08-04T22:02:18.569458Z",
          "shell.execute_reply": "2022-08-04T22:02:18.614695Z"
        },
        "trusted": true,
        "id": "f4UaDk83-cqA"
      },
      "execution_count": 95,
      "outputs": []
    },
    {
      "cell_type": "code",
      "source": [
        "df.km.value_counts(dropna=False)"
      ],
      "metadata": {
        "scrolled": true,
        "execution": {
          "iopub.status.busy": "2022-08-04T22:02:18.624699Z",
          "iopub.execute_input": "2022-08-04T22:02:18.625422Z",
          "iopub.status.idle": "2022-08-04T22:02:18.64049Z",
          "shell.execute_reply.started": "2022-08-04T22:02:18.625382Z",
          "shell.execute_reply": "2022-08-04T22:02:18.639141Z"
        },
        "trusted": true,
        "colab": {
          "base_uri": "https://localhost:8080/"
        },
        "id": "EHr-IyBV-cqB",
        "outputId": "af55c1d7-ff7c-4b72-c439-ed82c760aee6"
      },
      "execution_count": 96,
      "outputs": [
        {
          "output_type": "execute_result",
          "data": {
            "text/plain": [
              "10.000       1045\n",
              "NaN          1024\n",
              "1.000         367\n",
              "5.000         170\n",
              "50.000        148\n",
              "             ... \n",
              "67469.000       1\n",
              "43197.000       1\n",
              "10027.000       1\n",
              "35882.000       1\n",
              "57.000          1\n",
              "Name: km, Length: 6690, dtype: int64"
            ]
          },
          "metadata": {},
          "execution_count": 96
        }
      ]
    },
    {
      "cell_type": "markdown",
      "source": [
        "### registration"
      ],
      "metadata": {
        "id": "DC159xmB-cqB"
      }
    },
    {
      "cell_type": "code",
      "source": [
        "df.registration.value_counts(dropna=False)"
      ],
      "metadata": {
        "execution": {
          "iopub.status.busy": "2022-08-04T22:02:18.642792Z",
          "iopub.execute_input": "2022-08-04T22:02:18.643868Z",
          "iopub.status.idle": "2022-08-04T22:02:18.661616Z",
          "shell.execute_reply.started": "2022-08-04T22:02:18.643809Z",
          "shell.execute_reply": "2022-08-04T22:02:18.660418Z"
        },
        "trusted": true,
        "colab": {
          "base_uri": "https://localhost:8080/"
        },
        "id": "IsPr-TOC-cqB",
        "outputId": "5a105fb0-c341-44c1-bd14-60e1f75d71f7"
      },
      "execution_count": 97,
      "outputs": [
        {
          "output_type": "execute_result",
          "data": {
            "text/plain": [
              "-/-        1597\n",
              "03/2018     695\n",
              "02/2019     585\n",
              "05/2018     572\n",
              "03/2019     543\n",
              "01/2019     541\n",
              "04/2018     541\n",
              "02/2018     539\n",
              "03/2016     536\n",
              "04/2016     532\n",
              "06/2018     532\n",
              "01/2018     511\n",
              "04/2019     506\n",
              "02/2016     472\n",
              "03/2017     471\n",
              "05/2016     459\n",
              "06/2016     452\n",
              "05/2019     440\n",
              "06/2017     409\n",
              "05/2017     404\n",
              "07/2018     396\n",
              "04/2017     380\n",
              "01/2016     376\n",
              "02/2017     368\n",
              "01/2017     306\n",
              "08/2018     285\n",
              "06/2019     224\n",
              "07/2017     215\n",
              "11/2017     180\n",
              "07/2016     176\n",
              "10/2016     160\n",
              "10/2017     154\n",
              "09/2017     149\n",
              "11/2016     142\n",
              "09/2018     141\n",
              "09/2016     141\n",
              "12/2016     134\n",
              "12/2017     123\n",
              "08/2017     114\n",
              "11/2018     110\n",
              "12/2018     103\n",
              "10/2018      97\n",
              "08/2016      94\n",
              "07/2019       6\n",
              "09/2019       5\n",
              "08/2019       1\n",
              "11/2019       1\n",
              "12/2019       1\n",
              "Name: registration, dtype: int64"
            ]
          },
          "metadata": {},
          "execution_count": 97
        }
      ]
    },
    {
      "cell_type": "code",
      "source": [
        "df[['registration','First_Registration']].head()"
      ],
      "metadata": {
        "colab": {
          "base_uri": "https://localhost:8080/",
          "height": 206
        },
        "id": "ZcNUvQEwdaB_",
        "outputId": "437a268b-f77e-4791-d5e1-176f641bb8cd"
      },
      "execution_count": 100,
      "outputs": [
        {
          "output_type": "execute_result",
          "data": {
            "text/plain": [
              "  registration First_Registration\n",
              "0      01/2016     [\\n, 2016, \\n]\n",
              "1      03/2017     [\\n, 2017, \\n]\n",
              "2      02/2016     [\\n, 2016, \\n]\n",
              "3      08/2016     [\\n, 2016, \\n]\n",
              "4      05/2016     [\\n, 2016, \\n]"
            ],
            "text/html": [
              "\n",
              "  <div id=\"df-82223f46-d32b-47be-a72f-4e11c1c4066f\">\n",
              "    <div class=\"colab-df-container\">\n",
              "      <div>\n",
              "<style scoped>\n",
              "    .dataframe tbody tr th:only-of-type {\n",
              "        vertical-align: middle;\n",
              "    }\n",
              "\n",
              "    .dataframe tbody tr th {\n",
              "        vertical-align: top;\n",
              "    }\n",
              "\n",
              "    .dataframe thead th {\n",
              "        text-align: right;\n",
              "    }\n",
              "</style>\n",
              "<table border=\"1\" class=\"dataframe\">\n",
              "  <thead>\n",
              "    <tr style=\"text-align: right;\">\n",
              "      <th></th>\n",
              "      <th>registration</th>\n",
              "      <th>First_Registration</th>\n",
              "    </tr>\n",
              "  </thead>\n",
              "  <tbody>\n",
              "    <tr>\n",
              "      <th>0</th>\n",
              "      <td>01/2016</td>\n",
              "      <td>[\\n, 2016, \\n]</td>\n",
              "    </tr>\n",
              "    <tr>\n",
              "      <th>1</th>\n",
              "      <td>03/2017</td>\n",
              "      <td>[\\n, 2017, \\n]</td>\n",
              "    </tr>\n",
              "    <tr>\n",
              "      <th>2</th>\n",
              "      <td>02/2016</td>\n",
              "      <td>[\\n, 2016, \\n]</td>\n",
              "    </tr>\n",
              "    <tr>\n",
              "      <th>3</th>\n",
              "      <td>08/2016</td>\n",
              "      <td>[\\n, 2016, \\n]</td>\n",
              "    </tr>\n",
              "    <tr>\n",
              "      <th>4</th>\n",
              "      <td>05/2016</td>\n",
              "      <td>[\\n, 2016, \\n]</td>\n",
              "    </tr>\n",
              "  </tbody>\n",
              "</table>\n",
              "</div>\n",
              "      <button class=\"colab-df-convert\" onclick=\"convertToInteractive('df-82223f46-d32b-47be-a72f-4e11c1c4066f')\"\n",
              "              title=\"Convert this dataframe to an interactive table.\"\n",
              "              style=\"display:none;\">\n",
              "        \n",
              "  <svg xmlns=\"http://www.w3.org/2000/svg\" height=\"24px\"viewBox=\"0 0 24 24\"\n",
              "       width=\"24px\">\n",
              "    <path d=\"M0 0h24v24H0V0z\" fill=\"none\"/>\n",
              "    <path d=\"M18.56 5.44l.94 2.06.94-2.06 2.06-.94-2.06-.94-.94-2.06-.94 2.06-2.06.94zm-11 1L8.5 8.5l.94-2.06 2.06-.94-2.06-.94L8.5 2.5l-.94 2.06-2.06.94zm10 10l.94 2.06.94-2.06 2.06-.94-2.06-.94-.94-2.06-.94 2.06-2.06.94z\"/><path d=\"M17.41 7.96l-1.37-1.37c-.4-.4-.92-.59-1.43-.59-.52 0-1.04.2-1.43.59L10.3 9.45l-7.72 7.72c-.78.78-.78 2.05 0 2.83L4 21.41c.39.39.9.59 1.41.59.51 0 1.02-.2 1.41-.59l7.78-7.78 2.81-2.81c.8-.78.8-2.07 0-2.86zM5.41 20L4 18.59l7.72-7.72 1.47 1.35L5.41 20z\"/>\n",
              "  </svg>\n",
              "      </button>\n",
              "      \n",
              "  <style>\n",
              "    .colab-df-container {\n",
              "      display:flex;\n",
              "      flex-wrap:wrap;\n",
              "      gap: 12px;\n",
              "    }\n",
              "\n",
              "    .colab-df-convert {\n",
              "      background-color: #E8F0FE;\n",
              "      border: none;\n",
              "      border-radius: 50%;\n",
              "      cursor: pointer;\n",
              "      display: none;\n",
              "      fill: #1967D2;\n",
              "      height: 32px;\n",
              "      padding: 0 0 0 0;\n",
              "      width: 32px;\n",
              "    }\n",
              "\n",
              "    .colab-df-convert:hover {\n",
              "      background-color: #E2EBFA;\n",
              "      box-shadow: 0px 1px 2px rgba(60, 64, 67, 0.3), 0px 1px 3px 1px rgba(60, 64, 67, 0.15);\n",
              "      fill: #174EA6;\n",
              "    }\n",
              "\n",
              "    [theme=dark] .colab-df-convert {\n",
              "      background-color: #3B4455;\n",
              "      fill: #D2E3FC;\n",
              "    }\n",
              "\n",
              "    [theme=dark] .colab-df-convert:hover {\n",
              "      background-color: #434B5C;\n",
              "      box-shadow: 0px 1px 3px 1px rgba(0, 0, 0, 0.15);\n",
              "      filter: drop-shadow(0px 1px 2px rgba(0, 0, 0, 0.3));\n",
              "      fill: #FFFFFF;\n",
              "    }\n",
              "  </style>\n",
              "\n",
              "      <script>\n",
              "        const buttonEl =\n",
              "          document.querySelector('#df-82223f46-d32b-47be-a72f-4e11c1c4066f button.colab-df-convert');\n",
              "        buttonEl.style.display =\n",
              "          google.colab.kernel.accessAllowed ? 'block' : 'none';\n",
              "\n",
              "        async function convertToInteractive(key) {\n",
              "          const element = document.querySelector('#df-82223f46-d32b-47be-a72f-4e11c1c4066f');\n",
              "          const dataTable =\n",
              "            await google.colab.kernel.invokeFunction('convertToInteractive',\n",
              "                                                     [key], {});\n",
              "          if (!dataTable) return;\n",
              "\n",
              "          const docLinkHtml = 'Like what you see? Visit the ' +\n",
              "            '<a target=\"_blank\" href=https://colab.research.google.com/notebooks/data_table.ipynb>data table notebook</a>'\n",
              "            + ' to learn more about interactive tables.';\n",
              "          element.innerHTML = '';\n",
              "          dataTable['output_type'] = 'display_data';\n",
              "          await google.colab.output.renderOutput(dataTable, element);\n",
              "          const docLink = document.createElement('div');\n",
              "          docLink.innerHTML = docLinkHtml;\n",
              "          element.appendChild(docLink);\n",
              "        }\n",
              "      </script>\n",
              "    </div>\n",
              "  </div>\n",
              "  "
            ]
          },
          "metadata": {},
          "execution_count": 100
        }
      ]
    },
    {
      "cell_type": "code",
      "source": [
        "df[\"First_Registration\"]= df[\"First Registration\"]"
      ],
      "metadata": {
        "execution": {
          "iopub.status.busy": "2022-08-04T22:02:18.663153Z",
          "iopub.execute_input": "2022-08-04T22:02:18.664298Z",
          "iopub.status.idle": "2022-08-04T22:02:18.797029Z",
          "shell.execute_reply.started": "2022-08-04T22:02:18.664256Z",
          "shell.execute_reply": "2022-08-04T22:02:18.795176Z"
        },
        "trusted": true,
        "id": "W0axwcbR-cqB"
      },
      "execution_count": 99,
      "outputs": []
    },
    {
      "cell_type": "code",
      "source": [
        "df.First_Registration.isnull().sum()"
      ],
      "metadata": {
        "colab": {
          "base_uri": "https://localhost:8080/"
        },
        "id": "PTJhXdjta_iL",
        "outputId": "81716b0c-13e0-4e93-bd0d-2e9cf78487b6"
      },
      "execution_count": 107,
      "outputs": [
        {
          "output_type": "execute_result",
          "data": {
            "text/plain": [
              "1597"
            ]
          },
          "metadata": {},
          "execution_count": 107
        }
      ]
    },
    {
      "cell_type": "markdown",
      "source": [
        "Since the month is not important in the vehicle model year review, the registration will be droped and the first registration will be continued."
      ],
      "metadata": {
        "id": "emqtX0Sn-cqC"
      }
    },
    {
      "cell_type": "code",
      "source": [
        "df.drop(\"registration\", axis=1, inplace=True)"
      ],
      "metadata": {
        "execution": {
          "iopub.status.busy": "2022-08-04T22:02:18.799286Z",
          "iopub.execute_input": "2022-08-04T22:02:18.799832Z",
          "iopub.status.idle": "2022-08-04T22:02:18.846657Z",
          "shell.execute_reply.started": "2022-08-04T22:02:18.799785Z",
          "shell.execute_reply": "2022-08-04T22:02:18.84548Z"
        },
        "trusted": true,
        "id": "j8AJM8KT-cqC"
      },
      "execution_count": 108,
      "outputs": []
    },
    {
      "cell_type": "markdown",
      "source": [
        "### prev_owner & Previous_Owners"
      ],
      "metadata": {
        "id": "tEwVadi--cqC"
      }
    },
    {
      "cell_type": "code",
      "source": [
        "df.prev_owner.value_counts(dropna=False)"
      ],
      "metadata": {
        "scrolled": true,
        "execution": {
          "iopub.status.busy": "2022-08-04T22:02:18.84856Z",
          "iopub.execute_input": "2022-08-04T22:02:18.849709Z",
          "iopub.status.idle": "2022-08-04T22:02:18.866558Z",
          "shell.execute_reply.started": "2022-08-04T22:02:18.849656Z",
          "shell.execute_reply": "2022-08-04T22:02:18.864662Z"
        },
        "trusted": true,
        "colab": {
          "base_uri": "https://localhost:8080/"
        },
        "id": "rFi39yAy-cqC",
        "outputId": "cc9236ef-eae7-4f9a-de66-a36723dd7b81"
      },
      "execution_count": 109,
      "outputs": [
        {
          "output_type": "execute_result",
          "data": {
            "text/plain": [
              "1 previous owner     8294\n",
              "NaN                  6828\n",
              "2 previous owners     778\n",
              "3 previous owners      17\n",
              "4 previous owners       2\n",
              "Name: prev_owner, dtype: int64"
            ]
          },
          "metadata": {},
          "execution_count": 109
        }
      ]
    },
    {
      "cell_type": "code",
      "source": [
        "#df.Previous Owners.isnull().sum()"
      ],
      "metadata": {
        "scrolled": true,
        "execution": {
          "iopub.status.busy": "2022-08-04T22:02:18.868204Z",
          "iopub.execute_input": "2022-08-04T22:02:18.86907Z",
          "iopub.status.idle": "2022-08-04T22:02:18.911482Z",
          "shell.execute_reply.started": "2022-08-04T22:02:18.869024Z",
          "shell.execute_reply": "2022-08-04T22:02:18.910167Z"
        },
        "trusted": true,
        "id": "tIZFvjWF-cqC"
      },
      "execution_count": 119,
      "outputs": []
    },
    {
      "cell_type": "code",
      "source": [
        "df[\"Previous_Owners\"] = [item[0] if type(item) == list else item for item in df[\"Previous Owners\"]]\n",
        "df[\"Previous_Owners\"]"
      ],
      "metadata": {
        "execution": {
          "iopub.status.busy": "2022-08-04T22:02:18.913127Z",
          "iopub.execute_input": "2022-08-04T22:02:18.913773Z",
          "iopub.status.idle": "2022-08-04T22:02:18.938164Z",
          "shell.execute_reply.started": "2022-08-04T22:02:18.913733Z",
          "shell.execute_reply": "2022-08-04T22:02:18.936518Z"
        },
        "trusted": true,
        "colab": {
          "base_uri": "https://localhost:8080/"
        },
        "id": "WYHXeZu7-cqD",
        "outputId": "5c360d45-db07-4e07-def0-898f2fdcd66b"
      },
      "execution_count": 111,
      "outputs": [
        {
          "output_type": "execute_result",
          "data": {
            "text/plain": [
              "0        \\n2\\n\n",
              "1          NaN\n",
              "2        \\n1\\n\n",
              "3        \\n1\\n\n",
              "4        \\n1\\n\n",
              "         ...  \n",
              "15914      NaN\n",
              "15915    \\n1\\n\n",
              "15916    \\n1\\n\n",
              "15917      NaN\n",
              "15918    \\n1\\n\n",
              "Name: Previous_Owners, Length: 15919, dtype: object"
            ]
          },
          "metadata": {},
          "execution_count": 111
        }
      ]
    },
    {
      "cell_type": "code",
      "source": [
        "df[\"Previous_Owners\"] = df[\"Previous_Owners\"].str.strip(\"\\n\").astype('float')"
      ],
      "metadata": {
        "execution": {
          "iopub.status.busy": "2022-08-04T22:02:18.941394Z",
          "iopub.execute_input": "2022-08-04T22:02:18.942618Z",
          "iopub.status.idle": "2022-08-04T22:02:18.965973Z",
          "shell.execute_reply.started": "2022-08-04T22:02:18.942554Z",
          "shell.execute_reply": "2022-08-04T22:02:18.964384Z"
        },
        "trusted": true,
        "id": "PZYb3NjR-cqD"
      },
      "execution_count": 112,
      "outputs": []
    },
    {
      "cell_type": "code",
      "source": [
        "df[\"Previous_Owners\"].value_counts(dropna=False)"
      ],
      "metadata": {
        "execution": {
          "iopub.status.busy": "2022-08-04T22:02:18.967721Z",
          "iopub.execute_input": "2022-08-04T22:02:18.968246Z",
          "iopub.status.idle": "2022-08-04T22:02:18.985011Z",
          "shell.execute_reply.started": "2022-08-04T22:02:18.968193Z",
          "shell.execute_reply": "2022-08-04T22:02:18.983591Z"
        },
        "trusted": true,
        "colab": {
          "base_uri": "https://localhost:8080/"
        },
        "id": "cEozihIM-cqD",
        "outputId": "8c1af31f-f77a-4dc1-a23f-fe1fa5794c56"
      },
      "execution_count": 113,
      "outputs": [
        {
          "output_type": "execute_result",
          "data": {
            "text/plain": [
              "1.000    8294\n",
              "NaN      6640\n",
              "2.000     778\n",
              "0.000     188\n",
              "3.000      17\n",
              "4.000       2\n",
              "Name: Previous_Owners, dtype: int64"
            ]
          },
          "metadata": {},
          "execution_count": 113
        }
      ]
    },
    {
      "cell_type": "code",
      "source": [
        "df.drop([\"prev_owner\", \"Previous Owners\"], axis=1, inplace=True)"
      ],
      "metadata": {
        "execution": {
          "iopub.status.busy": "2022-08-04T22:02:18.986639Z",
          "iopub.execute_input": "2022-08-04T22:02:18.987172Z",
          "iopub.status.idle": "2022-08-04T22:02:19.032302Z",
          "shell.execute_reply.started": "2022-08-04T22:02:18.987129Z",
          "shell.execute_reply": "2022-08-04T22:02:19.030932Z"
        },
        "trusted": true,
        "id": "K9S5-Xf6-cqD"
      },
      "execution_count": 114,
      "outputs": []
    },
    {
      "cell_type": "code",
      "source": [
        "type(df[\"Previous_Owners\"][0])"
      ],
      "metadata": {
        "execution": {
          "iopub.status.busy": "2022-08-04T22:02:19.034246Z",
          "iopub.execute_input": "2022-08-04T22:02:19.034641Z",
          "iopub.status.idle": "2022-08-04T22:02:19.043319Z",
          "shell.execute_reply.started": "2022-08-04T22:02:19.034608Z",
          "shell.execute_reply": "2022-08-04T22:02:19.041857Z"
        },
        "trusted": true,
        "colab": {
          "base_uri": "https://localhost:8080/"
        },
        "id": "GfI2mP---cqE",
        "outputId": "24ea3d17-c372-49f2-86a4-8bb1595b520d"
      },
      "execution_count": 115,
      "outputs": [
        {
          "output_type": "execute_result",
          "data": {
            "text/plain": [
              "numpy.float64"
            ]
          },
          "metadata": {},
          "execution_count": 115
        }
      ]
    },
    {
      "cell_type": "code",
      "source": [
        "df[\"Previous_Owners\"].value_counts(dropna=False)"
      ],
      "metadata": {
        "execution": {
          "iopub.status.busy": "2022-08-04T22:02:19.045633Z",
          "iopub.execute_input": "2022-08-04T22:02:19.047455Z",
          "iopub.status.idle": "2022-08-04T22:02:19.064667Z",
          "shell.execute_reply.started": "2022-08-04T22:02:19.047389Z",
          "shell.execute_reply": "2022-08-04T22:02:19.062919Z"
        },
        "trusted": true,
        "colab": {
          "base_uri": "https://localhost:8080/"
        },
        "id": "wEE3Okgt-cqE",
        "outputId": "1c3029c7-9055-419a-dffd-3cb856da05ed"
      },
      "execution_count": 116,
      "outputs": [
        {
          "output_type": "execute_result",
          "data": {
            "text/plain": [
              "1.000    8294\n",
              "NaN      6640\n",
              "2.000     778\n",
              "0.000     188\n",
              "3.000      17\n",
              "4.000       2\n",
              "Name: Previous_Owners, dtype: int64"
            ]
          },
          "metadata": {},
          "execution_count": 116
        }
      ]
    },
    {
      "cell_type": "markdown",
      "source": [
        "### hp"
      ],
      "metadata": {
        "id": "zbwbgTvG-cqE"
      }
    },
    {
      "cell_type": "code",
      "source": [
        "df.hp.value_counts(dropna=False)"
      ],
      "metadata": {
        "scrolled": true,
        "execution": {
          "iopub.status.busy": "2022-08-04T22:02:19.06672Z",
          "iopub.execute_input": "2022-08-04T22:02:19.067985Z",
          "iopub.status.idle": "2022-08-04T22:02:19.084893Z",
          "shell.execute_reply.started": "2022-08-04T22:02:19.067938Z",
          "shell.execute_reply": "2022-08-04T22:02:19.083812Z"
        },
        "trusted": true,
        "colab": {
          "base_uri": "https://localhost:8080/"
        },
        "id": "RtvbVo4M-cqF",
        "outputId": "15c4cc31-f038-4099-bda3-8f8c402e8306"
      },
      "execution_count": 120,
      "outputs": [
        {
          "output_type": "execute_result",
          "data": {
            "text/plain": [
              "85 kW     2542\n",
              "66 kW     2122\n",
              "81 kW     1402\n",
              "100 kW    1308\n",
              "110 kW    1112\n",
              "70 kW      888\n",
              "125 kW     707\n",
              "51 kW      695\n",
              "55 kW      569\n",
              "118 kW     516\n",
              "92 kW      466\n",
              "121 kW     392\n",
              "147 kW     380\n",
              "77 kW      345\n",
              "56 kW      286\n",
              "54 kW      276\n",
              "103 kW     253\n",
              "87 kW      232\n",
              "165 kW     194\n",
              "88 kW      177\n",
              "60 kW      160\n",
              "162 kW      98\n",
              "- kW        88\n",
              "74 kW       81\n",
              "96 kW       72\n",
              "71 kW       59\n",
              "101 kW      47\n",
              "67 kW       40\n",
              "154 kW      39\n",
              "122 kW      35\n",
              "119 kW      30\n",
              "164 kW      27\n",
              "135 kW      24\n",
              "82 kW       22\n",
              "52 kW       22\n",
              "78 kW       20\n",
              "1 kW        20\n",
              "294 kW      18\n",
              "146 kW      18\n",
              "141 kW      16\n",
              "57 kW       10\n",
              "104 kW       8\n",
              "120 kW       8\n",
              "191 kW       7\n",
              "112 kW       7\n",
              "155 kW       6\n",
              "117 kW       6\n",
              "184 kW       5\n",
              "90 kW        4\n",
              "76 kW        4\n",
              "65 kW        4\n",
              "149 kW       3\n",
              "80 kW        3\n",
              "168 kW       3\n",
              "98 kW        3\n",
              "93 kW        3\n",
              "228 kW       2\n",
              "270 kW       2\n",
              "53 kW        2\n",
              "140 kW       2\n",
              "86 kW        2\n",
              "167 kW       2\n",
              "127 kW       2\n",
              "89 kW        2\n",
              "143 kW       2\n",
              "63 kW        2\n",
              "40 kW        2\n",
              "150 kW       2\n",
              "163 kW       1\n",
              "115 kW       1\n",
              "132 kW       1\n",
              "75 kW        1\n",
              "4 kW         1\n",
              "137 kW       1\n",
              "123 kW       1\n",
              "133 kW       1\n",
              "84 kW        1\n",
              "195 kW       1\n",
              "44 kW        1\n",
              "239 kW       1\n",
              "9 kW         1\n",
              "Name: hp, dtype: int64"
            ]
          },
          "metadata": {},
          "execution_count": 120
        }
      ]
    },
    {
      "cell_type": "code",
      "source": [
        "df[\"hp_kW\"] = df.hp.str.rstrip(\" kW\")"
      ],
      "metadata": {
        "execution": {
          "iopub.status.busy": "2022-08-04T22:02:19.086796Z",
          "iopub.execute_input": "2022-08-04T22:02:19.087234Z",
          "iopub.status.idle": "2022-08-04T22:02:19.116821Z",
          "shell.execute_reply.started": "2022-08-04T22:02:19.087195Z",
          "shell.execute_reply": "2022-08-04T22:02:19.115653Z"
        },
        "trusted": true,
        "id": "txj_grEX-cqF"
      },
      "execution_count": 121,
      "outputs": []
    },
    {
      "cell_type": "code",
      "source": [
        "df[\"hp_kW\"] = df.hp_kW.replace(\"-\", np.nan)"
      ],
      "metadata": {
        "execution": {
          "iopub.status.busy": "2022-08-04T22:02:19.118828Z",
          "iopub.execute_input": "2022-08-04T22:02:19.119455Z",
          "iopub.status.idle": "2022-08-04T22:02:19.131105Z",
          "shell.execute_reply.started": "2022-08-04T22:02:19.1194Z",
          "shell.execute_reply": "2022-08-04T22:02:19.129805Z"
        },
        "trusted": true,
        "id": "jvVJNyuj-cqF"
      },
      "execution_count": 122,
      "outputs": []
    },
    {
      "cell_type": "code",
      "source": [
        "df[\"hp_kW\"] =df.hp_kW.astype(\"float\")"
      ],
      "metadata": {
        "execution": {
          "iopub.status.busy": "2022-08-04T22:02:19.132952Z",
          "iopub.execute_input": "2022-08-04T22:02:19.133367Z",
          "iopub.status.idle": "2022-08-04T22:02:19.148136Z",
          "shell.execute_reply.started": "2022-08-04T22:02:19.133332Z",
          "shell.execute_reply": "2022-08-04T22:02:19.146653Z"
        },
        "trusted": true,
        "id": "SSJWxnnF-cqG"
      },
      "execution_count": 123,
      "outputs": []
    },
    {
      "cell_type": "code",
      "source": [
        "df.drop(\"hp\", axis=1, inplace=True)"
      ],
      "metadata": {
        "execution": {
          "iopub.status.busy": "2022-08-04T22:02:19.150047Z",
          "iopub.execute_input": "2022-08-04T22:02:19.150584Z",
          "iopub.status.idle": "2022-08-04T22:02:19.184661Z",
          "shell.execute_reply.started": "2022-08-04T22:02:19.150545Z",
          "shell.execute_reply": "2022-08-04T22:02:19.183261Z"
        },
        "trusted": true,
        "id": "tCKqYWSO-cqG"
      },
      "execution_count": 124,
      "outputs": []
    },
    {
      "cell_type": "markdown",
      "source": [
        "### Type"
      ],
      "metadata": {
        "id": "8-gUrIfO-cqG"
      }
    },
    {
      "cell_type": "code",
      "source": [
        "df[\"Type\"].value_counts()"
      ],
      "metadata": {
        "execution": {
          "iopub.status.busy": "2022-08-04T22:02:19.186375Z",
          "iopub.execute_input": "2022-08-04T22:02:19.187213Z",
          "iopub.status.idle": "2022-08-04T22:02:19.257614Z",
          "shell.execute_reply.started": "2022-08-04T22:02:19.187171Z",
          "shell.execute_reply": "2022-08-04T22:02:19.256163Z"
        },
        "trusted": true,
        "colab": {
          "base_uri": "https://localhost:8080/",
          "height": 425
        },
        "id": "8uetyJ7m-cqH",
        "outputId": "978ecdb3-8e96-4f5a-c63f-2b8d4b9f04bf"
      },
      "execution_count": 125,
      "outputs": [
        {
          "output_type": "error",
          "ename": "TypeError",
          "evalue": "ignored",
          "traceback": [
            "\u001b[0;31m---------------------------------------------------------------------------\u001b[0m",
            "\u001b[0;31mTypeError\u001b[0m                                 Traceback (most recent call last)",
            "\u001b[0;32mpandas/_libs/hashtable_class_helper.pxi\u001b[0m in \u001b[0;36mpandas._libs.hashtable.PyObjectHashTable.map_locations\u001b[0;34m()\u001b[0m\n",
            "\u001b[0;31mTypeError\u001b[0m: unhashable type: 'list'"
          ]
        },
        {
          "output_type": "stream",
          "name": "stderr",
          "text": [
            "Exception ignored in: 'pandas._libs.index.IndexEngine._call_map_locations'\n",
            "Traceback (most recent call last):\n",
            "  File \"pandas/_libs/hashtable_class_helper.pxi\", line 5231, in pandas._libs.hashtable.PyObjectHashTable.map_locations\n",
            "TypeError: unhashable type: 'list'\n"
          ]
        },
        {
          "output_type": "execute_result",
          "data": {
            "text/plain": [
              "[, Used, , Diesel (Particulate Filter)]                                                                                 3475\n",
              "[, Used, , Diesel]                                                                                                      2516\n",
              "[, Used, , Gasoline]                                                                                                    2367\n",
              "[, Used, , Super 95]                                                                                                    1818\n",
              "[, Pre-registered, , Super 95]                                                                                           500\n",
              "                                                                                                                        ... \n",
              "[, New, , Regular/Benzine 91 / Super 95 / Super Plus 98 / Regular/Benzine E10 91 / Super Plus E10 98 / Super E10 95]       1\n",
              "[, Used, , Super 95 / Super Plus 98 / Super E10 95 / Super Plus E10 98 (Particulate Filter)]                               1\n",
              "[, Demonstration, , Super Plus 98]                                                                                         1\n",
              "[, New, , Super Plus E10 98]                                                                                               1\n",
              "[, Demonstration, , Regular/Benzine E10 91]                                                                                1\n",
              "Name: Type, Length: 169, dtype: int64"
            ]
          },
          "metadata": {},
          "execution_count": 125
        }
      ]
    },
    {
      "cell_type": "code",
      "source": [
        "df[\"Type\"] = df.Type.str[1]"
      ],
      "metadata": {
        "execution": {
          "iopub.status.busy": "2022-08-04T22:02:19.259586Z",
          "iopub.execute_input": "2022-08-04T22:02:19.260157Z",
          "iopub.status.idle": "2022-08-04T22:02:19.297358Z",
          "shell.execute_reply.started": "2022-08-04T22:02:19.260106Z",
          "shell.execute_reply": "2022-08-04T22:02:19.296193Z"
        },
        "trusted": true,
        "id": "XThZWts6-cqH"
      },
      "execution_count": 126,
      "outputs": []
    },
    {
      "cell_type": "code",
      "source": [
        "df.Type.value_counts(dropna=False)"
      ],
      "metadata": {
        "execution": {
          "iopub.status.busy": "2022-08-04T22:02:19.29873Z",
          "iopub.execute_input": "2022-08-04T22:02:19.300206Z",
          "iopub.status.idle": "2022-08-04T22:02:19.319342Z",
          "shell.execute_reply.started": "2022-08-04T22:02:19.300134Z",
          "shell.execute_reply": "2022-08-04T22:02:19.317487Z"
        },
        "trusted": true,
        "id": "MeNVKMip-cqH",
        "colab": {
          "base_uri": "https://localhost:8080/"
        },
        "outputId": "193cf72b-9c0f-41f7-83a1-9fbcfa3c544c"
      },
      "execution_count": 127,
      "outputs": [
        {
          "output_type": "execute_result",
          "data": {
            "text/plain": [
              "Used              11096\n",
              "New                1650\n",
              "Pre-registered     1364\n",
              "Employee's car     1011\n",
              "Demonstration       796\n",
              "NaN                   2\n",
              "Name: Type, dtype: int64"
            ]
          },
          "metadata": {},
          "execution_count": 127
        }
      ]
    },
    {
      "cell_type": "markdown",
      "source": [
        "### Next Inspection "
      ],
      "metadata": {
        "id": "Wxc1B2E7-cqI"
      }
    },
    {
      "cell_type": "code",
      "source": [
        "df[\"Next Inspection\"].value_counts()"
      ],
      "metadata": {
        "scrolled": true,
        "execution": {
          "iopub.status.busy": "2022-08-04T22:02:19.321822Z",
          "iopub.execute_input": "2022-08-04T22:02:19.323034Z",
          "iopub.status.idle": "2022-08-04T22:02:19.592589Z",
          "shell.execute_reply.started": "2022-08-04T22:02:19.322972Z",
          "shell.execute_reply": "2022-08-04T22:02:19.591151Z"
        },
        "trusted": true,
        "id": "LE7KHCWm-cqI",
        "colab": {
          "base_uri": "https://localhost:8080/",
          "height": 425
        },
        "outputId": "aa40af46-fb50-4b0b-ed7e-9661d3a3df3f"
      },
      "execution_count": 128,
      "outputs": [
        {
          "output_type": "error",
          "ename": "TypeError",
          "evalue": "ignored",
          "traceback": [
            "\u001b[0;31m---------------------------------------------------------------------------\u001b[0m",
            "\u001b[0;31mTypeError\u001b[0m                                 Traceback (most recent call last)",
            "\u001b[0;32mpandas/_libs/hashtable_class_helper.pxi\u001b[0m in \u001b[0;36mpandas._libs.hashtable.PyObjectHashTable.map_locations\u001b[0;34m()\u001b[0m\n",
            "\u001b[0;31mTypeError\u001b[0m: unhashable type: 'list'"
          ]
        },
        {
          "output_type": "stream",
          "name": "stderr",
          "text": [
            "Exception ignored in: 'pandas._libs.index.IndexEngine._call_map_locations'\n",
            "Traceback (most recent call last):\n",
            "  File \"pandas/_libs/hashtable_class_helper.pxi\", line 5231, in pandas._libs.hashtable.PyObjectHashTable.map_locations\n",
            "TypeError: unhashable type: 'list'\n"
          ]
        },
        {
          "output_type": "execute_result",
          "data": {
            "text/plain": [
              "\\n04/2022\\n                               62\n",
              "\\n03/2021\\n                               38\n",
              "\\n03/2022\\n                               36\n",
              "\\n06/2021\\n                               34\n",
              "\\n01/2022\\n                               32\n",
              "                                          ..\n",
              "[\\n12/2018\\n, \\n97 g CO2/km (comb)\\n]      1\n",
              "[\\n03/2022\\n, \\n1 (No sticker)\\n]          1\n",
              "[\\n05/2021\\n, \\n93 g CO2/km (comb)\\n]      1\n",
              "[\\n06/2021\\n, \\n93 g CO2/km (comb)\\n]      1\n",
              "[\\n01/2022\\n, \\n168 g CO2/km (comb)\\n]     1\n",
              "Name: Next Inspection, Length: 1399, dtype: int64"
            ]
          },
          "metadata": {},
          "execution_count": 128
        }
      ]
    },
    {
      "cell_type": "code",
      "source": [
        "df[\"Inspection new\"].value_counts()"
      ],
      "metadata": {
        "scrolled": true,
        "execution": {
          "iopub.status.busy": "2022-08-04T22:02:19.595045Z",
          "iopub.execute_input": "2022-08-04T22:02:19.596409Z",
          "iopub.status.idle": "2022-08-04T22:02:19.643463Z",
          "shell.execute_reply.started": "2022-08-04T22:02:19.596348Z",
          "shell.execute_reply": "2022-08-04T22:02:19.641972Z"
        },
        "trusted": true,
        "id": "AsmorKUj-cqI",
        "colab": {
          "base_uri": "https://localhost:8080/",
          "height": 425
        },
        "outputId": "1dfe1806-cabf-42b7-9ec0-9af2fc94e053"
      },
      "execution_count": 129,
      "outputs": [
        {
          "output_type": "error",
          "ename": "TypeError",
          "evalue": "ignored",
          "traceback": [
            "\u001b[0;31m---------------------------------------------------------------------------\u001b[0m",
            "\u001b[0;31mTypeError\u001b[0m                                 Traceback (most recent call last)",
            "\u001b[0;32mpandas/_libs/hashtable_class_helper.pxi\u001b[0m in \u001b[0;36mpandas._libs.hashtable.PyObjectHashTable.map_locations\u001b[0;34m()\u001b[0m\n",
            "\u001b[0;31mTypeError\u001b[0m: unhashable type: 'list'"
          ]
        },
        {
          "output_type": "stream",
          "name": "stderr",
          "text": [
            "Exception ignored in: 'pandas._libs.index.IndexEngine._call_map_locations'\n",
            "Traceback (most recent call last):\n",
            "  File \"pandas/_libs/hashtable_class_helper.pxi\", line 5231, in pandas._libs.hashtable.PyObjectHashTable.map_locations\n",
            "TypeError: unhashable type: 'list'\n"
          ]
        },
        {
          "output_type": "execute_result",
          "data": {
            "text/plain": [
              "[\\nYes\\n, \\nEuro 6\\n]                                                                          523\n",
              "\\nYes\\n                                                                                        362\n",
              "[\\nYes\\n, \\n102 g CO2/km (comb)\\n]                                                             174\n",
              "[\\nYes\\n, \\n4 (Green)\\n]                                                                       166\n",
              "[\\nYes\\n, \\nEuro 6d-TEMP\\n]                                                                    134\n",
              "                                                                                              ... \n",
              "[\\nYes\\n, \\n, 5.2 l/100 km (comb), \\n, 6.7 l/100 km (city), \\n, 4.2 l/100 km (country), \\n]      1\n",
              "[\\nYes\\n, \\n100 g CO2/km (comb)\\n]                                                               1\n",
              "[\\nYes\\n, \\n, 4.9 l/100 km (comb), \\n, 5.9 l/100 km (city), \\n, 4.3 l/100 km (country), \\n]      1\n",
              "[\\nYes\\n, \\n, 5.1 l/100 km (comb), \\n, 6.4 l/100 km (city), \\n, 4.3 l/100 km (country), \\n]      1\n",
              "[\\nYes\\n, \\n172 g CO2/km (comb)\\n]                                                               1\n",
              "Name: Inspection new, Length: 202, dtype: int64"
            ]
          },
          "metadata": {},
          "execution_count": 129
        }
      ]
    },
    {
      "cell_type": "code",
      "source": [
        "df.drop(\"Next Inspection\", axis=1,inplace=True)"
      ],
      "metadata": {
        "execution": {
          "iopub.status.busy": "2022-08-04T22:02:19.645738Z",
          "iopub.execute_input": "2022-08-04T22:02:19.646293Z",
          "iopub.status.idle": "2022-08-04T22:02:19.675264Z",
          "shell.execute_reply.started": "2022-08-04T22:02:19.646243Z",
          "shell.execute_reply": "2022-08-04T22:02:19.67399Z"
        },
        "trusted": true,
        "id": "QJeS5cFw-cqJ"
      },
      "execution_count": 130,
      "outputs": []
    },
    {
      "cell_type": "markdown",
      "source": [
        "Next Inspection has been dropped since it was deemed appropriate to use the audit criteria instead of the month information for the audit."
      ],
      "metadata": {
        "id": "r9HLVB6u-cqM"
      }
    },
    {
      "cell_type": "markdown",
      "source": [
        "### Inspection new"
      ],
      "metadata": {
        "id": "umTun_Tg-cqN"
      }
    },
    {
      "cell_type": "code",
      "source": [
        "df[\"Inspection_new\"] = [item[0] if type(item) == list else item for item in df[\"Inspection new\"]]\n",
        "df[\"Inspection_new\"] = df[\"Inspection_new\"].str.strip(\"\\n\")"
      ],
      "metadata": {
        "execution": {
          "iopub.status.busy": "2022-08-04T22:02:19.677453Z",
          "iopub.execute_input": "2022-08-04T22:02:19.678694Z",
          "iopub.status.idle": "2022-08-04T22:02:19.70438Z",
          "shell.execute_reply.started": "2022-08-04T22:02:19.678624Z",
          "shell.execute_reply": "2022-08-04T22:02:19.70295Z"
        },
        "trusted": true,
        "id": "RX9fXcTb-cqP"
      },
      "execution_count": 131,
      "outputs": []
    },
    {
      "cell_type": "code",
      "source": [
        "df.Inspection_new.value_counts(dropna=False)"
      ],
      "metadata": {
        "scrolled": true,
        "execution": {
          "iopub.status.busy": "2022-08-04T22:02:19.706213Z",
          "iopub.execute_input": "2022-08-04T22:02:19.707685Z",
          "iopub.status.idle": "2022-08-04T22:02:19.724672Z",
          "shell.execute_reply.started": "2022-08-04T22:02:19.707616Z",
          "shell.execute_reply": "2022-08-04T22:02:19.723142Z"
        },
        "trusted": true,
        "id": "QtUAAPcz-cqQ",
        "colab": {
          "base_uri": "https://localhost:8080/"
        },
        "outputId": "99f421a9-be5e-486c-ada7-0a8bfb41b667"
      },
      "execution_count": 132,
      "outputs": [
        {
          "output_type": "execute_result",
          "data": {
            "text/plain": [
              "NaN    11987\n",
              "Yes     3932\n",
              "Name: Inspection_new, dtype: int64"
            ]
          },
          "metadata": {},
          "execution_count": 132
        }
      ]
    },
    {
      "cell_type": "code",
      "source": [
        "df.drop(\"Inspection new\",axis=1, inplace=True)"
      ],
      "metadata": {
        "execution": {
          "iopub.status.busy": "2022-08-04T22:02:19.726361Z",
          "iopub.execute_input": "2022-08-04T22:02:19.727146Z",
          "iopub.status.idle": "2022-08-04T22:02:19.823633Z",
          "shell.execute_reply.started": "2022-08-04T22:02:19.727102Z",
          "shell.execute_reply": "2022-08-04T22:02:19.822422Z"
        },
        "trusted": true,
        "id": "pMEdrY6w-cqQ"
      },
      "execution_count": 133,
      "outputs": []
    },
    {
      "cell_type": "markdown",
      "source": [
        "### Warranty"
      ],
      "metadata": {
        "id": "4V42Q6K1-cqQ"
      }
    },
    {
      "cell_type": "code",
      "source": [
        "df.Warranty.value_counts()"
      ],
      "metadata": {
        "scrolled": true,
        "execution": {
          "iopub.status.busy": "2022-08-04T22:02:19.825175Z",
          "iopub.execute_input": "2022-08-04T22:02:19.82555Z",
          "iopub.status.idle": "2022-08-04T22:02:19.900519Z",
          "shell.execute_reply.started": "2022-08-04T22:02:19.825518Z",
          "shell.execute_reply": "2022-08-04T22:02:19.89897Z"
        },
        "trusted": true,
        "id": "RLjxIwv9-cqQ",
        "colab": {
          "base_uri": "https://localhost:8080/",
          "height": 425
        },
        "outputId": "01850e8d-f50a-42b1-f38f-d50d3d1dc8ae"
      },
      "execution_count": 134,
      "outputs": [
        {
          "output_type": "error",
          "ename": "TypeError",
          "evalue": "ignored",
          "traceback": [
            "\u001b[0;31m---------------------------------------------------------------------------\u001b[0m",
            "\u001b[0;31mTypeError\u001b[0m                                 Traceback (most recent call last)",
            "\u001b[0;32mpandas/_libs/hashtable_class_helper.pxi\u001b[0m in \u001b[0;36mpandas._libs.hashtable.PyObjectHashTable.map_locations\u001b[0;34m()\u001b[0m\n",
            "\u001b[0;31mTypeError\u001b[0m: unhashable type: 'list'"
          ]
        },
        {
          "output_type": "stream",
          "name": "stderr",
          "text": [
            "Exception ignored in: 'pandas._libs.index.IndexEngine._call_map_locations'\n",
            "Traceback (most recent call last):\n",
            "  File \"pandas/_libs/hashtable_class_helper.pxi\", line 5231, in pandas._libs.hashtable.PyObjectHashTable.map_locations\n",
            "TypeError: unhashable type: 'list'\n"
          ]
        },
        {
          "output_type": "execute_result",
          "data": {
            "text/plain": [
              "[\\n, \\n, \\nEuro 6\\n]                                                                               1868\n",
              "\\n12 months\\n                                                                                      1177\n",
              "\\n                                                                                                  979\n",
              "\\n24 months\\n                                                                                       566\n",
              "[\\n, \\n, \\n4 (Green)\\n]                                                                             517\n",
              "                                                                                                   ... \n",
              "[\\n72 months\\n, \\n125 g CO2/km (comb)\\n]                                                              1\n",
              "[\\n60 months\\n, \\n14 g CO2/km (comb)\\n]                                                               1\n",
              "[\\n24 months\\n, \\n121 g CO2/km (comb)\\n]                                                              1\n",
              "[\\n12 months\\n, \\nEuro 6d\\n]                                                                          1\n",
              "[\\n36 months\\n, \\n, 7.4 l/100 km (comb), \\n, 9.6 l/100 km (city), \\n, 6 l/100 km (country), \\n]       1\n",
              "Name: Warranty, Length: 515, dtype: int64"
            ]
          },
          "metadata": {},
          "execution_count": 134
        }
      ]
    },
    {
      "cell_type": "code",
      "source": [
        "df[\"Warranty2\"] = [item[0] if type(item) == list else item for item in df[\"Warranty\"]]\n",
        "df[\"Warranty2\"] = df[\"Warranty2\"].str.strip(\"\\n\")"
      ],
      "metadata": {
        "execution": {
          "iopub.status.busy": "2022-08-04T22:02:19.90241Z",
          "iopub.execute_input": "2022-08-04T22:02:19.902871Z",
          "iopub.status.idle": "2022-08-04T22:02:19.936113Z",
          "shell.execute_reply.started": "2022-08-04T22:02:19.902831Z",
          "shell.execute_reply": "2022-08-04T22:02:19.934466Z"
        },
        "trusted": true,
        "id": "VnzHWJZ--cqR"
      },
      "execution_count": 135,
      "outputs": []
    },
    {
      "cell_type": "code",
      "source": [
        "df[\"Warranty2\"].value_counts()"
      ],
      "metadata": {
        "scrolled": true,
        "execution": {
          "iopub.status.busy": "2022-08-04T22:02:19.938015Z",
          "iopub.execute_input": "2022-08-04T22:02:19.93844Z",
          "iopub.status.idle": "2022-08-04T22:02:19.952314Z",
          "shell.execute_reply.started": "2022-08-04T22:02:19.938403Z",
          "shell.execute_reply": "2022-08-04T22:02:19.950997Z"
        },
        "trusted": true,
        "id": "HMGBakPP-cqR",
        "colab": {
          "base_uri": "https://localhost:8080/"
        },
        "outputId": "3ce9ab1b-d198-4569-ef9d-7c54feb6bfa4"
      },
      "execution_count": 136,
      "outputs": [
        {
          "output_type": "execute_result",
          "data": {
            "text/plain": [
              "             5646\n",
              "12 months    2594\n",
              "24 months    1118\n",
              "60 months     401\n",
              "36 months     279\n",
              "48 months     149\n",
              "6 months      125\n",
              "72 months      59\n",
              "3 months       33\n",
              "23 months      11\n",
              "18 months      10\n",
              "20 months       7\n",
              "25 months       6\n",
              "2 months        5\n",
              "50 months       4\n",
              "26 months       4\n",
              "16 months       4\n",
              "4 months        3\n",
              "1 months        3\n",
              "19 months       3\n",
              "34 months       3\n",
              "13 months       3\n",
              "28 months       2\n",
              "22 months       2\n",
              "14 months       2\n",
              "11 months       2\n",
              "46 months       2\n",
              "21 months       2\n",
              "9 months        2\n",
              "17 months       2\n",
              "45 months       2\n",
              "33 months       1\n",
              "40 months       1\n",
              "65 months       1\n",
              "10 months       1\n",
              "15 months       1\n",
              "7 months        1\n",
              "8 months        1\n",
              "56 months       1\n",
              "49 months       1\n",
              "47 months       1\n",
              "30 months       1\n",
              "Name: Warranty2, dtype: int64"
            ]
          },
          "metadata": {},
          "execution_count": 136
        }
      ]
    },
    {
      "cell_type": "code",
      "source": [
        "df.drop([\"Warranty\", \"Warranty2\"], axis=1, inplace=True)"
      ],
      "metadata": {
        "execution": {
          "iopub.status.busy": "2022-08-04T22:02:19.954175Z",
          "iopub.execute_input": "2022-08-04T22:02:19.95577Z",
          "iopub.status.idle": "2022-08-04T22:02:20.05439Z",
          "shell.execute_reply.started": "2022-08-04T22:02:19.955715Z",
          "shell.execute_reply": "2022-08-04T22:02:20.052993Z"
        },
        "trusted": true,
        "id": "xPQ4OYKA-cqR"
      },
      "execution_count": 137,
      "outputs": []
    },
    {
      "cell_type": "markdown",
      "source": [
        "During the modeling phase, it was understood that there was too much variety in the Warranty column, so it could not be included in the modeling and the column was dropped."
      ],
      "metadata": {
        "id": "Qv4GtAtu-cqR"
      }
    },
    {
      "cell_type": "markdown",
      "source": [
        "### Full Service"
      ],
      "metadata": {
        "id": "ebRM9tqg-cqS"
      }
    },
    {
      "cell_type": "code",
      "source": [
        "df[\"Full Service\"].value_counts(dropna=False)"
      ],
      "metadata": {
        "scrolled": true,
        "execution": {
          "iopub.status.busy": "2022-08-04T22:02:20.05615Z",
          "iopub.execute_input": "2022-08-04T22:02:20.056557Z",
          "iopub.status.idle": "2022-08-04T22:02:20.100007Z",
          "shell.execute_reply.started": "2022-08-04T22:02:20.056519Z",
          "shell.execute_reply": "2022-08-04T22:02:20.099089Z"
        },
        "trusted": true,
        "id": "FLn6qImp-cqS",
        "colab": {
          "base_uri": "https://localhost:8080/",
          "height": 425
        },
        "outputId": "ccbf8696-27a0-4342-be4d-697eb8c85770"
      },
      "execution_count": 138,
      "outputs": [
        {
          "output_type": "error",
          "ename": "TypeError",
          "evalue": "ignored",
          "traceback": [
            "\u001b[0;31m---------------------------------------------------------------------------\u001b[0m",
            "\u001b[0;31mTypeError\u001b[0m                                 Traceback (most recent call last)",
            "\u001b[0;32mpandas/_libs/hashtable_class_helper.pxi\u001b[0m in \u001b[0;36mpandas._libs.hashtable.PyObjectHashTable.map_locations\u001b[0;34m()\u001b[0m\n",
            "\u001b[0;31mTypeError\u001b[0m: unhashable type: 'list'"
          ]
        },
        {
          "output_type": "stream",
          "name": "stderr",
          "text": [
            "Exception ignored in: 'pandas._libs.index.IndexEngine._call_map_locations'\n",
            "Traceback (most recent call last):\n",
            "  File \"pandas/_libs/hashtable_class_helper.pxi\", line 5231, in pandas._libs.hashtable.PyObjectHashTable.map_locations\n",
            "TypeError: unhashable type: 'list'\n"
          ]
        },
        {
          "output_type": "execute_result",
          "data": {
            "text/plain": [
              "NaN                                                                                           7704\n",
              "[\\n, \\n, \\n4 (Green)\\n]                                                                       2235\n",
              "[\\n, \\n, \\nEuro 6\\n]                                                                          2097\n",
              "[\\n, \\n]                                                                                      1702\n",
              "[\\n, \\n, \\nEuro 6d-TEMP\\n]                                                                     399\n",
              "                                                                                              ... \n",
              "[\\n, \\n, \\n80 g CO2/km (comb)\\n]                                                                 1\n",
              "[\\n, \\n, \\n84 g CO2/km (comb)\\n]                                                                 1\n",
              "[\\n, \\n, \\n, 6 l/100 km (comb), \\n, 8 l/100 km (city), \\n, 4.9 l/100 km (country), \\n]           1\n",
              "[\\n, \\n, \\n, 4.9 l/100 km (comb), \\n, 6.2 l/100 km (city), \\n, 4.1 l/100 km (country), \\n]       1\n",
              "[\\n, \\n, \\nEuro 4\\n]                                                                             1\n",
              "Name: Full Service, Length: 123, dtype: int64"
            ]
          },
          "metadata": {},
          "execution_count": 138
        }
      ]
    },
    {
      "cell_type": "code",
      "source": [
        "df.drop(\"Full Service\", axis=1, inplace=True)"
      ],
      "metadata": {
        "execution": {
          "iopub.status.busy": "2022-08-04T22:02:20.101538Z",
          "iopub.execute_input": "2022-08-04T22:02:20.102181Z",
          "iopub.status.idle": "2022-08-04T22:02:20.138733Z",
          "shell.execute_reply.started": "2022-08-04T22:02:20.10214Z",
          "shell.execute_reply": "2022-08-04T22:02:20.137334Z"
        },
        "trusted": true,
        "id": "f1_7QLeX-cqS"
      },
      "execution_count": 139,
      "outputs": []
    },
    {
      "cell_type": "markdown",
      "source": [
        "### Non-smoking Vehicle  "
      ],
      "metadata": {
        "id": "M0L0lvPw-cqS"
      }
    },
    {
      "cell_type": "code",
      "source": [
        "#df[\"Non-smoking Vehicle\"].value_counts()"
      ],
      "metadata": {
        "execution": {
          "iopub.status.busy": "2022-08-04T22:02:20.140743Z",
          "iopub.execute_input": "2022-08-04T22:02:20.141601Z",
          "iopub.status.idle": "2022-08-04T22:02:20.195844Z",
          "shell.execute_reply.started": "2022-08-04T22:02:20.141558Z",
          "shell.execute_reply": "2022-08-04T22:02:20.194384Z"
        },
        "trusted": true,
        "id": "Q86ia7c1-cqT"
      },
      "execution_count": 140,
      "outputs": []
    },
    {
      "cell_type": "code",
      "source": [
        "#df[\"Non-smoking Vehicle\"].head()"
      ],
      "metadata": {
        "id": "tJ2i_WHLfVsa"
      },
      "execution_count": 145,
      "outputs": []
    },
    {
      "cell_type": "code",
      "source": [],
      "metadata": {
        "id": "4uj4QxT_fVoz"
      },
      "execution_count": null,
      "outputs": []
    },
    {
      "cell_type": "code",
      "source": [
        "df.drop(\"Non-smoking Vehicle\", axis=1,inplace=True)"
      ],
      "metadata": {
        "execution": {
          "iopub.status.busy": "2022-08-04T22:02:20.197561Z",
          "iopub.execute_input": "2022-08-04T22:02:20.198037Z",
          "iopub.status.idle": "2022-08-04T22:02:20.236126Z",
          "shell.execute_reply.started": "2022-08-04T22:02:20.197996Z",
          "shell.execute_reply": "2022-08-04T22:02:20.234993Z"
        },
        "trusted": true,
        "id": "RAGoRgsn-cqT"
      },
      "execution_count": 141,
      "outputs": []
    },
    {
      "cell_type": "markdown",
      "source": [
        "### Make"
      ],
      "metadata": {
        "id": "JjwZqb1I-cqT"
      }
    },
    {
      "cell_type": "code",
      "source": [
        "df.Make.value_counts()"
      ],
      "metadata": {
        "scrolled": true,
        "execution": {
          "iopub.status.busy": "2022-08-04T22:02:20.237599Z",
          "iopub.execute_input": "2022-08-04T22:02:20.238237Z",
          "iopub.status.idle": "2022-08-04T22:02:20.254088Z",
          "shell.execute_reply.started": "2022-08-04T22:02:20.238197Z",
          "shell.execute_reply": "2022-08-04T22:02:20.252639Z"
        },
        "trusted": true,
        "id": "GucXHzi--cqT",
        "colab": {
          "base_uri": "https://localhost:8080/"
        },
        "outputId": "a500f395-f20f-4a9b-f55a-7441f0ae9139"
      },
      "execution_count": 146,
      "outputs": [
        {
          "output_type": "execute_result",
          "data": {
            "text/plain": [
              "\\nOpel\\n       7343\n",
              "\\nAudi\\n       5712\n",
              "\\nRenault\\n    2864\n",
              "Name: Make, dtype: int64"
            ]
          },
          "metadata": {},
          "execution_count": 146
        }
      ]
    },
    {
      "cell_type": "code",
      "source": [
        "df.drop(\"Make\", axis=1, inplace=True)"
      ],
      "metadata": {
        "scrolled": true,
        "execution": {
          "iopub.status.busy": "2022-08-04T22:02:20.256039Z",
          "iopub.execute_input": "2022-08-04T22:02:20.257318Z",
          "iopub.status.idle": "2022-08-04T22:02:20.297504Z",
          "shell.execute_reply.started": "2022-08-04T22:02:20.257262Z",
          "shell.execute_reply": "2022-08-04T22:02:20.296062Z"
        },
        "trusted": true,
        "id": "thpuD336-cqX"
      },
      "execution_count": 147,
      "outputs": []
    },
    {
      "cell_type": "markdown",
      "source": [
        "The Make column were dropped because the make_model column contains data."
      ],
      "metadata": {
        "id": "ov48pgSC-cqX"
      }
    },
    {
      "cell_type": "markdown",
      "source": [
        "### Model"
      ],
      "metadata": {
        "id": "WLGiq_PU-cqX"
      }
    },
    {
      "cell_type": "code",
      "source": [
        "df.drop(\"Model\", axis=1, inplace=True)"
      ],
      "metadata": {
        "execution": {
          "iopub.status.busy": "2022-08-04T22:02:20.299712Z",
          "iopub.execute_input": "2022-08-04T22:02:20.300428Z",
          "iopub.status.idle": "2022-08-04T22:02:20.337402Z",
          "shell.execute_reply.started": "2022-08-04T22:02:20.300366Z",
          "shell.execute_reply": "2022-08-04T22:02:20.336181Z"
        },
        "trusted": true,
        "id": "TtrQdGd1-cqX"
      },
      "execution_count": 148,
      "outputs": []
    },
    {
      "cell_type": "markdown",
      "source": [
        "The Model column were dropped because the make_model column contains data."
      ],
      "metadata": {
        "id": "GZd_lSUM-cqY"
      }
    },
    {
      "cell_type": "markdown",
      "source": [
        "### Offer Number"
      ],
      "metadata": {
        "id": "vBQnNhdt-cqY"
      }
    },
    {
      "cell_type": "code",
      "source": [
        "df[\"Offer Number\"].value_counts()"
      ],
      "metadata": {
        "scrolled": true,
        "execution": {
          "iopub.status.busy": "2022-08-04T22:02:20.339504Z",
          "iopub.execute_input": "2022-08-04T22:02:20.340602Z",
          "iopub.status.idle": "2022-08-04T22:03:02.332584Z",
          "shell.execute_reply.started": "2022-08-04T22:02:20.340549Z",
          "shell.execute_reply": "2022-08-04T22:03:02.331121Z"
        },
        "trusted": true,
        "id": "kT5nbKeT-cqY",
        "colab": {
          "base_uri": "https://localhost:8080/",
          "height": 425
        },
        "outputId": "308730fe-643f-41f2-e1a9-4ad7c8313cde"
      },
      "execution_count": 150,
      "outputs": [
        {
          "output_type": "error",
          "ename": "TypeError",
          "evalue": "ignored",
          "traceback": [
            "\u001b[0;31m---------------------------------------------------------------------------\u001b[0m",
            "\u001b[0;31mTypeError\u001b[0m                                 Traceback (most recent call last)",
            "\u001b[0;32mpandas/_libs/hashtable_class_helper.pxi\u001b[0m in \u001b[0;36mpandas._libs.hashtable.PyObjectHashTable.map_locations\u001b[0;34m()\u001b[0m\n",
            "\u001b[0;31mTypeError\u001b[0m: unhashable type: 'list'"
          ]
        },
        {
          "output_type": "stream",
          "name": "stderr",
          "text": [
            "Exception ignored in: 'pandas._libs.index.IndexEngine._call_map_locations'\n",
            "Traceback (most recent call last):\n",
            "  File \"pandas/_libs/hashtable_class_helper.pxi\", line 5231, in pandas._libs.hashtable.PyObjectHashTable.map_locations\n",
            "TypeError: unhashable type: 'list'\n"
          ]
        },
        {
          "output_type": "execute_result",
          "data": {
            "text/plain": [
              "[\\nLT67679\\n]                                     27\n",
              "[\\nAK13780\\n]                                     27\n",
              "[\\nTP62881\\n]                                     27\n",
              "[\\nTA76392\\n]                                     27\n",
              "[\\nXT61649\\n]                                     27\n",
              "                                                  ..\n",
              "[\\n160_dcbb6c3e-a6da-43a3-8754-ccd994cec93b\\n]     1\n",
              "[\\n6701576\\n]                                      1\n",
              "[\\n6701569\\n]                                      1\n",
              "[\\n158121\\n]                                       1\n",
              "[\\nRe_30000008029\\n]                               1\n",
              "Name: Offer Number, Length: 11440, dtype: int64"
            ]
          },
          "metadata": {},
          "execution_count": 150
        }
      ]
    },
    {
      "cell_type": "code",
      "source": [
        "df.drop(\"Offer Number\", axis=1, inplace=True)"
      ],
      "metadata": {
        "execution": {
          "iopub.status.busy": "2022-08-04T22:03:02.334531Z",
          "iopub.execute_input": "2022-08-04T22:03:02.334945Z",
          "iopub.status.idle": "2022-08-04T22:03:02.368113Z",
          "shell.execute_reply.started": "2022-08-04T22:03:02.334898Z",
          "shell.execute_reply": "2022-08-04T22:03:02.366941Z"
        },
        "trusted": true,
        "id": "c9oU5Z7t-cqY"
      },
      "execution_count": 151,
      "outputs": []
    },
    {
      "cell_type": "markdown",
      "source": [
        "### First Registration"
      ],
      "metadata": {
        "id": "MiSNv7RG-cqY"
      }
    },
    {
      "cell_type": "code",
      "source": [
        "df[\"First Registration\"].value_counts()"
      ],
      "metadata": {
        "scrolled": true,
        "execution": {
          "iopub.status.busy": "2022-08-04T22:03:02.369926Z",
          "iopub.execute_input": "2022-08-04T22:03:02.37031Z",
          "iopub.status.idle": "2022-08-04T22:03:02.413525Z",
          "shell.execute_reply.started": "2022-08-04T22:03:02.370278Z",
          "shell.execute_reply": "2022-08-04T22:03:02.41215Z"
        },
        "trusted": true,
        "id": "fg7RH0Em-cqZ"
      },
      "execution_count": null,
      "outputs": []
    },
    {
      "cell_type": "code",
      "source": [
        "df[\"First Registration\"] = df[\"First Registration\"].str[1]"
      ],
      "metadata": {
        "execution": {
          "iopub.status.busy": "2022-08-04T22:03:02.415356Z",
          "iopub.execute_input": "2022-08-04T22:03:02.4157Z",
          "iopub.status.idle": "2022-08-04T22:03:02.446163Z",
          "shell.execute_reply.started": "2022-08-04T22:03:02.415669Z",
          "shell.execute_reply": "2022-08-04T22:03:02.444697Z"
        },
        "trusted": true,
        "id": "x8bSBb6c-cqZ"
      },
      "execution_count": 152,
      "outputs": []
    },
    {
      "cell_type": "code",
      "source": [
        "df[\"First Registration\"] = df[\"First Registration\"].astype(\"float\")"
      ],
      "metadata": {
        "execution": {
          "iopub.status.busy": "2022-08-04T22:03:02.448049Z",
          "iopub.execute_input": "2022-08-04T22:03:02.448415Z",
          "iopub.status.idle": "2022-08-04T22:03:02.477518Z",
          "shell.execute_reply.started": "2022-08-04T22:03:02.448382Z",
          "shell.execute_reply": "2022-08-04T22:03:02.476049Z"
        },
        "trusted": true,
        "id": "oGxeDoOk-cqZ"
      },
      "execution_count": 153,
      "outputs": []
    },
    {
      "cell_type": "code",
      "source": [
        "df[\"First Registration\"].value_counts(dropna=False)"
      ],
      "metadata": {
        "scrolled": true,
        "execution": {
          "iopub.status.busy": "2022-08-04T22:03:02.479203Z",
          "iopub.execute_input": "2022-08-04T22:03:02.479689Z",
          "iopub.status.idle": "2022-08-04T22:03:02.489664Z",
          "shell.execute_reply.started": "2022-08-04T22:03:02.479654Z",
          "shell.execute_reply": "2022-08-04T22:03:02.488362Z"
        },
        "trusted": true,
        "id": "a_RUjUbe-cqa",
        "colab": {
          "base_uri": "https://localhost:8080/"
        },
        "outputId": "448fb95a-32a7-4889-f0a2-a205d9e550a6"
      },
      "execution_count": 154,
      "outputs": [
        {
          "output_type": "execute_result",
          "data": {
            "text/plain": [
              "2018.000    4522\n",
              "2016.000    3674\n",
              "2017.000    3273\n",
              "2019.000    2853\n",
              "NaN         1597\n",
              "Name: First Registration, dtype: int64"
            ]
          },
          "metadata": {},
          "execution_count": 154
        }
      ]
    },
    {
      "cell_type": "code",
      "source": [
        "df[\"age\"]= 2019-df[\"First Registration\"] "
      ],
      "metadata": {
        "execution": {
          "iopub.status.busy": "2022-08-04T22:03:02.491651Z",
          "iopub.execute_input": "2022-08-04T22:03:02.49205Z",
          "iopub.status.idle": "2022-08-04T22:03:02.504644Z",
          "shell.execute_reply.started": "2022-08-04T22:03:02.492012Z",
          "shell.execute_reply": "2022-08-04T22:03:02.503268Z"
        },
        "trusted": true,
        "id": "12svw1cG-cqb"
      },
      "execution_count": 155,
      "outputs": []
    },
    {
      "cell_type": "code",
      "source": [
        "df.drop(\"First Registration\", axis=1, inplace=True)"
      ],
      "metadata": {
        "execution": {
          "iopub.status.busy": "2022-08-04T22:03:02.506788Z",
          "iopub.execute_input": "2022-08-04T22:03:02.507356Z",
          "iopub.status.idle": "2022-08-04T22:03:02.545194Z",
          "shell.execute_reply.started": "2022-08-04T22:03:02.507306Z",
          "shell.execute_reply": "2022-08-04T22:03:02.543859Z"
        },
        "trusted": true,
        "id": "opd34dOr-cqb"
      },
      "execution_count": 156,
      "outputs": []
    },
    {
      "cell_type": "markdown",
      "source": [
        "### Body Color"
      ],
      "metadata": {
        "id": "a_jFpS1E-cqb"
      }
    },
    {
      "cell_type": "code",
      "source": [
        "df[\"Body Color\"].value_counts(dropna=False)"
      ],
      "metadata": {
        "scrolled": true,
        "execution": {
          "iopub.status.busy": "2022-08-04T22:03:02.547251Z",
          "iopub.execute_input": "2022-08-04T22:03:02.547832Z",
          "iopub.status.idle": "2022-08-04T22:03:02.595498Z",
          "shell.execute_reply.started": "2022-08-04T22:03:02.547781Z",
          "shell.execute_reply": "2022-08-04T22:03:02.594144Z"
        },
        "trusted": true,
        "id": "zF9qgoKX-cqc"
      },
      "execution_count": null,
      "outputs": []
    },
    {
      "cell_type": "code",
      "source": [
        "df.drop(\"Body Color\", axis=1, inplace=True)"
      ],
      "metadata": {
        "scrolled": true,
        "execution": {
          "iopub.status.busy": "2022-08-04T22:03:02.597135Z",
          "iopub.execute_input": "2022-08-04T22:03:02.597499Z",
          "iopub.status.idle": "2022-08-04T22:03:02.630447Z",
          "shell.execute_reply.started": "2022-08-04T22:03:02.597466Z",
          "shell.execute_reply": "2022-08-04T22:03:02.629079Z"
        },
        "trusted": true,
        "id": "VB8YfOW_-cqc"
      },
      "execution_count": 157,
      "outputs": []
    },
    {
      "cell_type": "markdown",
      "source": [
        "### Paint Type "
      ],
      "metadata": {
        "id": "44kfdQ8G-cqc"
      }
    },
    {
      "cell_type": "code",
      "source": [
        "df[\"Paint Type\"].value_counts(dropna=False)"
      ],
      "metadata": {
        "scrolled": true,
        "execution": {
          "iopub.status.busy": "2022-08-04T22:03:02.632163Z",
          "iopub.execute_input": "2022-08-04T22:03:02.63278Z",
          "iopub.status.idle": "2022-08-04T22:03:02.670363Z",
          "shell.execute_reply.started": "2022-08-04T22:03:02.632744Z",
          "shell.execute_reply": "2022-08-04T22:03:02.669209Z"
        },
        "trusted": true,
        "id": "Zr9c0gWA-cqc"
      },
      "execution_count": null,
      "outputs": []
    },
    {
      "cell_type": "code",
      "source": [
        "df[\"Paint_Type\"] = df[\"Paint Type\"].str[0].str.strip(\"\\n\")\n",
        "df[\"Paint_Type\"] = df[\"Paint_Type\"].str.replace(\"/\", \" \")"
      ],
      "metadata": {
        "execution": {
          "iopub.status.busy": "2022-08-04T22:03:02.695665Z",
          "iopub.execute_input": "2022-08-04T22:03:02.696234Z",
          "iopub.status.idle": "2022-08-04T22:03:02.741699Z",
          "shell.execute_reply.started": "2022-08-04T22:03:02.696193Z",
          "shell.execute_reply": "2022-08-04T22:03:02.740636Z"
        },
        "trusted": true,
        "id": "5esfv9YV-cqc"
      },
      "execution_count": 158,
      "outputs": []
    },
    {
      "cell_type": "code",
      "source": [
        "df.Paint_Type.value_counts(dropna=False)"
      ],
      "metadata": {
        "scrolled": true,
        "execution": {
          "iopub.status.busy": "2022-08-04T22:03:02.743466Z",
          "iopub.execute_input": "2022-08-04T22:03:02.743987Z",
          "iopub.status.idle": "2022-08-04T22:03:02.756137Z",
          "shell.execute_reply.started": "2022-08-04T22:03:02.743942Z",
          "shell.execute_reply": "2022-08-04T22:03:02.754838Z"
        },
        "trusted": true,
        "id": "d2s0Lw8i-cqd"
      },
      "execution_count": null,
      "outputs": []
    },
    {
      "cell_type": "code",
      "source": [
        "df.drop(\"Paint Type\", axis=1, inplace=True)"
      ],
      "metadata": {
        "execution": {
          "iopub.status.busy": "2022-08-04T22:03:02.757935Z",
          "iopub.execute_input": "2022-08-04T22:03:02.75847Z",
          "iopub.status.idle": "2022-08-04T22:03:02.826741Z",
          "shell.execute_reply.started": "2022-08-04T22:03:02.758422Z",
          "shell.execute_reply": "2022-08-04T22:03:02.825705Z"
        },
        "trusted": true,
        "id": "V82OkaI6-cqd"
      },
      "execution_count": 159,
      "outputs": []
    },
    {
      "cell_type": "markdown",
      "source": [
        "### Body Color Original"
      ],
      "metadata": {
        "id": "pwAEVrwM-cqd"
      }
    },
    {
      "cell_type": "code",
      "source": [
        "df[\"Body Color Original\"].value_counts(dropna=False)"
      ],
      "metadata": {
        "execution": {
          "iopub.status.busy": "2022-08-04T22:03:02.828292Z",
          "iopub.execute_input": "2022-08-04T22:03:02.829138Z",
          "iopub.status.idle": "2022-08-04T22:03:03.721158Z",
          "shell.execute_reply.started": "2022-08-04T22:03:02.829099Z",
          "shell.execute_reply": "2022-08-04T22:03:03.719823Z"
        },
        "trusted": true,
        "id": "KmUanwhC-cqe"
      },
      "execution_count": null,
      "outputs": []
    },
    {
      "cell_type": "code",
      "source": [
        "df.drop(\"Body Color Original\", axis=1, inplace=True)"
      ],
      "metadata": {
        "execution": {
          "iopub.status.busy": "2022-08-04T22:03:03.72326Z",
          "iopub.execute_input": "2022-08-04T22:03:03.723784Z",
          "iopub.status.idle": "2022-08-04T22:03:03.754607Z",
          "shell.execute_reply.started": "2022-08-04T22:03:03.723724Z",
          "shell.execute_reply": "2022-08-04T22:03:03.753081Z"
        },
        "trusted": true,
        "id": "1p3s1Emz-cqe"
      },
      "execution_count": 160,
      "outputs": []
    },
    {
      "cell_type": "markdown",
      "source": [
        "### Upholstery"
      ],
      "metadata": {
        "id": "axTK0g9I-cqe"
      }
    },
    {
      "cell_type": "code",
      "source": [
        "df.Upholstery.value_counts(dropna=False)"
      ],
      "metadata": {
        "scrolled": true,
        "execution": {
          "iopub.status.busy": "2022-08-04T22:03:03.758512Z",
          "iopub.execute_input": "2022-08-04T22:03:03.75894Z",
          "iopub.status.idle": "2022-08-04T22:03:03.809631Z",
          "shell.execute_reply.started": "2022-08-04T22:03:03.758896Z",
          "shell.execute_reply": "2022-08-04T22:03:03.808308Z"
        },
        "trusted": true,
        "id": "M9QvNw6k-cqf"
      },
      "execution_count": null,
      "outputs": []
    },
    {
      "cell_type": "code",
      "source": [
        "df[\"Upholstery\"] = [item[0] if type(item) == list else item for item in df.Upholstery]\n",
        "df[\"Upholstery\"].value_counts(dropna=False)"
      ],
      "metadata": {
        "execution": {
          "iopub.status.busy": "2022-08-04T22:03:03.828727Z",
          "iopub.execute_input": "2022-08-04T22:03:03.829213Z",
          "iopub.status.idle": "2022-08-04T22:03:03.862462Z",
          "shell.execute_reply.started": "2022-08-04T22:03:03.829177Z",
          "shell.execute_reply": "2022-08-04T22:03:03.861089Z"
        },
        "trusted": true,
        "id": "EHpBza5j-cqf",
        "colab": {
          "base_uri": "https://localhost:8080/"
        },
        "outputId": "e4f4527c-d55c-4b7c-ed15-caff760c6e82"
      },
      "execution_count": 161,
      "outputs": [
        {
          "output_type": "execute_result",
          "data": {
            "text/plain": [
              "\\nCloth, Black\\n           5821\n",
              "NaN                        3720\n",
              "\\nPart leather, Black\\n    1121\n",
              "\\nCloth\\n                  1005\n",
              "\\nCloth, Grey\\n             891\n",
              "\\nCloth, Other\\n            639\n",
              "\\nFull leather, Black\\n     575\n",
              "\\nBlack\\n                   491\n",
              "\\nGrey\\n                    273\n",
              "\\nOther, Other\\n            182\n",
              "\\nPart leather\\n            140\n",
              "\\nFull leather\\n            139\n",
              "\\nFull leather, Brown\\n     116\n",
              "\\nPart leather, Grey\\n      116\n",
              "\\nOther, Black\\n            110\n",
              "\\nFull leather, Other\\n      72\n",
              "\\nFull leather, Grey\\n       67\n",
              "\\nPart leather, Other\\n      65\n",
              "\\nOther\\n                    56\n",
              "\\nPart leather, Brown\\n      50\n",
              "\\nalcantara, Black\\n         47\n",
              "\\nVelour, Black\\n            36\n",
              "\\nFull leather, Beige\\n      36\n",
              "\\nCloth, Brown\\n             28\n",
              "\\nVelour\\n                   16\n",
              "\\nOther, Grey\\n              15\n",
              "\\nCloth, Beige\\n             13\n",
              "\\nBrown\\n                    12\n",
              "\\nCloth, Blue\\n              12\n",
              "\\nVelour, Grey\\n              8\n",
              "\\nCloth, White\\n              8\n",
              "\\nalcantara, Grey\\n           6\n",
              "\\nCloth, Red\\n                5\n",
              "\\nOther, Yellow\\n             4\n",
              "\\nPart leather, Red\\n         3\n",
              "\\nBeige\\n                     3\n",
              "\\nPart leather, White\\n       2\n",
              "\\nFull leather, Blue\\n        2\n",
              "\\nalcantara, Other\\n          2\n",
              "\\nalcantara\\n                 2\n",
              "\\nWhite\\n                     2\n",
              "\\nPart leather, Beige\\n       2\n",
              "\\nBlue\\n                      2\n",
              "\\nCloth, Orange\\n             1\n",
              "\\nFull leather, Red\\n         1\n",
              "\\nOther, Brown\\n              1\n",
              "\\nFull leather, White\\n       1\n",
              "Name: Upholstery, dtype: int64"
            ]
          },
          "metadata": {},
          "execution_count": 161
        }
      ]
    },
    {
      "cell_type": "code",
      "source": [
        "df[\"Upholstery\"] = df.Upholstery.str.strip(\"\\n\").str.split(\", \")"
      ],
      "metadata": {
        "execution": {
          "iopub.status.busy": "2022-08-04T22:03:03.864803Z",
          "iopub.execute_input": "2022-08-04T22:03:03.865312Z",
          "iopub.status.idle": "2022-08-04T22:03:03.914575Z",
          "shell.execute_reply.started": "2022-08-04T22:03:03.86527Z",
          "shell.execute_reply": "2022-08-04T22:03:03.91328Z"
        },
        "trusted": true,
        "id": "Q88aXBEL-cqf"
      },
      "execution_count": 162,
      "outputs": []
    },
    {
      "cell_type": "code",
      "source": [
        "df[\"Upholstery\"].value_counts(dropna=False)"
      ],
      "metadata": {
        "execution": {
          "iopub.status.busy": "2022-08-04T22:03:03.91622Z",
          "iopub.execute_input": "2022-08-04T22:03:03.916622Z",
          "iopub.status.idle": "2022-08-04T22:03:03.965257Z",
          "shell.execute_reply.started": "2022-08-04T22:03:03.916587Z",
          "shell.execute_reply": "2022-08-04T22:03:03.963843Z"
        },
        "trusted": true,
        "id": "cR0I1VsC-cqf",
        "colab": {
          "base_uri": "https://localhost:8080/",
          "height": 1000
        },
        "outputId": "8fec40fb-76f5-484f-81ce-05da45f3c970"
      },
      "execution_count": 163,
      "outputs": [
        {
          "output_type": "error",
          "ename": "TypeError",
          "evalue": "ignored",
          "traceback": [
            "\u001b[0;31m---------------------------------------------------------------------------\u001b[0m",
            "\u001b[0;31mTypeError\u001b[0m                                 Traceback (most recent call last)",
            "\u001b[0;32mpandas/_libs/hashtable_class_helper.pxi\u001b[0m in \u001b[0;36mpandas._libs.hashtable.PyObjectHashTable.map_locations\u001b[0;34m()\u001b[0m\n",
            "\u001b[0;31mTypeError\u001b[0m: unhashable type: 'list'"
          ]
        },
        {
          "output_type": "stream",
          "name": "stderr",
          "text": [
            "Exception ignored in: 'pandas._libs.index.IndexEngine._call_map_locations'\n",
            "Traceback (most recent call last):\n",
            "  File \"pandas/_libs/hashtable_class_helper.pxi\", line 5231, in pandas._libs.hashtable.PyObjectHashTable.map_locations\n",
            "TypeError: unhashable type: 'list'\n"
          ]
        },
        {
          "output_type": "execute_result",
          "data": {
            "text/plain": [
              "[Cloth, Black]           5821\n",
              "NaN                      3720\n",
              "[Part leather, Black]    1121\n",
              "[Cloth]                  1005\n",
              "[Cloth, Grey]             891\n",
              "[Cloth, Other]            639\n",
              "[Full leather, Black]     575\n",
              "[Black]                   491\n",
              "[Grey]                    273\n",
              "[Other, Other]            182\n",
              "[Part leather]            140\n",
              "[Full leather]            139\n",
              "[Full leather, Brown]     116\n",
              "[Part leather, Grey]      116\n",
              "[Other, Black]            110\n",
              "[Full leather, Other]      72\n",
              "[Full leather, Grey]       67\n",
              "[Part leather, Other]      65\n",
              "[Other]                    56\n",
              "[Part leather, Brown]      50\n",
              "[alcantara, Black]         47\n",
              "[Velour, Black]            36\n",
              "[Full leather, Beige]      36\n",
              "[Cloth, Brown]             28\n",
              "[Velour]                   16\n",
              "[Other, Grey]              15\n",
              "[Cloth, Beige]             13\n",
              "[Brown]                    12\n",
              "[Cloth, Blue]              12\n",
              "[Velour, Grey]              8\n",
              "[Cloth, White]              8\n",
              "[alcantara, Grey]           6\n",
              "[Cloth, Red]                5\n",
              "[Other, Yellow]             4\n",
              "[Part leather, Red]         3\n",
              "[Beige]                     3\n",
              "[Part leather, White]       2\n",
              "[Full leather, Blue]        2\n",
              "[alcantara, Other]          2\n",
              "[alcantara]                 2\n",
              "[White]                     2\n",
              "[Part leather, Beige]       2\n",
              "[Blue]                      2\n",
              "[Cloth, Orange]             1\n",
              "[Full leather, Red]         1\n",
              "[Other, Brown]              1\n",
              "[Full leather, White]       1\n",
              "Name: Upholstery, dtype: int64"
            ]
          },
          "metadata": {},
          "execution_count": 163
        }
      ]
    },
    {
      "cell_type": "code",
      "source": [
        "u_type = [\"Cloth\", 'Part leather', 'Full leather', 'Velour', 'alcantara']\n",
        "df[\"Upholstery_type\"] = df[\"Upholstery\"].apply(lambda x : x[0] if type(x) == list and x[0] in u_type else np.nan)"
      ],
      "metadata": {
        "execution": {
          "iopub.status.busy": "2022-08-04T22:03:03.967602Z",
          "iopub.execute_input": "2022-08-04T22:03:03.968117Z",
          "iopub.status.idle": "2022-08-04T22:03:03.993628Z",
          "shell.execute_reply.started": "2022-08-04T22:03:03.968068Z",
          "shell.execute_reply": "2022-08-04T22:03:03.991905Z"
        },
        "trusted": true,
        "id": "Bz3I0LTz-cqg"
      },
      "execution_count": 164,
      "outputs": []
    },
    {
      "cell_type": "code",
      "source": [
        "df[\"Upholstery_type\"].value_counts(dropna=False)"
      ],
      "metadata": {
        "execution": {
          "iopub.status.busy": "2022-08-04T22:03:03.995577Z",
          "iopub.execute_input": "2022-08-04T22:03:03.996264Z",
          "iopub.status.idle": "2022-08-04T22:03:04.013215Z",
          "shell.execute_reply.started": "2022-08-04T22:03:03.996214Z",
          "shell.execute_reply": "2022-08-04T22:03:04.012164Z"
        },
        "trusted": true,
        "id": "R5Bbt39g-cqg",
        "colab": {
          "base_uri": "https://localhost:8080/"
        },
        "outputId": "b8ca382d-6887-4be7-c5f1-d5f211f313bb"
      },
      "execution_count": 165,
      "outputs": [
        {
          "output_type": "execute_result",
          "data": {
            "text/plain": [
              "Cloth           8423\n",
              "NaN             4871\n",
              "Part leather    1499\n",
              "Full leather    1009\n",
              "Velour            60\n",
              "alcantara         57\n",
              "Name: Upholstery_type, dtype: int64"
            ]
          },
          "metadata": {},
          "execution_count": 165
        }
      ]
    },
    {
      "cell_type": "code",
      "source": [
        "df.drop(\"Upholstery\", axis=1, inplace=True)"
      ],
      "metadata": {
        "execution": {
          "iopub.status.busy": "2022-08-04T22:03:04.014906Z",
          "iopub.execute_input": "2022-08-04T22:03:04.01592Z",
          "iopub.status.idle": "2022-08-04T22:03:04.078208Z",
          "shell.execute_reply.started": "2022-08-04T22:03:04.015852Z",
          "shell.execute_reply": "2022-08-04T22:03:04.076855Z"
        },
        "trusted": true,
        "id": "qhvP-DPZ-cqg"
      },
      "execution_count": 166,
      "outputs": []
    },
    {
      "cell_type": "markdown",
      "source": [
        "### Body"
      ],
      "metadata": {
        "id": "dGX891VO-cqg"
      }
    },
    {
      "cell_type": "code",
      "source": [
        "df.Body.value_counts()"
      ],
      "metadata": {
        "scrolled": true,
        "execution": {
          "iopub.status.busy": "2022-08-04T22:03:04.079833Z",
          "iopub.execute_input": "2022-08-04T22:03:04.080792Z",
          "iopub.status.idle": "2022-08-04T22:03:04.123801Z",
          "shell.execute_reply.started": "2022-08-04T22:03:04.080747Z",
          "shell.execute_reply": "2022-08-04T22:03:04.12255Z"
        },
        "trusted": true,
        "id": "Fl_povSD-cqg",
        "colab": {
          "base_uri": "https://localhost:8080/",
          "height": 391
        },
        "outputId": "b9468b75-7d64-4aad-ab20-c8a9c293d901"
      },
      "execution_count": 167,
      "outputs": [
        {
          "output_type": "error",
          "ename": "TypeError",
          "evalue": "ignored",
          "traceback": [
            "\u001b[0;31m---------------------------------------------------------------------------\u001b[0m",
            "\u001b[0;31mTypeError\u001b[0m                                 Traceback (most recent call last)",
            "\u001b[0;32mpandas/_libs/hashtable_class_helper.pxi\u001b[0m in \u001b[0;36mpandas._libs.hashtable.PyObjectHashTable.map_locations\u001b[0;34m()\u001b[0m\n",
            "\u001b[0;31mTypeError\u001b[0m: unhashable type: 'list'"
          ]
        },
        {
          "output_type": "stream",
          "name": "stderr",
          "text": [
            "Exception ignored in: 'pandas._libs.index.IndexEngine._call_map_locations'\n",
            "Traceback (most recent call last):\n",
            "  File \"pandas/_libs/hashtable_class_helper.pxi\", line 5231, in pandas._libs.hashtable.PyObjectHashTable.map_locations\n",
            "TypeError: unhashable type: 'list'\n"
          ]
        },
        {
          "output_type": "execute_result",
          "data": {
            "text/plain": [
              "[\\n, Sedans, \\n]           7903\n",
              "[\\n, Station wagon, \\n]    3553\n",
              "[\\n, Compact, \\n]          3153\n",
              "[\\n, Van, \\n]               783\n",
              "[\\n, Other, \\n]             290\n",
              "[\\n, Transporter, \\n]        88\n",
              "[\\n, Off-Road, \\n]           56\n",
              "[\\n, Coupe, \\n]              25\n",
              "[\\n, Convertible, \\n]         8\n",
              "Name: Body, dtype: int64"
            ]
          },
          "metadata": {},
          "execution_count": 167
        }
      ]
    },
    {
      "cell_type": "code",
      "source": [
        "df.drop(\"Body\", axis=1, inplace=True)"
      ],
      "metadata": {
        "execution": {
          "iopub.status.busy": "2022-08-04T22:03:04.125621Z",
          "iopub.execute_input": "2022-08-04T22:03:04.126266Z",
          "iopub.status.idle": "2022-08-04T22:03:04.157394Z",
          "shell.execute_reply.started": "2022-08-04T22:03:04.126215Z",
          "shell.execute_reply": "2022-08-04T22:03:04.15605Z"
        },
        "trusted": true,
        "id": "JNPuHR3n-cqh"
      },
      "execution_count": 168,
      "outputs": []
    },
    {
      "cell_type": "markdown",
      "source": [
        "### Nr. of Doors"
      ],
      "metadata": {
        "id": "GIUHaZ37-cqh"
      }
    },
    {
      "cell_type": "code",
      "source": [
        "df[\"Nr. of Doors\"].value_counts(dropna=False)"
      ],
      "metadata": {
        "scrolled": true,
        "execution": {
          "iopub.status.busy": "2022-08-04T22:03:04.158972Z",
          "iopub.execute_input": "2022-08-04T22:03:04.159338Z",
          "iopub.status.idle": "2022-08-04T22:03:04.201852Z",
          "shell.execute_reply.started": "2022-08-04T22:03:04.159305Z",
          "shell.execute_reply": "2022-08-04T22:03:04.2006Z"
        },
        "trusted": true,
        "id": "sNGDwjc5-cqh"
      },
      "execution_count": null,
      "outputs": []
    },
    {
      "cell_type": "code",
      "source": [
        "df[\"Nr_of_Doors\"]=df[\"Nr. of Doors\"].str[0].str.strip(\"\\n\")"
      ],
      "metadata": {
        "execution": {
          "iopub.status.busy": "2022-08-04T22:03:04.20346Z",
          "iopub.execute_input": "2022-08-04T22:03:04.203866Z",
          "iopub.status.idle": "2022-08-04T22:03:04.249152Z",
          "shell.execute_reply.started": "2022-08-04T22:03:04.203831Z",
          "shell.execute_reply": "2022-08-04T22:03:04.247763Z"
        },
        "trusted": true,
        "id": "YjzO5Qav-cqh"
      },
      "execution_count": 169,
      "outputs": []
    },
    {
      "cell_type": "code",
      "source": [
        "df[\"Nr_of_Doors\"].value_counts(dropna=False)"
      ],
      "metadata": {
        "scrolled": true,
        "execution": {
          "iopub.status.busy": "2022-08-04T22:03:04.250735Z",
          "iopub.execute_input": "2022-08-04T22:03:04.251606Z",
          "iopub.status.idle": "2022-08-04T22:03:04.26312Z",
          "shell.execute_reply.started": "2022-08-04T22:03:04.251566Z",
          "shell.execute_reply": "2022-08-04T22:03:04.261743Z"
        },
        "trusted": true,
        "id": "dCh_THBq-cqh",
        "colab": {
          "base_uri": "https://localhost:8080/"
        },
        "outputId": "d90c437c-cb3e-44a2-d457-b43e608c2704"
      },
      "execution_count": 170,
      "outputs": [
        {
          "output_type": "execute_result",
          "data": {
            "text/plain": [
              "5      11575\n",
              "4       3079\n",
              "3        832\n",
              "2        219\n",
              "NaN      212\n",
              "1          1\n",
              "7          1\n",
              "Name: Nr_of_Doors, dtype: int64"
            ]
          },
          "metadata": {},
          "execution_count": 170
        }
      ]
    },
    {
      "cell_type": "code",
      "source": [
        "df[\"Nr_of_Doors\"]=df[\"Nr_of_Doors\"].astype(\"float\")"
      ],
      "metadata": {
        "execution": {
          "iopub.status.busy": "2022-08-04T22:03:04.265365Z",
          "iopub.execute_input": "2022-08-04T22:03:04.266175Z",
          "iopub.status.idle": "2022-08-04T22:03:04.276739Z",
          "shell.execute_reply.started": "2022-08-04T22:03:04.266124Z",
          "shell.execute_reply": "2022-08-04T22:03:04.275597Z"
        },
        "trusted": true,
        "id": "ga2kZDdA-cqi"
      },
      "execution_count": 171,
      "outputs": []
    },
    {
      "cell_type": "code",
      "source": [
        "df.drop(\"Nr. of Doors\", axis=1, inplace=True)"
      ],
      "metadata": {
        "execution": {
          "iopub.status.busy": "2022-08-04T22:03:04.278158Z",
          "iopub.execute_input": "2022-08-04T22:03:04.279201Z",
          "iopub.status.idle": "2022-08-04T22:03:04.303847Z",
          "shell.execute_reply.started": "2022-08-04T22:03:04.279127Z",
          "shell.execute_reply": "2022-08-04T22:03:04.302687Z"
        },
        "trusted": true,
        "id": "qNPrl4zW-cqi"
      },
      "execution_count": 172,
      "outputs": []
    },
    {
      "cell_type": "markdown",
      "source": [
        "### Nr. of Seats"
      ],
      "metadata": {
        "id": "Nc1tCsx_-cqi"
      }
    },
    {
      "cell_type": "code",
      "source": [
        "df[\"Nr. of Seats\"].value_counts(dropna=False)"
      ],
      "metadata": {
        "scrolled": true,
        "execution": {
          "iopub.status.busy": "2022-08-04T22:03:04.3056Z",
          "iopub.execute_input": "2022-08-04T22:03:04.306834Z",
          "iopub.status.idle": "2022-08-04T22:03:04.34841Z",
          "shell.execute_reply.started": "2022-08-04T22:03:04.306781Z",
          "shell.execute_reply": "2022-08-04T22:03:04.346974Z"
        },
        "trusted": true,
        "id": "3fMQjkwW-cqj"
      },
      "execution_count": null,
      "outputs": []
    },
    {
      "cell_type": "code",
      "source": [
        "df[\"Nr_of_Seats\"]=df[\"Nr. of Seats\"].str[0].str.strip(\"\\n\")"
      ],
      "metadata": {
        "execution": {
          "iopub.status.busy": "2022-08-04T22:03:04.350335Z",
          "iopub.execute_input": "2022-08-04T22:03:04.35121Z",
          "iopub.status.idle": "2022-08-04T22:03:04.397958Z",
          "shell.execute_reply.started": "2022-08-04T22:03:04.351171Z",
          "shell.execute_reply": "2022-08-04T22:03:04.396569Z"
        },
        "trusted": true,
        "id": "tjxNsTCN-cqj"
      },
      "execution_count": 173,
      "outputs": []
    },
    {
      "cell_type": "code",
      "source": [
        "df[\"Nr_of_Seats\"].value_counts(dropna=False)"
      ],
      "metadata": {
        "execution": {
          "iopub.status.busy": "2022-08-04T22:03:04.39953Z",
          "iopub.execute_input": "2022-08-04T22:03:04.399926Z",
          "iopub.status.idle": "2022-08-04T22:03:04.420506Z",
          "shell.execute_reply.started": "2022-08-04T22:03:04.399889Z",
          "shell.execute_reply": "2022-08-04T22:03:04.419274Z"
        },
        "trusted": true,
        "id": "7kw_lVWi-cqj",
        "colab": {
          "base_uri": "https://localhost:8080/"
        },
        "outputId": "caeeb9e1-fc91-4c7a-ab97-06271862af9c"
      },
      "execution_count": 174,
      "outputs": [
        {
          "output_type": "execute_result",
          "data": {
            "text/plain": [
              "5      13336\n",
              "4       1125\n",
              "NaN      977\n",
              "7        362\n",
              "2        116\n",
              "6          2\n",
              "3          1\n",
              "Name: Nr_of_Seats, dtype: int64"
            ]
          },
          "metadata": {},
          "execution_count": 174
        }
      ]
    },
    {
      "cell_type": "code",
      "source": [
        "df[\"Nr_of_Seats\"]=df[\"Nr_of_Seats\"].astype(\"float\")"
      ],
      "metadata": {
        "execution": {
          "iopub.status.busy": "2022-08-04T22:03:04.421935Z",
          "iopub.execute_input": "2022-08-04T22:03:04.423062Z",
          "iopub.status.idle": "2022-08-04T22:03:04.436612Z",
          "shell.execute_reply.started": "2022-08-04T22:03:04.422953Z",
          "shell.execute_reply": "2022-08-04T22:03:04.434972Z"
        },
        "trusted": true,
        "id": "dB3g5r8B-cqk"
      },
      "execution_count": 175,
      "outputs": []
    },
    {
      "cell_type": "code",
      "source": [
        "df.drop(\"Nr. of Seats\", axis=1, inplace=True)"
      ],
      "metadata": {
        "execution": {
          "iopub.status.busy": "2022-08-04T22:03:04.440329Z",
          "iopub.execute_input": "2022-08-04T22:03:04.441988Z",
          "iopub.status.idle": "2022-08-04T22:03:04.46483Z",
          "shell.execute_reply.started": "2022-08-04T22:03:04.441919Z",
          "shell.execute_reply": "2022-08-04T22:03:04.463784Z"
        },
        "trusted": true,
        "id": "spXlEHap-cqk"
      },
      "execution_count": 176,
      "outputs": []
    },
    {
      "cell_type": "markdown",
      "source": [
        "### Model Code"
      ],
      "metadata": {
        "id": "BDNpt86W-cqk"
      }
    },
    {
      "cell_type": "code",
      "source": [
        "df[\"Model Code\"].value_counts()"
      ],
      "metadata": {
        "scrolled": true,
        "execution": {
          "iopub.status.busy": "2022-08-04T22:03:04.466463Z",
          "iopub.execute_input": "2022-08-04T22:03:04.467232Z",
          "iopub.status.idle": "2022-08-04T22:03:04.527992Z",
          "shell.execute_reply.started": "2022-08-04T22:03:04.467182Z",
          "shell.execute_reply": "2022-08-04T22:03:04.526684Z"
        },
        "trusted": true,
        "id": "IdXIKfcI-cql"
      },
      "execution_count": null,
      "outputs": []
    },
    {
      "cell_type": "code",
      "source": [
        "df.drop(\"Model Code\", axis=1, inplace=True)"
      ],
      "metadata": {
        "execution": {
          "iopub.status.busy": "2022-08-04T22:03:04.529709Z",
          "iopub.execute_input": "2022-08-04T22:03:04.530272Z",
          "iopub.status.idle": "2022-08-04T22:03:04.558108Z",
          "shell.execute_reply.started": "2022-08-04T22:03:04.530224Z",
          "shell.execute_reply": "2022-08-04T22:03:04.556855Z"
        },
        "trusted": true,
        "id": "hrERJbLa-cql"
      },
      "execution_count": 177,
      "outputs": []
    },
    {
      "cell_type": "markdown",
      "source": [
        "### Gearing Type"
      ],
      "metadata": {
        "id": "VnLA2NsZ-cql"
      }
    },
    {
      "cell_type": "code",
      "source": [
        "df[\"Gearing Type\"].value_counts(dropna=False)"
      ],
      "metadata": {
        "scrolled": true,
        "execution": {
          "iopub.status.busy": "2022-08-04T22:03:04.559696Z",
          "iopub.execute_input": "2022-08-04T22:03:04.560097Z",
          "iopub.status.idle": "2022-08-04T22:03:04.603006Z",
          "shell.execute_reply.started": "2022-08-04T22:03:04.560055Z",
          "shell.execute_reply": "2022-08-04T22:03:04.601947Z"
        },
        "trusted": true,
        "id": "AbZ_4Jlb-cqm"
      },
      "execution_count": null,
      "outputs": []
    },
    {
      "cell_type": "code",
      "source": [
        "df[\"Gearing_Type\"]=df[\"Gearing Type\"].str[1]"
      ],
      "metadata": {
        "execution": {
          "iopub.status.busy": "2022-08-04T22:03:04.604258Z",
          "iopub.execute_input": "2022-08-04T22:03:04.605368Z",
          "iopub.status.idle": "2022-08-04T22:03:04.638006Z",
          "shell.execute_reply.started": "2022-08-04T22:03:04.605327Z",
          "shell.execute_reply": "2022-08-04T22:03:04.636803Z"
        },
        "trusted": true,
        "id": "jRhl4xmX-cqm"
      },
      "execution_count": 178,
      "outputs": []
    },
    {
      "cell_type": "code",
      "source": [
        "df[\"Gearing_Type\"].value_counts(dropna=False)"
      ],
      "metadata": {
        "scrolled": true,
        "execution": {
          "iopub.status.busy": "2022-08-04T22:03:04.639374Z",
          "iopub.execute_input": "2022-08-04T22:03:04.639746Z",
          "iopub.status.idle": "2022-08-04T22:03:04.656409Z",
          "shell.execute_reply.started": "2022-08-04T22:03:04.639713Z",
          "shell.execute_reply": "2022-08-04T22:03:04.654977Z"
        },
        "trusted": true,
        "id": "GBMAaiCR-cqm"
      },
      "execution_count": null,
      "outputs": []
    },
    {
      "cell_type": "code",
      "source": [
        "df.drop(\"Gearing Type\", axis=1, inplace=True)"
      ],
      "metadata": {
        "execution": {
          "iopub.status.busy": "2022-08-04T22:03:04.658128Z",
          "iopub.execute_input": "2022-08-04T22:03:04.658519Z",
          "iopub.status.idle": "2022-08-04T22:03:04.715328Z",
          "shell.execute_reply.started": "2022-08-04T22:03:04.658486Z",
          "shell.execute_reply": "2022-08-04T22:03:04.714201Z"
        },
        "trusted": true,
        "id": "Cbd4o-d3-cqn"
      },
      "execution_count": 179,
      "outputs": []
    },
    {
      "cell_type": "markdown",
      "source": [
        "### Displacement"
      ],
      "metadata": {
        "id": "rj8JjMPu-cqn"
      }
    },
    {
      "cell_type": "code",
      "source": [
        "df.Displacement.value_counts(dropna=False)"
      ],
      "metadata": {
        "scrolled": true,
        "execution": {
          "iopub.status.busy": "2022-08-04T22:03:04.717076Z",
          "iopub.execute_input": "2022-08-04T22:03:04.717803Z",
          "iopub.status.idle": "2022-08-04T22:03:04.782335Z",
          "shell.execute_reply.started": "2022-08-04T22:03:04.717753Z",
          "shell.execute_reply": "2022-08-04T22:03:04.781295Z"
        },
        "trusted": true,
        "id": "P9hSiZSV-cqn"
      },
      "execution_count": null,
      "outputs": []
    },
    {
      "cell_type": "code",
      "source": [
        "df[\"Displacement_cc\"]= df.Displacement.str[0].str.strip(\"\\n\")"
      ],
      "metadata": {
        "scrolled": true,
        "execution": {
          "iopub.status.busy": "2022-08-04T22:03:04.783598Z",
          "iopub.execute_input": "2022-08-04T22:03:04.784813Z",
          "iopub.status.idle": "2022-08-04T22:03:04.832375Z",
          "shell.execute_reply.started": "2022-08-04T22:03:04.784774Z",
          "shell.execute_reply": "2022-08-04T22:03:04.831094Z"
        },
        "trusted": true,
        "id": "emSH62jQ-cqn"
      },
      "execution_count": 180,
      "outputs": []
    },
    {
      "cell_type": "code",
      "source": [
        "df[\"Displacement_cc\"] = df[\"Displacement_cc\"].str.replace(\",\",\"\").str.rstrip(\" cc\")"
      ],
      "metadata": {
        "execution": {
          "iopub.status.busy": "2022-08-04T22:03:04.834101Z",
          "iopub.execute_input": "2022-08-04T22:03:04.834454Z",
          "iopub.status.idle": "2022-08-04T22:03:04.861522Z",
          "shell.execute_reply.started": "2022-08-04T22:03:04.834423Z",
          "shell.execute_reply": "2022-08-04T22:03:04.860155Z"
        },
        "trusted": true,
        "id": "W_ottGiy-cqo"
      },
      "execution_count": 181,
      "outputs": []
    },
    {
      "cell_type": "code",
      "source": [
        "df[\"Displacement_cc\"]=df[\"Displacement_cc\"].astype(\"float\")"
      ],
      "metadata": {
        "execution": {
          "iopub.status.busy": "2022-08-04T22:03:04.863937Z",
          "iopub.execute_input": "2022-08-04T22:03:04.864663Z",
          "iopub.status.idle": "2022-08-04T22:03:04.873739Z",
          "shell.execute_reply.started": "2022-08-04T22:03:04.864623Z",
          "shell.execute_reply": "2022-08-04T22:03:04.872424Z"
        },
        "trusted": true,
        "id": "_YO3GJ9J-cqo"
      },
      "execution_count": 182,
      "outputs": []
    },
    {
      "cell_type": "code",
      "source": [
        "df.drop(\"Displacement\", axis=1, inplace=True)"
      ],
      "metadata": {
        "execution": {
          "iopub.status.busy": "2022-08-04T22:03:04.875315Z",
          "iopub.execute_input": "2022-08-04T22:03:04.875688Z",
          "iopub.status.idle": "2022-08-04T22:03:04.918446Z",
          "shell.execute_reply.started": "2022-08-04T22:03:04.875655Z",
          "shell.execute_reply": "2022-08-04T22:03:04.917313Z"
        },
        "trusted": true,
        "id": "gJHHEQMK-cqp"
      },
      "execution_count": 183,
      "outputs": []
    },
    {
      "cell_type": "markdown",
      "source": [
        "### Cylinders"
      ],
      "metadata": {
        "id": "Kuo1Lfv_-cqr"
      }
    },
    {
      "cell_type": "code",
      "source": [
        "df.Cylinders.value_counts(dropna=False)"
      ],
      "metadata": {
        "scrolled": true,
        "execution": {
          "iopub.status.busy": "2022-08-04T22:03:04.920355Z",
          "iopub.execute_input": "2022-08-04T22:03:04.92085Z",
          "iopub.status.idle": "2022-08-04T22:03:04.959456Z",
          "shell.execute_reply.started": "2022-08-04T22:03:04.920814Z",
          "shell.execute_reply": "2022-08-04T22:03:04.958262Z"
        },
        "trusted": true,
        "id": "AxCJNScI-cqs"
      },
      "execution_count": null,
      "outputs": []
    },
    {
      "cell_type": "code",
      "source": [
        "df[\"Cylinders\"]=df[\"Cylinders\"].str[0].str.strip(\"\\n\").astype(\"float\")"
      ],
      "metadata": {
        "execution": {
          "iopub.status.busy": "2022-08-04T22:03:04.961478Z",
          "iopub.execute_input": "2022-08-04T22:03:04.962477Z",
          "iopub.status.idle": "2022-08-04T22:03:05.009754Z",
          "shell.execute_reply.started": "2022-08-04T22:03:04.962426Z",
          "shell.execute_reply": "2022-08-04T22:03:05.008312Z"
        },
        "trusted": true,
        "id": "UcQ0oGVY-cqt"
      },
      "execution_count": 184,
      "outputs": []
    },
    {
      "cell_type": "code",
      "source": [
        "df.Cylinders.value_counts(dropna=False)"
      ],
      "metadata": {
        "execution": {
          "iopub.status.busy": "2022-08-04T22:03:05.012003Z",
          "iopub.execute_input": "2022-08-04T22:03:05.012945Z",
          "iopub.status.idle": "2022-08-04T22:03:05.02351Z",
          "shell.execute_reply.started": "2022-08-04T22:03:05.012869Z",
          "shell.execute_reply": "2022-08-04T22:03:05.022384Z"
        },
        "trusted": true,
        "id": "P1ifEWkD-cqu",
        "colab": {
          "base_uri": "https://localhost:8080/"
        },
        "outputId": "aee3356f-7e37-4977-ff5e-7bdc915e7361"
      },
      "execution_count": 185,
      "outputs": [
        {
          "output_type": "execute_result",
          "data": {
            "text/plain": [
              "4.000    8105\n",
              "NaN      5680\n",
              "3.000    2104\n",
              "5.000      22\n",
              "6.000       3\n",
              "8.000       2\n",
              "2.000       2\n",
              "1.000       1\n",
              "Name: Cylinders, dtype: int64"
            ]
          },
          "metadata": {},
          "execution_count": 185
        }
      ]
    },
    {
      "cell_type": "markdown",
      "source": [
        "### Weight"
      ],
      "metadata": {
        "id": "TSMY8LvQ-cqu"
      }
    },
    {
      "cell_type": "code",
      "source": [
        "df.Weight.value_counts(dropna=False)"
      ],
      "metadata": {
        "scrolled": true,
        "execution": {
          "iopub.status.busy": "2022-08-04T22:03:05.024981Z",
          "iopub.execute_input": "2022-08-04T22:03:05.025977Z",
          "iopub.status.idle": "2022-08-04T22:03:05.14986Z",
          "shell.execute_reply.started": "2022-08-04T22:03:05.02593Z",
          "shell.execute_reply": "2022-08-04T22:03:05.148425Z"
        },
        "trusted": true,
        "id": "rsjhiCEu-cqv"
      },
      "execution_count": null,
      "outputs": []
    },
    {
      "cell_type": "code",
      "source": [
        "#df.weight=df.Weight.str[0].str.lstrip(\"\\n\").str.rstrip(\" kg\\n\").str.replace(\",\",\"\").astype(\"float\")"
      ],
      "metadata": {
        "id": "XYPXPt7AcenB"
      },
      "execution_count": null,
      "outputs": []
    },
    {
      "cell_type": "code",
      "source": [
        "df[\"Weight_kg\"]= df.Weight.str[0].str.strip(\"\\n\")"
      ],
      "metadata": {
        "execution": {
          "iopub.status.busy": "2022-08-04T22:03:05.151971Z",
          "iopub.execute_input": "2022-08-04T22:03:05.152667Z",
          "iopub.status.idle": "2022-08-04T22:03:05.185652Z",
          "shell.execute_reply.started": "2022-08-04T22:03:05.152618Z",
          "shell.execute_reply": "2022-08-04T22:03:05.184266Z"
        },
        "trusted": true,
        "id": "Yuw4FcIM-cqv"
      },
      "execution_count": 186,
      "outputs": []
    },
    {
      "cell_type": "code",
      "source": [
        "df[\"Weight_kg\"] = df[\"Weight_kg\"].str.replace(\",\",\"\").str.rstrip(\" kg\")"
      ],
      "metadata": {
        "execution": {
          "iopub.status.busy": "2022-08-04T22:03:05.187281Z",
          "iopub.execute_input": "2022-08-04T22:03:05.188423Z",
          "iopub.status.idle": "2022-08-04T22:03:05.209522Z",
          "shell.execute_reply.started": "2022-08-04T22:03:05.188382Z",
          "shell.execute_reply": "2022-08-04T22:03:05.208189Z"
        },
        "trusted": true,
        "id": "oW8zq5BS-cqw"
      },
      "execution_count": 187,
      "outputs": []
    },
    {
      "cell_type": "code",
      "source": [
        "df[\"Weight_kg\"]= df[\"Weight_kg\"].astype(\"float\")"
      ],
      "metadata": {
        "execution": {
          "iopub.status.busy": "2022-08-04T22:03:05.210861Z",
          "iopub.execute_input": "2022-08-04T22:03:05.211263Z",
          "iopub.status.idle": "2022-08-04T22:03:05.219765Z",
          "shell.execute_reply.started": "2022-08-04T22:03:05.211229Z",
          "shell.execute_reply": "2022-08-04T22:03:05.218424Z"
        },
        "trusted": true,
        "id": "LTftxQJK-cqw"
      },
      "execution_count": 188,
      "outputs": []
    },
    {
      "cell_type": "code",
      "source": [
        "df[\"Weight_kg\"].value_counts(dropna=False)"
      ],
      "metadata": {
        "execution": {
          "iopub.status.busy": "2022-08-04T22:03:05.22167Z",
          "iopub.execute_input": "2022-08-04T22:03:05.223096Z",
          "iopub.status.idle": "2022-08-04T22:03:05.236016Z",
          "shell.execute_reply.started": "2022-08-04T22:03:05.22304Z",
          "shell.execute_reply": "2022-08-04T22:03:05.234967Z"
        },
        "trusted": true,
        "id": "B-dO1ATF-cqw",
        "colab": {
          "base_uri": "https://localhost:8080/"
        },
        "outputId": "7d74b099-47e1-4f24-e011-03d136ee492b"
      },
      "execution_count": 189,
      "outputs": [
        {
          "output_type": "execute_result",
          "data": {
            "text/plain": [
              "NaN         6974\n",
              "1163.000     574\n",
              "1360.000     356\n",
              "1165.000     301\n",
              "1335.000     242\n",
              "            ... \n",
              "1960.000       1\n",
              "1258.000       1\n",
              "1167.000       1\n",
              "1331.000       1\n",
              "2037.000       1\n",
              "Name: Weight_kg, Length: 435, dtype: int64"
            ]
          },
          "metadata": {},
          "execution_count": 189
        }
      ]
    },
    {
      "cell_type": "code",
      "source": [
        "df.drop(\"Weight\", axis=1, inplace=True)"
      ],
      "metadata": {
        "execution": {
          "iopub.status.busy": "2022-08-04T22:03:05.237915Z",
          "iopub.execute_input": "2022-08-04T22:03:05.238486Z",
          "iopub.status.idle": "2022-08-04T22:03:05.258806Z",
          "shell.execute_reply.started": "2022-08-04T22:03:05.238449Z",
          "shell.execute_reply": "2022-08-04T22:03:05.257398Z"
        },
        "trusted": true,
        "id": "RuzyUoLz-cqx"
      },
      "execution_count": 190,
      "outputs": []
    },
    {
      "cell_type": "markdown",
      "source": [
        "### Drive chain"
      ],
      "metadata": {
        "id": "P3oM2lYU-cqx"
      }
    },
    {
      "cell_type": "code",
      "source": [
        "df[\"Drive chain\"].value_counts(dropna=True)"
      ],
      "metadata": {
        "execution": {
          "iopub.status.busy": "2022-08-04T22:03:05.260397Z",
          "iopub.execute_input": "2022-08-04T22:03:05.260807Z",
          "iopub.status.idle": "2022-08-04T22:03:05.296865Z",
          "shell.execute_reply.started": "2022-08-04T22:03:05.260771Z",
          "shell.execute_reply": "2022-08-04T22:03:05.295632Z"
        },
        "trusted": true,
        "id": "Mw_UWEBn-cqy"
      },
      "execution_count": null,
      "outputs": []
    },
    {
      "cell_type": "code",
      "source": [
        "df[\"Drive_chain\"]=df[\"Drive chain\"].str[0].str.strip(\"\\n\")"
      ],
      "metadata": {
        "execution": {
          "iopub.status.busy": "2022-08-04T22:03:05.298493Z",
          "iopub.execute_input": "2022-08-04T22:03:05.299323Z",
          "iopub.status.idle": "2022-08-04T22:03:05.35078Z",
          "shell.execute_reply.started": "2022-08-04T22:03:05.299286Z",
          "shell.execute_reply": "2022-08-04T22:03:05.349828Z"
        },
        "trusted": true,
        "id": "OtN-UIbN-cqy"
      },
      "execution_count": 191,
      "outputs": []
    },
    {
      "cell_type": "code",
      "source": [
        "df.drop(\"Drive chain\", axis=1, inplace=True)"
      ],
      "metadata": {
        "execution": {
          "iopub.status.busy": "2022-08-04T22:03:05.352453Z",
          "iopub.execute_input": "2022-08-04T22:03:05.353142Z",
          "iopub.status.idle": "2022-08-04T22:03:05.402053Z",
          "shell.execute_reply.started": "2022-08-04T22:03:05.353104Z",
          "shell.execute_reply": "2022-08-04T22:03:05.400356Z"
        },
        "trusted": true,
        "id": "sdXfS2Yh-cqy"
      },
      "execution_count": 192,
      "outputs": []
    },
    {
      "cell_type": "markdown",
      "source": [
        "### Fuel"
      ],
      "metadata": {
        "id": "9N86wHAj-cqz"
      }
    },
    {
      "cell_type": "code",
      "source": [
        "df.Fuel.value_counts(dropna=False)"
      ],
      "metadata": {
        "execution": {
          "iopub.status.busy": "2022-08-04T22:03:05.403997Z",
          "iopub.execute_input": "2022-08-04T22:03:05.404816Z",
          "iopub.status.idle": "2022-08-04T22:03:05.46392Z",
          "shell.execute_reply.started": "2022-08-04T22:03:05.404764Z",
          "shell.execute_reply": "2022-08-04T22:03:05.462561Z"
        },
        "trusted": true,
        "id": "aLurZIW9-cqz"
      },
      "execution_count": null,
      "outputs": []
    },
    {
      "cell_type": "code",
      "source": [
        "df.Fuel=df.Fuel.str[1].str.split(\"/\").str[0].str.strip()"
      ],
      "metadata": {
        "execution": {
          "iopub.status.busy": "2022-08-04T22:03:05.465507Z",
          "iopub.execute_input": "2022-08-04T22:03:05.465935Z",
          "iopub.status.idle": "2022-08-04T22:03:05.571868Z",
          "shell.execute_reply.started": "2022-08-04T22:03:05.465868Z",
          "shell.execute_reply": "2022-08-04T22:03:05.570468Z"
        },
        "trusted": true,
        "id": "QAbVEVzi-cqz"
      },
      "execution_count": 193,
      "outputs": []
    },
    {
      "cell_type": "code",
      "source": [
        "df.Fuel=df.Fuel.str.split(\"(\").str[0].str.strip()"
      ],
      "metadata": {
        "execution": {
          "iopub.status.busy": "2022-08-04T22:03:05.573582Z",
          "iopub.execute_input": "2022-08-04T22:03:05.57408Z",
          "iopub.status.idle": "2022-08-04T22:03:05.643501Z",
          "shell.execute_reply.started": "2022-08-04T22:03:05.574042Z",
          "shell.execute_reply": "2022-08-04T22:03:05.642193Z"
        },
        "trusted": true,
        "id": "m98wsXzN-cq0"
      },
      "execution_count": 194,
      "outputs": []
    },
    {
      "cell_type": "code",
      "source": [
        "df.Fuel.value_counts()"
      ],
      "metadata": {
        "execution": {
          "iopub.status.busy": "2022-08-04T22:03:05.645104Z",
          "iopub.execute_input": "2022-08-04T22:03:05.645481Z",
          "iopub.status.idle": "2022-08-04T22:03:05.661203Z",
          "shell.execute_reply.started": "2022-08-04T22:03:05.645448Z",
          "shell.execute_reply": "2022-08-04T22:03:05.660113Z"
        },
        "trusted": true,
        "id": "McHkm7rk-cq0",
        "colab": {
          "base_uri": "https://localhost:8080/"
        },
        "outputId": "4ad8b243-216a-4c13-a60a-94c45e68cbe0"
      },
      "execution_count": 195,
      "outputs": [
        {
          "output_type": "execute_result",
          "data": {
            "text/plain": [
              "Diesel                  7299\n",
              "Super 95                4368\n",
              "Gasoline                3252\n",
              "Regular                  503\n",
              "Super E10 95             409\n",
              "CNG                       36\n",
              "LPG                       16\n",
              "Super Plus 98             11\n",
              "Liquid petroleum gas      10\n",
              "Others                     6\n",
              "Electric                   5\n",
              "Super Plus E10 98          2\n",
              "Biogas                     1\n",
              "Domestic gas H             1\n",
              "Name: Fuel, dtype: int64"
            ]
          },
          "metadata": {},
          "execution_count": 195
        }
      ]
    },
    {
      "cell_type": "code",
      "source": [
        "benzine = [\"Gasoline\", \"Super 95\",\"Regular\",\"Super E10 95\",\"Super Plus 98\",\"Super Plus E10 98\", \"Others\"]\n",
        "lpg = [\"LPG\",\"Liquid petroleum gas\", \"CNG\", \"Biogas\", \"Domestic gas H\"]\n",
        "def fueltype(x):\n",
        "    if x in benzine:\n",
        "        return \"Benzine\"\n",
        "    elif x in lpg:\n",
        "        return \"LPG/CNG\"\n",
        "    else:\n",
        "        return x\n",
        "df[\"Fuel\"] = df.Fuel.apply(fueltype)"
      ],
      "metadata": {
        "execution": {
          "iopub.status.busy": "2022-08-04T22:03:05.662466Z",
          "iopub.execute_input": "2022-08-04T22:03:05.663354Z",
          "iopub.status.idle": "2022-08-04T22:03:05.684536Z",
          "shell.execute_reply.started": "2022-08-04T22:03:05.663315Z",
          "shell.execute_reply": "2022-08-04T22:03:05.683343Z"
        },
        "trusted": true,
        "id": "XvZ9LBjN-cq0"
      },
      "execution_count": 196,
      "outputs": []
    },
    {
      "cell_type": "code",
      "source": [
        "df.Fuel.value_counts(dropna=False)"
      ],
      "metadata": {
        "execution": {
          "iopub.status.busy": "2022-08-04T22:03:05.687059Z",
          "iopub.execute_input": "2022-08-04T22:03:05.687436Z",
          "iopub.status.idle": "2022-08-04T22:03:05.705609Z",
          "shell.execute_reply.started": "2022-08-04T22:03:05.687402Z",
          "shell.execute_reply": "2022-08-04T22:03:05.704306Z"
        },
        "trusted": true,
        "id": "vZe0S8LI-cq1",
        "colab": {
          "base_uri": "https://localhost:8080/"
        },
        "outputId": "c7990a89-38ed-4568-a376-5cc5cb176561"
      },
      "execution_count": 197,
      "outputs": [
        {
          "output_type": "execute_result",
          "data": {
            "text/plain": [
              "Benzine     8551\n",
              "Diesel      7299\n",
              "LPG/CNG       64\n",
              "Electric       5\n",
              "Name: Fuel, dtype: int64"
            ]
          },
          "metadata": {},
          "execution_count": 197
        }
      ]
    },
    {
      "cell_type": "markdown",
      "source": [
        "### Consumption"
      ],
      "metadata": {
        "id": "qyxBeL3y-cq1"
      }
    },
    {
      "cell_type": "code",
      "source": [
        "df.Consumption.value_counts(dropna=False)"
      ],
      "metadata": {
        "scrolled": true,
        "execution": {
          "iopub.status.busy": "2022-08-04T22:03:05.707486Z",
          "iopub.execute_input": "2022-08-04T22:03:05.707965Z",
          "iopub.status.idle": "2022-08-04T22:03:06.11697Z",
          "shell.execute_reply.started": "2022-08-04T22:03:05.707919Z",
          "shell.execute_reply": "2022-08-04T22:03:06.116115Z"
        },
        "trusted": true,
        "colab": {
          "base_uri": "https://localhost:8080/",
          "height": 425
        },
        "id": "RsSzQOSJ-cq1",
        "outputId": "540effdc-fb23-45fe-83d6-24eb1b8a8599"
      },
      "execution_count": 198,
      "outputs": [
        {
          "output_type": "error",
          "ename": "TypeError",
          "evalue": "ignored",
          "traceback": [
            "\u001b[0;31m---------------------------------------------------------------------------\u001b[0m",
            "\u001b[0;31mTypeError\u001b[0m                                 Traceback (most recent call last)",
            "\u001b[0;32mpandas/_libs/hashtable_class_helper.pxi\u001b[0m in \u001b[0;36mpandas._libs.hashtable.PyObjectHashTable.map_locations\u001b[0;34m()\u001b[0m\n",
            "\u001b[0;31mTypeError\u001b[0m: unhashable type: 'list'"
          ]
        },
        {
          "output_type": "stream",
          "name": "stderr",
          "text": [
            "Exception ignored in: 'pandas._libs.index.IndexEngine._call_map_locations'\n",
            "Traceback (most recent call last):\n",
            "  File \"pandas/_libs/hashtable_class_helper.pxi\", line 5231, in pandas._libs.hashtable.PyObjectHashTable.map_locations\n",
            "TypeError: unhashable type: 'list'\n"
          ]
        },
        {
          "output_type": "execute_result",
          "data": {
            "text/plain": [
              "NaN                                                                                   1906\n",
              "[[3.9 l/100 km (comb)], [4.1 l/100 km (city)], [3.7 l/100 km (country)]]               304\n",
              "[[4.2 l/100 km (comb)], [5 l/100 km (city)], [3.7 l/100 km (country)]]                 276\n",
              "[[5.4 l/100 km (comb)], [6.8 l/100 km (city)], [4.5 l/100 km (country)]]               257\n",
              "[[3.8 l/100 km (comb)], [4.3 l/100 km (city)], [3.5 l/100 km (country)]]               253\n",
              "                                                                                      ... \n",
              "[[4.2 l/100 km (comb)], [5.3 l/100 km (city)], [3.6 l/100 km (country)]]                 1\n",
              "[\\n, 5.1 l/100 km (comb), \\n, 6.4 l/100 km (city), \\n, 4.3 l/100 km (country), \\n]       1\n",
              "[[4.6 l/100 km (comb)], [5.4 l/100 km (city)], [6.7 l/100 km (country)]]                 1\n",
              "[\\n, 6.3 l/100 km (comb), \\n, \\n, \\n]                                                    1\n",
              "[\\n, 7.4 l/100 km (comb), \\n, 9.6 l/100 km (city), \\n, 6 l/100 km (country), \\n]         1\n",
              "Name: Consumption, Length: 882, dtype: int64"
            ]
          },
          "metadata": {},
          "execution_count": 198
        }
      ]
    },
    {
      "cell_type": "code",
      "source": [
        "df[\"Consumption\"]"
      ],
      "metadata": {
        "colab": {
          "base_uri": "https://localhost:8080/"
        },
        "id": "5wNYcj86Q9eX",
        "outputId": "31a887b0-1b28-42b5-aff1-4b4228d5c728"
      },
      "execution_count": 199,
      "outputs": [
        {
          "output_type": "execute_result",
          "data": {
            "text/plain": [
              "0        [[3.8 l/100 km (comb)], [4.3 l/100 km (city)],...\n",
              "1        [[5.6 l/100 km (comb)], [7.1 l/100 km (city)],...\n",
              "2        [[3.8 l/100 km (comb)], [4.4 l/100 km (city)],...\n",
              "3        [[3.8 l/100 km (comb)], [4.3 l/100 km (city)],...\n",
              "4        [[4.1 l/100 km (comb)], [4.6 l/100 km (city)],...\n",
              "                               ...                        \n",
              "15914    [[5.3 l/100 km (comb)], [6.2 l/100 km (city)],...\n",
              "15915    [\\n, 7.4 l/100 km (comb), \\n, 9.2 l/100 km (ci...\n",
              "15916    [[5.3 l/100 km (comb)], [6.2 l/100 km (city)],...\n",
              "15917    [[5.3 l/100 km (comb)], [6.2 l/100 km (city)],...\n",
              "15918    [[6.8 l/100 km (comb)], [8.7 l/100 km (city)],...\n",
              "Name: Consumption, Length: 15919, dtype: object"
            ]
          },
          "metadata": {},
          "execution_count": 199
        }
      ]
    },
    {
      "cell_type": "code",
      "source": [
        "def comb(x):\n",
        "    if type(x) == float:\n",
        "        return np.nan\n",
        "    elif type(x[0]) == list:\n",
        "        if x[0] != []:\n",
        "            return x[0][0]\n",
        "        else:\n",
        "            return np.nan\n",
        "    else:\n",
        "        return x[1]"
      ],
      "metadata": {
        "execution": {
          "iopub.status.busy": "2022-08-04T22:03:06.118368Z",
          "iopub.execute_input": "2022-08-04T22:03:06.119056Z",
          "iopub.status.idle": "2022-08-04T22:03:06.125078Z",
          "shell.execute_reply.started": "2022-08-04T22:03:06.11902Z",
          "shell.execute_reply": "2022-08-04T22:03:06.124188Z"
        },
        "trusted": true,
        "id": "LdvEqdkZ-cq1"
      },
      "execution_count": 200,
      "outputs": []
    },
    {
      "cell_type": "code",
      "source": [
        "df[\"Consumption_comb\"]= df.Consumption.apply(comb).str.extract('(\\d*.\\d*)')[0].astype(\"float\")"
      ],
      "metadata": {
        "execution": {
          "iopub.status.busy": "2022-08-04T22:03:06.126165Z",
          "iopub.execute_input": "2022-08-04T22:03:06.126526Z",
          "iopub.status.idle": "2022-08-04T22:03:06.20835Z",
          "shell.execute_reply.started": "2022-08-04T22:03:06.126494Z",
          "shell.execute_reply": "2022-08-04T22:03:06.206816Z"
        },
        "trusted": true,
        "id": "gqG1jNU6-cq2"
      },
      "execution_count": 201,
      "outputs": []
    },
    {
      "cell_type": "markdown",
      "source": [],
      "metadata": {
        "id": "-W6xjdruQtw4"
      }
    },
    {
      "cell_type": "markdown",
      "source": [],
      "metadata": {
        "id": "kjiSniQZQMeU"
      }
    },
    {
      "cell_type": "code",
      "source": [
        "df.Consumption_comb.value_counts(dropna=False).head()"
      ],
      "metadata": {
        "scrolled": true,
        "execution": {
          "iopub.status.busy": "2022-08-04T22:03:06.21026Z",
          "iopub.execute_input": "2022-08-04T22:03:06.210692Z",
          "iopub.status.idle": "2022-08-04T22:03:06.222242Z",
          "shell.execute_reply.started": "2022-08-04T22:03:06.210654Z",
          "shell.execute_reply": "2022-08-04T22:03:06.220977Z"
        },
        "trusted": true,
        "colab": {
          "base_uri": "https://localhost:8080/"
        },
        "id": "V55PDztW-cq3",
        "outputId": "2439bd36-b4d8-4121-f800-afe29249b394"
      },
      "execution_count": 202,
      "outputs": [
        {
          "output_type": "execute_result",
          "data": {
            "text/plain": [
              "NaN      2033\n",
              "5.400     770\n",
              "3.900     733\n",
              "4.000     713\n",
              "5.100     657\n",
              "Name: Consumption_comb, dtype: int64"
            ]
          },
          "metadata": {},
          "execution_count": 202
        }
      ]
    },
    {
      "cell_type": "code",
      "source": [
        "df.drop(\"Consumption\", axis=1, inplace=True)"
      ],
      "metadata": {
        "execution": {
          "iopub.status.busy": "2022-08-04T22:03:06.224Z",
          "iopub.execute_input": "2022-08-04T22:03:06.224897Z",
          "iopub.status.idle": "2022-08-04T22:03:06.244859Z",
          "shell.execute_reply.started": "2022-08-04T22:03:06.224785Z",
          "shell.execute_reply": "2022-08-04T22:03:06.24356Z"
        },
        "trusted": true,
        "id": "2a0sEPF2-cq3"
      },
      "execution_count": 203,
      "outputs": []
    },
    {
      "cell_type": "markdown",
      "source": [
        "### CO2 Emission"
      ],
      "metadata": {
        "id": "QyXlHGak-cq3"
      }
    },
    {
      "cell_type": "code",
      "source": [
        "df[\"CO2 Emission\"].value_counts(dropna=False)"
      ],
      "metadata": {
        "execution": {
          "iopub.status.busy": "2022-08-04T22:03:06.246452Z",
          "iopub.execute_input": "2022-08-04T22:03:06.246837Z",
          "iopub.status.idle": "2022-08-04T22:03:06.306952Z",
          "shell.execute_reply.started": "2022-08-04T22:03:06.246803Z",
          "shell.execute_reply": "2022-08-04T22:03:06.305986Z"
        },
        "trusted": true,
        "colab": {
          "base_uri": "https://localhost:8080/",
          "height": 425
        },
        "id": "lXiRIzRl-cq3",
        "outputId": "d1c1ed61-6060-488f-9f6f-56f2220ced6b"
      },
      "execution_count": 204,
      "outputs": [
        {
          "output_type": "error",
          "ename": "TypeError",
          "evalue": "ignored",
          "traceback": [
            "\u001b[0;31m---------------------------------------------------------------------------\u001b[0m",
            "\u001b[0;31mTypeError\u001b[0m                                 Traceback (most recent call last)",
            "\u001b[0;32mpandas/_libs/hashtable_class_helper.pxi\u001b[0m in \u001b[0;36mpandas._libs.hashtable.PyObjectHashTable.map_locations\u001b[0;34m()\u001b[0m\n",
            "\u001b[0;31mTypeError\u001b[0m: unhashable type: 'list'"
          ]
        },
        {
          "output_type": "stream",
          "name": "stderr",
          "text": [
            "Exception ignored in: 'pandas._libs.index.IndexEngine._call_map_locations'\n",
            "Traceback (most recent call last):\n",
            "  File \"pandas/_libs/hashtable_class_helper.pxi\", line 5231, in pandas._libs.hashtable.PyObjectHashTable.map_locations\n",
            "TypeError: unhashable type: 'list'\n"
          ]
        },
        {
          "output_type": "execute_result",
          "data": {
            "text/plain": [
              "NaN                            1808\n",
              "[\\n120 g CO2/km (comb)\\n]       740\n",
              "[[], [], []]                    628\n",
              "[\\n99 g CO2/km (comb)\\n]        545\n",
              "[\\n97 g CO2/km (comb)\\n]        537\n",
              "                               ... \n",
              "[\\n14 g CO2/km (comb)\\n]          1\n",
              "[\\n1,060 g CO2/km (comb)\\n]       1\n",
              "[\\n51 g CO2/km (comb)\\n]          1\n",
              "[\\n165 g CO2/km (comb)\\n]         1\n",
              "[\\n193 g CO2/km (comb)\\n]         1\n",
              "Name: CO2 Emission, Length: 124, dtype: int64"
            ]
          },
          "metadata": {},
          "execution_count": 204
        }
      ]
    },
    {
      "cell_type": "code",
      "source": [
        "df[\"CO2_Emission\"]= df[\"CO2 Emission\"].str[0].str.strip(\"\\n\").str.rstrip(\" g CO2/km (comb)\").str.replace(\",\",\".\").astype(\"float\")"
      ],
      "metadata": {
        "execution": {
          "iopub.status.busy": "2022-08-04T22:03:06.308655Z",
          "iopub.execute_input": "2022-08-04T22:03:06.30903Z",
          "iopub.status.idle": "2022-08-04T22:03:06.379076Z",
          "shell.execute_reply.started": "2022-08-04T22:03:06.308994Z",
          "shell.execute_reply": "2022-08-04T22:03:06.377767Z"
        },
        "trusted": true,
        "id": "e4ytZvxv-cq4"
      },
      "execution_count": 205,
      "outputs": []
    },
    {
      "cell_type": "code",
      "source": [
        "df[\"CO2_Emission\"].value_counts()"
      ],
      "metadata": {
        "execution": {
          "iopub.status.busy": "2022-08-04T22:03:06.380872Z",
          "iopub.execute_input": "2022-08-04T22:03:06.381305Z",
          "iopub.status.idle": "2022-08-04T22:03:06.393667Z",
          "shell.execute_reply.started": "2022-08-04T22:03:06.381267Z",
          "shell.execute_reply": "2022-08-04T22:03:06.392608Z"
        },
        "trusted": true,
        "colab": {
          "base_uri": "https://localhost:8080/"
        },
        "id": "znsSM3oF-cq4",
        "outputId": "3cc864e4-e53d-4072-fb38-927760cbb4b7"
      },
      "execution_count": 206,
      "outputs": [
        {
          "output_type": "execute_result",
          "data": {
            "text/plain": [
              "120.000    740\n",
              "99.000     545\n",
              "97.000     537\n",
              "104.000    501\n",
              "10.000     477\n",
              "          ... \n",
              "253.000      1\n",
              "1.060        1\n",
              "51.000       1\n",
              "165.000      1\n",
              "193.000      1\n",
              "Name: CO2_Emission, Length: 120, dtype: int64"
            ]
          },
          "metadata": {},
          "execution_count": 206
        }
      ]
    },
    {
      "cell_type": "code",
      "source": [
        "df.drop(\"CO2 Emission\", axis=1,inplace=True)"
      ],
      "metadata": {
        "execution": {
          "iopub.status.busy": "2022-08-04T22:03:06.395426Z",
          "iopub.execute_input": "2022-08-04T22:03:06.395834Z",
          "iopub.status.idle": "2022-08-04T22:03:06.414605Z",
          "shell.execute_reply.started": "2022-08-04T22:03:06.395754Z",
          "shell.execute_reply": "2022-08-04T22:03:06.413568Z"
        },
        "trusted": true,
        "id": "QdChZHnB-cq4"
      },
      "execution_count": 207,
      "outputs": []
    },
    {
      "cell_type": "markdown",
      "source": [
        "### Emission Class"
      ],
      "metadata": {
        "id": "ReNJxPq6-cq4"
      }
    },
    {
      "cell_type": "code",
      "source": [
        "df[\"Emission Class\"].value_counts(dropna=False)"
      ],
      "metadata": {
        "scrolled": true,
        "execution": {
          "iopub.status.busy": "2022-08-04T22:03:06.415951Z",
          "iopub.execute_input": "2022-08-04T22:03:06.416327Z",
          "iopub.status.idle": "2022-08-04T22:03:06.456955Z",
          "shell.execute_reply.started": "2022-08-04T22:03:06.416293Z",
          "shell.execute_reply": "2022-08-04T22:03:06.455953Z"
        },
        "trusted": true,
        "colab": {
          "base_uri": "https://localhost:8080/",
          "height": 373
        },
        "id": "rXQmUSVr-cq4",
        "outputId": "7ba88e5c-83a8-451e-b04b-0c16eba9a995"
      },
      "execution_count": 208,
      "outputs": [
        {
          "output_type": "error",
          "ename": "TypeError",
          "evalue": "ignored",
          "traceback": [
            "\u001b[0;31m---------------------------------------------------------------------------\u001b[0m",
            "\u001b[0;31mTypeError\u001b[0m                                 Traceback (most recent call last)",
            "\u001b[0;32mpandas/_libs/hashtable_class_helper.pxi\u001b[0m in \u001b[0;36mpandas._libs.hashtable.PyObjectHashTable.map_locations\u001b[0;34m()\u001b[0m\n",
            "\u001b[0;31mTypeError\u001b[0m: unhashable type: 'list'"
          ]
        },
        {
          "output_type": "stream",
          "name": "stderr",
          "text": [
            "Exception ignored in: 'pandas._libs.index.IndexEngine._call_map_locations'\n",
            "Traceback (most recent call last):\n",
            "  File \"pandas/_libs/hashtable_class_helper.pxi\", line 5231, in pandas._libs.hashtable.PyObjectHashTable.map_locations\n",
            "TypeError: unhashable type: 'list'\n"
          ]
        },
        {
          "output_type": "execute_result",
          "data": {
            "text/plain": [
              "[\\nEuro 6\\n]          10139\n",
              "NaN                    3021\n",
              "[\\nEuro 6d-TEMP\\n]     1845\n",
              "[[], [], []]            607\n",
              "[\\nEuro 6c\\n]           127\n",
              "[\\nEuro 5\\n]             78\n",
              "[\\nEuro 6d\\n]            62\n",
              "[\\nEuro 4\\n]             40\n",
              "Name: Emission Class, dtype: int64"
            ]
          },
          "metadata": {},
          "execution_count": 208
        }
      ]
    },
    {
      "cell_type": "code",
      "source": [
        "df[\"Emission_Class\"]=df[\"Emission Class\"].str[0].str.strip(\"\\n\")"
      ],
      "metadata": {
        "execution": {
          "iopub.status.busy": "2022-08-04T22:03:06.458019Z",
          "iopub.execute_input": "2022-08-04T22:03:06.458366Z",
          "iopub.status.idle": "2022-08-04T22:03:06.504345Z",
          "shell.execute_reply.started": "2022-08-04T22:03:06.458335Z",
          "shell.execute_reply": "2022-08-04T22:03:06.502562Z"
        },
        "trusted": true,
        "id": "-EJPb1A8-cq5"
      },
      "execution_count": 209,
      "outputs": []
    },
    {
      "cell_type": "code",
      "source": [
        "df[\"Emission_Class\"].value_counts(dropna=False)"
      ],
      "metadata": {
        "execution": {
          "iopub.status.busy": "2022-08-04T22:03:06.506434Z",
          "iopub.execute_input": "2022-08-04T22:03:06.507387Z",
          "iopub.status.idle": "2022-08-04T22:03:06.518859Z",
          "shell.execute_reply.started": "2022-08-04T22:03:06.507345Z",
          "shell.execute_reply": "2022-08-04T22:03:06.517834Z"
        },
        "trusted": true,
        "id": "q2mJ6YTT-cq5",
        "colab": {
          "base_uri": "https://localhost:8080/"
        },
        "outputId": "d28918f1-24ad-469d-baf8-c81f7acfffff"
      },
      "execution_count": 210,
      "outputs": [
        {
          "output_type": "execute_result",
          "data": {
            "text/plain": [
              "Euro 6          10139\n",
              "NaN              3628\n",
              "Euro 6d-TEMP     1845\n",
              "Euro 6c           127\n",
              "Euro 5             78\n",
              "Euro 6d            62\n",
              "Euro 4             40\n",
              "Name: Emission_Class, dtype: int64"
            ]
          },
          "metadata": {},
          "execution_count": 210
        }
      ]
    },
    {
      "cell_type": "code",
      "source": [
        "df.Emission_Class.replace({\"Euro 6d-TEMP\":\"Euro 6\", \"Euro 6c\":\"Euro 6\", \"Euro 6d\":\"Euro 6\"}, inplace=True)"
      ],
      "metadata": {
        "execution": {
          "iopub.status.busy": "2022-08-04T22:03:06.520457Z",
          "iopub.execute_input": "2022-08-04T22:03:06.521793Z",
          "iopub.status.idle": "2022-08-04T22:03:06.543736Z",
          "shell.execute_reply.started": "2022-08-04T22:03:06.521737Z",
          "shell.execute_reply": "2022-08-04T22:03:06.542701Z"
        },
        "trusted": true,
        "id": "5wYpEzqa-cq5"
      },
      "execution_count": 211,
      "outputs": []
    },
    {
      "cell_type": "code",
      "source": [
        "df[\"Emission_Class\"].value_counts(dropna=False)"
      ],
      "metadata": {
        "scrolled": true,
        "execution": {
          "iopub.status.busy": "2022-08-04T22:03:06.545744Z",
          "iopub.execute_input": "2022-08-04T22:03:06.546189Z",
          "iopub.status.idle": "2022-08-04T22:03:06.560548Z",
          "shell.execute_reply.started": "2022-08-04T22:03:06.546152Z",
          "shell.execute_reply": "2022-08-04T22:03:06.559431Z"
        },
        "trusted": true,
        "id": "sPqs_BBQ-cq6"
      },
      "execution_count": null,
      "outputs": []
    },
    {
      "cell_type": "code",
      "source": [
        "df.drop(\"Emission Class\", axis=1, inplace=True)"
      ],
      "metadata": {
        "execution": {
          "iopub.status.busy": "2022-08-04T22:03:06.562148Z",
          "iopub.execute_input": "2022-08-04T22:03:06.56301Z",
          "iopub.status.idle": "2022-08-04T22:03:06.609171Z",
          "shell.execute_reply.started": "2022-08-04T22:03:06.562959Z",
          "shell.execute_reply": "2022-08-04T22:03:06.60801Z"
        },
        "trusted": true,
        "id": "wmAIXvSO-cq6"
      },
      "execution_count": 213,
      "outputs": []
    },
    {
      "cell_type": "markdown",
      "source": [
        "# description"
      ],
      "metadata": {
        "id": "HecRrxyh-cq6"
      }
    },
    {
      "cell_type": "code",
      "source": [
        "df.description.value_counts(dropna=False)"
      ],
      "metadata": {
        "execution": {
          "iopub.status.busy": "2022-08-04T22:03:06.611094Z",
          "iopub.execute_input": "2022-08-04T22:03:06.611951Z",
          "iopub.status.idle": "2022-08-04T22:03:18.557417Z",
          "shell.execute_reply.started": "2022-08-04T22:03:06.6119Z",
          "shell.execute_reply": "2022-08-04T22:03:18.555904Z"
        },
        "trusted": true,
        "id": "SuhtYaFT-cq6"
      },
      "execution_count": null,
      "outputs": []
    },
    {
      "cell_type": "code",
      "source": [
        "df.drop(\"description\", axis=1, inplace=True)"
      ],
      "metadata": {
        "execution": {
          "iopub.status.busy": "2022-08-04T22:03:18.559632Z",
          "iopub.execute_input": "2022-08-04T22:03:18.560097Z",
          "iopub.status.idle": "2022-08-04T22:03:18.582729Z",
          "shell.execute_reply.started": "2022-08-04T22:03:18.560056Z",
          "shell.execute_reply": "2022-08-04T22:03:18.581615Z"
        },
        "trusted": true,
        "id": "cK9uX7cf-cq7"
      },
      "execution_count": 214,
      "outputs": []
    },
    {
      "cell_type": "markdown",
      "source": [
        "### Emission Label"
      ],
      "metadata": {
        "id": "PmH5Dy3C-cq8"
      }
    },
    {
      "cell_type": "code",
      "source": [
        "df[\"Emission Label\"].value_counts(dropna=False)"
      ],
      "metadata": {
        "execution": {
          "iopub.status.busy": "2022-08-04T22:03:18.58455Z",
          "iopub.execute_input": "2022-08-04T22:03:18.585136Z",
          "iopub.status.idle": "2022-08-04T22:03:18.622606Z",
          "shell.execute_reply.started": "2022-08-04T22:03:18.585009Z",
          "shell.execute_reply": "2022-08-04T22:03:18.621221Z"
        },
        "trusted": true,
        "id": "D5mM5pkb-cq9"
      },
      "execution_count": null,
      "outputs": []
    },
    {
      "cell_type": "code",
      "source": [
        "df.drop(\"Emission Label\", axis=1, inplace=True)"
      ],
      "metadata": {
        "execution": {
          "iopub.status.busy": "2022-08-04T22:03:18.624308Z",
          "iopub.execute_input": "2022-08-04T22:03:18.624768Z",
          "iopub.status.idle": "2022-08-04T22:03:18.64759Z",
          "shell.execute_reply.started": "2022-08-04T22:03:18.624731Z",
          "shell.execute_reply": "2022-08-04T22:03:18.64601Z"
        },
        "trusted": true,
        "id": "BOVtx2Z3-cq9"
      },
      "execution_count": 215,
      "outputs": []
    },
    {
      "cell_type": "markdown",
      "source": [
        "### Gears"
      ],
      "metadata": {
        "id": "WvBjyhQ3-cq9"
      }
    },
    {
      "cell_type": "code",
      "source": [
        "df.Gears.value_counts(dropna=False)"
      ],
      "metadata": {
        "scrolled": true,
        "execution": {
          "iopub.status.busy": "2022-08-04T22:03:18.65119Z",
          "iopub.execute_input": "2022-08-04T22:03:18.652398Z",
          "iopub.status.idle": "2022-08-04T22:03:18.695268Z",
          "shell.execute_reply.started": "2022-08-04T22:03:18.652348Z",
          "shell.execute_reply": "2022-08-04T22:03:18.69392Z"
        },
        "trusted": true,
        "id": "bejn0u2c-cq-"
      },
      "execution_count": null,
      "outputs": []
    },
    {
      "cell_type": "code",
      "source": [
        "df[\"Gears\"]= df.Gears.str[0].str.strip(\"\\n\").astype(\"float\")"
      ],
      "metadata": {
        "execution": {
          "iopub.status.busy": "2022-08-04T22:03:18.697205Z",
          "iopub.execute_input": "2022-08-04T22:03:18.697776Z",
          "iopub.status.idle": "2022-08-04T22:03:18.74634Z",
          "shell.execute_reply.started": "2022-08-04T22:03:18.697712Z",
          "shell.execute_reply": "2022-08-04T22:03:18.744995Z"
        },
        "trusted": true,
        "id": "jLeJnzta-cq-"
      },
      "execution_count": 216,
      "outputs": []
    },
    {
      "cell_type": "code",
      "source": [
        "df[\"Gears\"].value_counts(dropna=False)"
      ],
      "metadata": {
        "execution": {
          "iopub.status.busy": "2022-08-04T22:03:18.747822Z",
          "iopub.execute_input": "2022-08-04T22:03:18.748436Z",
          "iopub.status.idle": "2022-08-04T22:03:18.759589Z",
          "shell.execute_reply.started": "2022-08-04T22:03:18.748401Z",
          "shell.execute_reply": "2022-08-04T22:03:18.758184Z"
        },
        "trusted": true,
        "id": "cFv_b4jA-cq_",
        "colab": {
          "base_uri": "https://localhost:8080/"
        },
        "outputId": "62daaad9-6ffc-4bff-ab99-14fff981e1a7"
      },
      "execution_count": 217,
      "outputs": [
        {
          "output_type": "execute_result",
          "data": {
            "text/plain": [
              "6.000     5822\n",
              "NaN       4712\n",
              "5.000     3239\n",
              "7.000     1908\n",
              "8.000      224\n",
              "9.000        6\n",
              "1.000        2\n",
              "3.000        2\n",
              "4.000        2\n",
              "2.000        1\n",
              "50.000       1\n",
              "Name: Gears, dtype: int64"
            ]
          },
          "metadata": {},
          "execution_count": 217
        }
      ]
    },
    {
      "cell_type": "markdown",
      "source": [
        "### Country version"
      ],
      "metadata": {
        "id": "kyM_mJj4-cq_"
      }
    },
    {
      "cell_type": "code",
      "source": [
        "df[\"Country version\"].value_counts(dropna=False)"
      ],
      "metadata": {
        "scrolled": true,
        "execution": {
          "iopub.status.busy": "2022-08-04T22:03:18.761302Z",
          "iopub.execute_input": "2022-08-04T22:03:18.762754Z",
          "iopub.status.idle": "2022-08-04T22:03:18.804894Z",
          "shell.execute_reply.started": "2022-08-04T22:03:18.762701Z",
          "shell.execute_reply": "2022-08-04T22:03:18.803829Z"
        },
        "trusted": true,
        "id": "Wk39CpLQ-cq_"
      },
      "execution_count": null,
      "outputs": []
    },
    {
      "cell_type": "code",
      "source": [
        "df.drop(\"Country version\", axis=1, inplace=True)"
      ],
      "metadata": {
        "execution": {
          "iopub.status.busy": "2022-08-04T22:03:18.80686Z",
          "iopub.execute_input": "2022-08-04T22:03:18.807548Z",
          "iopub.status.idle": "2022-08-04T22:03:18.837477Z",
          "shell.execute_reply.started": "2022-08-04T22:03:18.807505Z",
          "shell.execute_reply": "2022-08-04T22:03:18.836002Z"
        },
        "trusted": true,
        "id": "EGoO1XZF-cq_"
      },
      "execution_count": 218,
      "outputs": []
    },
    {
      "cell_type": "markdown",
      "source": [
        "###  Comfort & Convenience"
      ],
      "metadata": {
        "id": "TI-arKzP-crA"
      }
    },
    {
      "cell_type": "code",
      "source": [
        "df[\"Comfort & Convenience\"].value_counts(dropna=False)"
      ],
      "metadata": {
        "execution": {
          "iopub.status.busy": "2022-08-04T22:03:18.839099Z",
          "iopub.execute_input": "2022-08-04T22:03:18.840579Z",
          "iopub.status.idle": "2022-08-04T22:03:22.265618Z",
          "shell.execute_reply.started": "2022-08-04T22:03:18.84053Z",
          "shell.execute_reply": "2022-08-04T22:03:22.264324Z"
        },
        "trusted": true,
        "colab": {
          "base_uri": "https://localhost:8080/",
          "height": 824
        },
        "id": "7liB2fBN-crA",
        "outputId": "6c79033b-c5a3-4cd2-b0eb-a48590ec2532"
      },
      "execution_count": null,
      "outputs": [
        {
          "output_type": "error",
          "ename": "TypeError",
          "evalue": "ignored",
          "traceback": [
            "\u001b[0;31m---------------------------------------------------------------------------\u001b[0m",
            "\u001b[0;31mTypeError\u001b[0m                                 Traceback (most recent call last)",
            "\u001b[0;32mpandas/_libs/hashtable_class_helper.pxi\u001b[0m in \u001b[0;36mpandas._libs.hashtable.PyObjectHashTable.map_locations\u001b[0;34m()\u001b[0m\n",
            "\u001b[0;31mTypeError\u001b[0m: unhashable type: 'list'"
          ]
        },
        {
          "output_type": "stream",
          "name": "stderr",
          "text": [
            "Exception ignored in: 'pandas._libs.index.IndexEngine._call_map_locations'\n",
            "Traceback (most recent call last):\n",
            "  File \"pandas/_libs/hashtable_class_helper.pxi\", line 5231, in pandas._libs.hashtable.PyObjectHashTable.map_locations\n",
            "TypeError: unhashable type: 'list'\n"
          ]
        },
        {
          "output_type": "execute_result",
          "data": {
            "text/plain": [
              "NaN                                                                                                                                                                                                                                                                                                                                                                                                                                                                                                                          920\n",
              "[Air conditioning, Electrical side mirrors, Hill Holder, Power windows]                                                                                                                                                                                                                                                                                                                                                                                                                                                      216\n",
              "[Air conditioning, Electrical side mirrors, Power windows]                                                                                                                                                                                                                                                                                                                                                                                                                                                                   134\n",
              "[Air conditioning, Power windows]                                                                                                                                                                                                                                                                                                                                                                                                                                                                                            130\n",
              "[Air conditioning, Armrest, Automatic climate control, Cruise control, Electrical side mirrors, Leather steering wheel, Light sensor, Lumbar support, Multi-function steering wheel, Navigation system, Park Distance Control, Parking assist system sensors front, Parking assist system sensors rear, Power windows, Rain sensor, Seat heating, Start-stop system]                                                                                                                                                         105\n",
              "                                                                                                                                                                                                                                                                                                                                                                                                                                                                                                                            ... \n",
              "[Air conditioning, Cruise control, Electrical side mirrors, Hill Holder, Leather steering wheel, Light sensor, Multi-function steering wheel, Navigation system, Park Distance Control, Parking assist system sensors rear, Power windows, Rain sensor, Split rear seats, Start-stop system, Tinted windows]                                                                                                                                                                                                                   1\n",
              "[Air conditioning, Armrest, Automatic climate control, Cruise control, Electrical side mirrors, Heated steering wheel, Hill Holder, Leather steering wheel, Light sensor, Lumbar support, Multi-function steering wheel, Navigation system, Park Distance Control, Parking assist system camera, Parking assist system sensors front, Parking assist system sensors rear, Power windows, Rain sensor, Seat heating, Sunroof]                                                                                                   1\n",
              "[Air conditioning, Armrest, Cruise control, Electrical side mirrors, Heated steering wheel, Hill Holder, Leather steering wheel, Light sensor, Multi-function steering wheel, Park Distance Control, Parking assist system camera, Parking assist system sensors front, Parking assist system sensors rear, Power windows, Rain sensor, Seat heating, Split rear seats, Start-stop system, Tinted windows]                                                                                                                     1\n",
              "[Air conditioning, Automatic climate control, Cruise control, Electrical side mirrors, Leather steering wheel, Light sensor, Multi-function steering wheel, Park Distance Control, Parking assist system sensors front, Parking assist system sensors rear, Power windows, Rain sensor, Seat heating]                                                                                                                                                                                                                          1\n",
              "[Air conditioning, Automatic climate control, Cruise control, Electrically heated windshield, Electrical side mirrors, Electric tailgate, Heads-up display, Heated steering wheel, Hill Holder, Keyless central door lock, Leather steering wheel, Light sensor, Lumbar support, Navigation system, Park Distance Control, Parking assist system camera, Parking assist system self-steering, Parking assist system sensors front, Parking assist system sensors rear, Power windows, Rain sensor, Seat heating, Sunroof]      1\n",
              "Name: Comfort & Convenience, Length: 6199, dtype: int64"
            ]
          },
          "metadata": {},
          "execution_count": 65
        }
      ]
    },
    {
      "cell_type": "code",
      "source": [
        "df[\"Comfort & Convenience\"].value_counts(dropna=False)"
      ],
      "metadata": {
        "scrolled": true,
        "execution": {
          "iopub.status.busy": "2022-08-04T22:03:22.267292Z",
          "iopub.execute_input": "2022-08-04T22:03:22.268592Z",
          "iopub.status.idle": "2022-08-04T22:03:25.520644Z",
          "shell.execute_reply.started": "2022-08-04T22:03:22.268538Z",
          "shell.execute_reply": "2022-08-04T22:03:25.519203Z"
        },
        "trusted": true,
        "id": "3bFlK32r-crA",
        "colab": {
          "base_uri": "https://localhost:8080/",
          "height": 824
        },
        "outputId": "e2362c36-f61d-479c-ecdb-b76828117de0"
      },
      "execution_count": 219,
      "outputs": [
        {
          "output_type": "error",
          "ename": "TypeError",
          "evalue": "ignored",
          "traceback": [
            "\u001b[0;31m---------------------------------------------------------------------------\u001b[0m",
            "\u001b[0;31mTypeError\u001b[0m                                 Traceback (most recent call last)",
            "\u001b[0;32mpandas/_libs/hashtable_class_helper.pxi\u001b[0m in \u001b[0;36mpandas._libs.hashtable.PyObjectHashTable.map_locations\u001b[0;34m()\u001b[0m\n",
            "\u001b[0;31mTypeError\u001b[0m: unhashable type: 'list'"
          ]
        },
        {
          "output_type": "stream",
          "name": "stderr",
          "text": [
            "Exception ignored in: 'pandas._libs.index.IndexEngine._call_map_locations'\n",
            "Traceback (most recent call last):\n",
            "  File \"pandas/_libs/hashtable_class_helper.pxi\", line 5231, in pandas._libs.hashtable.PyObjectHashTable.map_locations\n",
            "TypeError: unhashable type: 'list'\n"
          ]
        },
        {
          "output_type": "execute_result",
          "data": {
            "text/plain": [
              "NaN                                                                                                                                                                                                                                                                                                                                                                                                                                                                                                                          920\n",
              "[Air conditioning, Electrical side mirrors, Hill Holder, Power windows]                                                                                                                                                                                                                                                                                                                                                                                                                                                      216\n",
              "[Air conditioning, Electrical side mirrors, Power windows]                                                                                                                                                                                                                                                                                                                                                                                                                                                                   134\n",
              "[Air conditioning, Power windows]                                                                                                                                                                                                                                                                                                                                                                                                                                                                                            130\n",
              "[Air conditioning, Armrest, Automatic climate control, Cruise control, Electrical side mirrors, Leather steering wheel, Light sensor, Lumbar support, Multi-function steering wheel, Navigation system, Park Distance Control, Parking assist system sensors front, Parking assist system sensors rear, Power windows, Rain sensor, Seat heating, Start-stop system]                                                                                                                                                         105\n",
              "                                                                                                                                                                                                                                                                                                                                                                                                                                                                                                                            ... \n",
              "[Air conditioning, Cruise control, Electrical side mirrors, Hill Holder, Leather steering wheel, Light sensor, Multi-function steering wheel, Navigation system, Park Distance Control, Parking assist system sensors rear, Power windows, Rain sensor, Split rear seats, Start-stop system, Tinted windows]                                                                                                                                                                                                                   1\n",
              "[Air conditioning, Armrest, Automatic climate control, Cruise control, Electrical side mirrors, Heated steering wheel, Hill Holder, Leather steering wheel, Light sensor, Lumbar support, Multi-function steering wheel, Navigation system, Park Distance Control, Parking assist system camera, Parking assist system sensors front, Parking assist system sensors rear, Power windows, Rain sensor, Seat heating, Sunroof]                                                                                                   1\n",
              "[Air conditioning, Armrest, Cruise control, Electrical side mirrors, Heated steering wheel, Hill Holder, Leather steering wheel, Light sensor, Multi-function steering wheel, Park Distance Control, Parking assist system camera, Parking assist system sensors front, Parking assist system sensors rear, Power windows, Rain sensor, Seat heating, Split rear seats, Start-stop system, Tinted windows]                                                                                                                     1\n",
              "[Air conditioning, Automatic climate control, Cruise control, Electrical side mirrors, Leather steering wheel, Light sensor, Multi-function steering wheel, Park Distance Control, Parking assist system sensors front, Parking assist system sensors rear, Power windows, Rain sensor, Seat heating]                                                                                                                                                                                                                          1\n",
              "[Air conditioning, Automatic climate control, Cruise control, Electrically heated windshield, Electrical side mirrors, Electric tailgate, Heads-up display, Heated steering wheel, Hill Holder, Keyless central door lock, Leather steering wheel, Light sensor, Lumbar support, Navigation system, Park Distance Control, Parking assist system camera, Parking assist system self-steering, Parking assist system sensors front, Parking assist system sensors rear, Power windows, Rain sensor, Seat heating, Sunroof]      1\n",
              "Name: Comfort & Convenience, Length: 6199, dtype: int64"
            ]
          },
          "metadata": {},
          "execution_count": 219
        }
      ]
    },
    {
      "cell_type": "code",
      "source": [
        "def comfconv(a):\n",
        "    if type(a) == list: \n",
        "        return [\",\".join(a)]\n",
        "    else:\n",
        "        return (a for a in df[\"Comfort & Convenience\"])"
      ],
      "metadata": {
        "execution": {
          "iopub.status.busy": "2022-08-04T22:03:25.522552Z",
          "iopub.execute_input": "2022-08-04T22:03:25.523048Z",
          "iopub.status.idle": "2022-08-04T22:03:25.529398Z",
          "shell.execute_reply.started": "2022-08-04T22:03:25.522997Z",
          "shell.execute_reply": "2022-08-04T22:03:25.52808Z"
        },
        "trusted": true,
        "id": "BLxfpHRE-crA"
      },
      "execution_count": 220,
      "outputs": []
    },
    {
      "cell_type": "code",
      "source": [
        "df[\"Comfort_Convenience\"]=df[\"Comfort & Convenience\"].apply(comfconv).str[0]"
      ],
      "metadata": {
        "execution": {
          "iopub.status.busy": "2022-08-04T22:03:25.530704Z",
          "iopub.execute_input": "2022-08-04T22:03:25.531129Z",
          "iopub.status.idle": "2022-08-04T22:03:25.615684Z",
          "shell.execute_reply.started": "2022-08-04T22:03:25.531091Z",
          "shell.execute_reply": "2022-08-04T22:03:25.614409Z"
        },
        "trusted": true,
        "id": "FXX3ycsw-crA"
      },
      "execution_count": 221,
      "outputs": []
    },
    {
      "cell_type": "code",
      "source": [
        "df[\"Comfort_Convenience\"].value_counts(dropna=False)"
      ],
      "metadata": {
        "execution": {
          "iopub.status.busy": "2022-08-04T22:03:25.617505Z",
          "iopub.execute_input": "2022-08-04T22:03:25.61798Z",
          "iopub.status.idle": "2022-08-04T22:03:25.640829Z",
          "shell.execute_reply.started": "2022-08-04T22:03:25.617941Z",
          "shell.execute_reply": "2022-08-04T22:03:25.639296Z"
        },
        "trusted": true,
        "id": "0rg9jGqZ-crB",
        "colab": {
          "base_uri": "https://localhost:8080/"
        },
        "outputId": "37de2a3a-4ffe-4786-edd3-95a613f5cf8d"
      },
      "execution_count": 222,
      "outputs": [
        {
          "output_type": "execute_result",
          "data": {
            "text/plain": [
              "NaN                                                                                                                                                                                                                                                                                                                                                                                                                                                                                                  920\n",
              "Air conditioning,Electrical side mirrors,Hill Holder,Power windows                                                                                                                                                                                                                                                                                                                                                                                                                                   216\n",
              "Air conditioning,Electrical side mirrors,Power windows                                                                                                                                                                                                                                                                                                                                                                                                                                               134\n",
              "Air conditioning,Power windows                                                                                                                                                                                                                                                                                                                                                                                                                                                                       130\n",
              "Air conditioning,Armrest,Automatic climate control,Cruise control,Electrical side mirrors,Leather steering wheel,Light sensor,Lumbar support,Multi-function steering wheel,Navigation system,Park Distance Control,Parking assist system sensors front,Parking assist system sensors rear,Power windows,Rain sensor,Seat heating,Start-stop system                                                                                                                                                   105\n",
              "                                                                                                                                                                                                                                                                                                                                                                                                                                                                                                    ... \n",
              "Air conditioning,Cruise control,Electrical side mirrors,Hill Holder,Leather steering wheel,Light sensor,Multi-function steering wheel,Navigation system,Park Distance Control,Parking assist system sensors rear,Power windows,Rain sensor,Split rear seats,Start-stop system,Tinted windows                                                                                                                                                                                                           1\n",
              "Air conditioning,Armrest,Automatic climate control,Cruise control,Electrical side mirrors,Heated steering wheel,Hill Holder,Leather steering wheel,Light sensor,Lumbar support,Multi-function steering wheel,Navigation system,Park Distance Control,Parking assist system camera,Parking assist system sensors front,Parking assist system sensors rear,Power windows,Rain sensor,Seat heating,Sunroof                                                                                                1\n",
              "Air conditioning,Armrest,Cruise control,Electrical side mirrors,Heated steering wheel,Hill Holder,Leather steering wheel,Light sensor,Multi-function steering wheel,Park Distance Control,Parking assist system camera,Parking assist system sensors front,Parking assist system sensors rear,Power windows,Rain sensor,Seat heating,Split rear seats,Start-stop system,Tinted windows                                                                                                                 1\n",
              "Air conditioning,Automatic climate control,Cruise control,Electrical side mirrors,Leather steering wheel,Light sensor,Multi-function steering wheel,Park Distance Control,Parking assist system sensors front,Parking assist system sensors rear,Power windows,Rain sensor,Seat heating                                                                                                                                                                                                                1\n",
              "Air conditioning,Automatic climate control,Cruise control,Electrically heated windshield,Electrical side mirrors,Electric tailgate,Heads-up display,Heated steering wheel,Hill Holder,Keyless central door lock,Leather steering wheel,Light sensor,Lumbar support,Navigation system,Park Distance Control,Parking assist system camera,Parking assist system self-steering,Parking assist system sensors front,Parking assist system sensors rear,Power windows,Rain sensor,Seat heating,Sunroof      1\n",
              "Name: Comfort_Convenience, Length: 6199, dtype: int64"
            ]
          },
          "metadata": {},
          "execution_count": 222
        }
      ]
    },
    {
      "cell_type": "code",
      "source": [
        "df.drop(\"Comfort & Convenience\", axis=1, inplace=True)"
      ],
      "metadata": {
        "execution": {
          "iopub.status.busy": "2022-08-04T22:03:25.64308Z",
          "iopub.execute_input": "2022-08-04T22:03:25.643752Z",
          "iopub.status.idle": "2022-08-04T22:03:25.681789Z",
          "shell.execute_reply.started": "2022-08-04T22:03:25.6437Z",
          "shell.execute_reply": "2022-08-04T22:03:25.680421Z"
        },
        "trusted": true,
        "id": "DaxMHuSo-crB"
      },
      "execution_count": 223,
      "outputs": []
    },
    {
      "cell_type": "markdown",
      "source": [
        "###  Entertainment & Media"
      ],
      "metadata": {
        "id": "Qs2Pg-i7-crB"
      }
    },
    {
      "cell_type": "code",
      "source": [
        "df[\"Entertainment & Media\"].value_counts(dropna=False)"
      ],
      "metadata": {
        "scrolled": true,
        "execution": {
          "iopub.status.busy": "2022-08-04T22:03:25.683526Z",
          "iopub.execute_input": "2022-08-04T22:03:25.684815Z",
          "iopub.status.idle": "2022-08-04T22:03:25.762672Z",
          "shell.execute_reply.started": "2022-08-04T22:03:25.684769Z",
          "shell.execute_reply": "2022-08-04T22:03:25.761357Z"
        },
        "trusted": true,
        "id": "Nc9F8tob-crB"
      },
      "execution_count": null,
      "outputs": []
    },
    {
      "cell_type": "code",
      "source": [
        "def enter(a):\n",
        "    if type(a) == list: \n",
        "        return [\",\".join(a)]\n",
        "    else:\n",
        "        return (a for a in df[\"Entertainment & Media\"])"
      ],
      "metadata": {
        "execution": {
          "iopub.status.busy": "2022-08-04T22:03:25.764779Z",
          "iopub.execute_input": "2022-08-04T22:03:25.765308Z",
          "iopub.status.idle": "2022-08-04T22:03:25.773817Z",
          "shell.execute_reply.started": "2022-08-04T22:03:25.765259Z",
          "shell.execute_reply": "2022-08-04T22:03:25.772438Z"
        },
        "trusted": true,
        "id": "MDACajlR-crB"
      },
      "execution_count": 224,
      "outputs": []
    },
    {
      "cell_type": "code",
      "source": [
        "df[\"Entertainment_Media\"]=df[\"Entertainment & Media\"].apply(enter).str[0]"
      ],
      "metadata": {
        "execution": {
          "iopub.status.busy": "2022-08-04T22:03:25.775736Z",
          "iopub.execute_input": "2022-08-04T22:03:25.777406Z",
          "iopub.status.idle": "2022-08-04T22:03:25.852571Z",
          "shell.execute_reply.started": "2022-08-04T22:03:25.777349Z",
          "shell.execute_reply": "2022-08-04T22:03:25.85131Z"
        },
        "trusted": true,
        "id": "zdNFwG9j-crC"
      },
      "execution_count": 225,
      "outputs": []
    },
    {
      "cell_type": "code",
      "source": [
        "df[\"Entertainment_Media\"].value_counts(dropna=False)"
      ],
      "metadata": {
        "scrolled": true,
        "execution": {
          "iopub.status.busy": "2022-08-04T22:03:25.854219Z",
          "iopub.execute_input": "2022-08-04T22:03:25.854718Z",
          "iopub.status.idle": "2022-08-04T22:03:25.874976Z",
          "shell.execute_reply.started": "2022-08-04T22:03:25.85467Z",
          "shell.execute_reply": "2022-08-04T22:03:25.873478Z"
        },
        "trusted": true,
        "id": "NLbf5hLW-crC",
        "colab": {
          "base_uri": "https://localhost:8080/"
        },
        "outputId": "965223b8-246e-4649-e2a2-30d344c4ba05"
      },
      "execution_count": 226,
      "outputs": [
        {
          "output_type": "execute_result",
          "data": {
            "text/plain": [
              "NaN                                                                                                 1374\n",
              "Bluetooth,Hands-free equipment,On-board computer,Radio,USB                                          1282\n",
              "Bluetooth,Hands-free equipment,MP3,On-board computer,Radio,USB                                       982\n",
              "Bluetooth,CD player,Hands-free equipment,MP3,On-board computer,Radio,USB                             783\n",
              "On-board computer,Radio                                                                              487\n",
              "                                                                                                    ... \n",
              "Bluetooth,CD player,Digital radio,Hands-free equipment,Radio                                           1\n",
              "CD player,Hands-free equipment,MP3,Radio,USB                                                           1\n",
              "MP3,Radio,Sound system,USB                                                                             1\n",
              "Bluetooth,MP3,On-board computer,Radio,Television,USB                                                   1\n",
              "Bluetooth,CD player,Hands-free equipment,MP3,On-board computer,Radio,Sound system,Television,USB       1\n",
              "Name: Entertainment_Media, Length: 347, dtype: int64"
            ]
          },
          "metadata": {},
          "execution_count": 226
        }
      ]
    },
    {
      "cell_type": "code",
      "source": [
        "df.drop(\"Entertainment & Media\", axis=1, inplace=True)"
      ],
      "metadata": {
        "execution": {
          "iopub.status.busy": "2022-08-04T22:03:25.877628Z",
          "iopub.execute_input": "2022-08-04T22:03:25.878056Z",
          "iopub.status.idle": "2022-08-04T22:03:25.921004Z",
          "shell.execute_reply.started": "2022-08-04T22:03:25.878021Z",
          "shell.execute_reply": "2022-08-04T22:03:25.919946Z"
        },
        "trusted": true,
        "id": "N17evdMp-crC"
      },
      "execution_count": 227,
      "outputs": []
    },
    {
      "cell_type": "markdown",
      "source": [
        "### Extras "
      ],
      "metadata": {
        "id": "cxO1xWWz-crC"
      }
    },
    {
      "cell_type": "code",
      "source": [
        "df.Extras.value_counts(dropna=False)"
      ],
      "metadata": {
        "scrolled": true,
        "execution": {
          "iopub.status.busy": "2022-08-04T22:03:25.922418Z",
          "iopub.execute_input": "2022-08-04T22:03:25.922792Z",
          "iopub.status.idle": "2022-08-04T22:03:26.021012Z",
          "shell.execute_reply.started": "2022-08-04T22:03:25.922758Z",
          "shell.execute_reply": "2022-08-04T22:03:26.01937Z"
        },
        "trusted": true,
        "id": "e3u4-wv--crC"
      },
      "execution_count": null,
      "outputs": []
    },
    {
      "cell_type": "code",
      "source": [
        "def extra(a):\n",
        "    if type(a) == list: \n",
        "        return [\",\".join(a)]\n",
        "    else:\n",
        "        return (a for a in df[\"Extras\"])"
      ],
      "metadata": {
        "execution": {
          "iopub.status.busy": "2022-08-04T22:03:26.023465Z",
          "iopub.execute_input": "2022-08-04T22:03:26.02405Z",
          "iopub.status.idle": "2022-08-04T22:03:26.030977Z",
          "shell.execute_reply.started": "2022-08-04T22:03:26.024009Z",
          "shell.execute_reply": "2022-08-04T22:03:26.02958Z"
        },
        "trusted": true,
        "id": "thqVYYCF-crC"
      },
      "execution_count": 228,
      "outputs": []
    },
    {
      "cell_type": "code",
      "source": [
        "df[\"Extras\"]=df[\"Extras\"].apply(extra).str[0]"
      ],
      "metadata": {
        "execution": {
          "iopub.status.busy": "2022-08-04T22:03:26.032654Z",
          "iopub.execute_input": "2022-08-04T22:03:26.033171Z",
          "iopub.status.idle": "2022-08-04T22:03:26.113468Z",
          "shell.execute_reply.started": "2022-08-04T22:03:26.033123Z",
          "shell.execute_reply": "2022-08-04T22:03:26.112096Z"
        },
        "trusted": true,
        "id": "bwwbXIby-crD"
      },
      "execution_count": 229,
      "outputs": []
    },
    {
      "cell_type": "code",
      "source": [
        "df.Extras.value_counts(dropna=False)"
      ],
      "metadata": {
        "execution": {
          "iopub.status.busy": "2022-08-04T22:03:26.1152Z",
          "iopub.execute_input": "2022-08-04T22:03:26.115725Z",
          "iopub.status.idle": "2022-08-04T22:03:26.130787Z",
          "shell.execute_reply.started": "2022-08-04T22:03:26.115687Z",
          "shell.execute_reply": "2022-08-04T22:03:26.129354Z"
        },
        "trusted": true,
        "id": "xbJLgCj1-crD",
        "colab": {
          "base_uri": "https://localhost:8080/"
        },
        "outputId": "61725a98-e17e-40df-8b11-98d4bea8b405"
      },
      "execution_count": 230,
      "outputs": [
        {
          "output_type": "execute_result",
          "data": {
            "text/plain": [
              "Alloy wheels                                                                                               3245\n",
              "NaN                                                                                                        2962\n",
              "Alloy wheels,Touch screen                                                                                   697\n",
              "Alloy wheels,Voice Control                                                                                  577\n",
              "Alloy wheels,Touch screen,Voice Control                                                                     541\n",
              "                                                                                                           ... \n",
              "Alloy wheels,Catalytic Converter,Shift paddles,Sport package,Sport seats,Sport suspension,Voice Control       1\n",
              "Alloy wheels,Catalytic Converter,Roof rack,Sport package,Sport seats,Trailer hitch                            1\n",
              "Alloy wheels,Catalytic Converter,Ski bag,Sport package,Voice Control                                          1\n",
              "Catalytic Converter,Roof rack,Sport seats,Sport suspension                                                    1\n",
              "Alloy wheels,Shift paddles,Ski bag,Sport seats,Sport suspension,Touch screen,Voice Control                    1\n",
              "Name: Extras, Length: 660, dtype: int64"
            ]
          },
          "metadata": {},
          "execution_count": 230
        }
      ]
    },
    {
      "cell_type": "markdown",
      "source": [
        "###  Safety & Security "
      ],
      "metadata": {
        "id": "Gcd8l0lv-crD"
      }
    },
    {
      "cell_type": "code",
      "source": [
        "df[\"Safety & Security\"].value_counts(dropna=False)"
      ],
      "metadata": {
        "execution": {
          "iopub.status.busy": "2022-08-04T22:03:26.13309Z",
          "iopub.execute_input": "2022-08-04T22:03:26.134102Z",
          "iopub.status.idle": "2022-08-04T22:03:27.856684Z",
          "shell.execute_reply.started": "2022-08-04T22:03:26.134059Z",
          "shell.execute_reply": "2022-08-04T22:03:27.855362Z"
        },
        "trusted": true,
        "id": "eei5bj5R-crD"
      },
      "execution_count": null,
      "outputs": []
    },
    {
      "cell_type": "code",
      "source": [
        "df[\"Safety_Security\"]=[\",\".join(a) if type(a) == list else a for a in df[\"Safety & Security\"]]"
      ],
      "metadata": {
        "execution": {
          "iopub.status.busy": "2022-08-04T22:03:27.858545Z",
          "iopub.execute_input": "2022-08-04T22:03:27.858962Z",
          "iopub.status.idle": "2022-08-04T22:03:27.893081Z",
          "shell.execute_reply.started": "2022-08-04T22:03:27.858905Z",
          "shell.execute_reply": "2022-08-04T22:03:27.891844Z"
        },
        "trusted": true,
        "id": "i7bomh_Q-crD"
      },
      "execution_count": 231,
      "outputs": []
    },
    {
      "cell_type": "code",
      "source": [
        "df[\"Safety_Security\"].value_counts(dropna=False)"
      ],
      "metadata": {
        "execution": {
          "iopub.status.busy": "2022-08-04T22:03:27.894843Z",
          "iopub.execute_input": "2022-08-04T22:03:27.895615Z",
          "iopub.status.idle": "2022-08-04T22:03:27.918198Z",
          "shell.execute_reply.started": "2022-08-04T22:03:27.895574Z",
          "shell.execute_reply": "2022-08-04T22:03:27.916855Z"
        },
        "trusted": true,
        "id": "lMmUbuM0-crE",
        "colab": {
          "base_uri": "https://localhost:8080/"
        },
        "outputId": "95f7b581-0c7f-4326-a83f-00b6af60a7fd"
      },
      "execution_count": 232,
      "outputs": [
        {
          "output_type": "execute_result",
          "data": {
            "text/plain": [
              "NaN                                                                                                                                                                                                                                                                                                                                                               982\n",
              "ABS,Central door lock,Daytime running lights,Driver-side airbag,Electronic stability control,Fog lights,Immobilizer,Isofix,Passenger-side airbag,Power steering,Side airbag,Tire pressure monitoring system,Traction control                                                                                                                                      538\n",
              "ABS,Central door lock,Daytime running lights,Driver-side airbag,Electronic stability control,Immobilizer,Isofix,Passenger-side airbag,Power steering,Side airbag,Tire pressure monitoring system,Traction control                                                                                                                                                 480\n",
              "ABS,Central door lock,Daytime running lights,Driver-side airbag,Electronic stability control,Immobilizer,Isofix,Passenger-side airbag,Power steering,Side airbag,Tire pressure monitoring system,Traction control,Xenon headlights                                                                                                                                275\n",
              "ABS,Central door lock,Daytime running lights,Driver-side airbag,Electronic stability control,Fog lights,Immobilizer,Isofix,LED Daytime Running Lights,Passenger-side airbag,Power steering,Side airbag,Tire pressure monitoring system,Traction control                                                                                                           272\n",
              "                                                                                                                                                                                                                                                                                                                                                                 ... \n",
              "ABS,Central door lock,Electronic stability control,Immobilizer,Isofix,Passenger-side airbag,Power steering,Side airbag                                                                                                                                                                                                                                              1\n",
              "ABS,Adaptive Cruise Control,Central door lock,Daytime running lights,Driver-side airbag,Electronic stability control,Emergency brake assistant,Immobilizer,Isofix,Passenger-side airbag,Power steering,Side airbag,Tire pressure monitoring system,Traction control                                                                                                 1\n",
              "ABS,Adaptive Cruise Control,Alarm system,Central door lock,Driver-side airbag,Electronic stability control,Fog lights,Immobilizer,Isofix,Lane departure warning system,LED Daytime Running Lights,Passenger-side airbag,Power steering,Side airbag,Tire pressure monitoring system,Traction control,Xenon headlights                                                1\n",
              "ABS,Adaptive Cruise Control,Central door lock,Daytime running lights,Driver-side airbag,Electronic stability control,Fog lights,Immobilizer,Isofix,Power steering,Tire pressure monitoring system,Traction control                                                                                                                                                  1\n",
              "ABS,Adaptive Cruise Control,Central door lock,Daytime running lights,Driver-side airbag,Electronic stability control,Emergency brake assistant,Fog lights,Immobilizer,Isofix,Lane departure warning system,LED Daytime Running Lights,LED Headlights,Passenger-side airbag,Power steering,Side airbag,Tire pressure monitoring system,Traffic sign recognition      1\n",
              "Name: Safety_Security, Length: 4444, dtype: int64"
            ]
          },
          "metadata": {},
          "execution_count": 232
        }
      ]
    },
    {
      "cell_type": "code",
      "source": [
        "df.drop(\"Safety & Security\", axis=1, inplace=True)"
      ],
      "metadata": {
        "execution": {
          "iopub.status.busy": "2022-08-04T22:03:27.920037Z",
          "iopub.execute_input": "2022-08-04T22:03:27.921145Z",
          "iopub.status.idle": "2022-08-04T22:03:27.957076Z",
          "shell.execute_reply.started": "2022-08-04T22:03:27.921098Z",
          "shell.execute_reply": "2022-08-04T22:03:27.955996Z"
        },
        "trusted": true,
        "id": "uCbFF1Sm-crE"
      },
      "execution_count": 233,
      "outputs": []
    },
    {
      "cell_type": "markdown",
      "source": [
        "### The End of Part-1"
      ],
      "metadata": {
        "id": "T_K8G6r4-crE"
      }
    },
    {
      "cell_type": "code",
      "source": [
        "df.shape"
      ],
      "metadata": {
        "execution": {
          "iopub.status.busy": "2022-08-04T22:03:27.958312Z",
          "iopub.execute_input": "2022-08-04T22:03:27.959005Z",
          "iopub.status.idle": "2022-08-04T22:03:27.967419Z",
          "shell.execute_reply.started": "2022-08-04T22:03:27.958962Z",
          "shell.execute_reply": "2022-08-04T22:03:27.966114Z"
        },
        "trusted": true,
        "id": "BUZuntRV-crE",
        "colab": {
          "base_uri": "https://localhost:8080/"
        },
        "outputId": "ac3d9f6c-efee-4091-9d8d-4d8c864d4c66"
      },
      "execution_count": 234,
      "outputs": [
        {
          "output_type": "execute_result",
          "data": {
            "text/plain": [
              "(15919, 29)"
            ]
          },
          "metadata": {},
          "execution_count": 234
        }
      ]
    },
    {
      "cell_type": "code",
      "source": [
        "df.head(3).T"
      ],
      "metadata": {
        "execution": {
          "iopub.status.busy": "2022-08-04T22:03:27.969618Z",
          "iopub.execute_input": "2022-08-04T22:03:27.970531Z",
          "iopub.status.idle": "2022-08-04T22:03:27.99918Z",
          "shell.execute_reply.started": "2022-08-04T22:03:27.970478Z",
          "shell.execute_reply": "2022-08-04T22:03:27.998058Z"
        },
        "trusted": true,
        "id": "1ShmlUz5-crF",
        "colab": {
          "base_uri": "https://localhost:8080/",
          "height": 1000
        },
        "outputId": "da87d8fc-b8c1-45f7-b501-3ae879dbe62a"
      },
      "execution_count": 235,
      "outputs": [
        {
          "output_type": "execute_result",
          "data": {
            "text/plain": [
              "                                                                     0  \\\n",
              "make_model                                                     Audi A1   \n",
              "body_type                                                       Sedans   \n",
              "price                                                            15770   \n",
              "vat                                                     VAT deductible   \n",
              "km                                                           56013.000   \n",
              "Type                                                              Used   \n",
              "Cylinders                                                        3.000   \n",
              "Fuel                                                            Diesel   \n",
              "Gears                                                              NaN   \n",
              "Extras                  Alloy wheels,Catalytic Converter,Voice Control   \n",
              "First_Registration                                      [\\n, 2016, \\n]   \n",
              "Previous_Owners                                                  2.000   \n",
              "hp_kW                                                           66.000   \n",
              "Inspection_new                                                     Yes   \n",
              "age                                                              3.000   \n",
              "Paint_Type                                                    Metallic   \n",
              "Upholstery_type                                                  Cloth   \n",
              "Nr_of_Doors                                                      5.000   \n",
              "Nr_of_Seats                                                      5.000   \n",
              "Gearing_Type                                                 Automatic   \n",
              "Displacement_cc                                               1422.000   \n",
              "Weight_kg                                                     1220.000   \n",
              "Drive_chain                                                      front   \n",
              "Consumption_comb                                                 3.800   \n",
              "CO2_Emission                                                    99.000   \n",
              "Emission_Class                                                  Euro 6   \n",
              "Comfort_Convenience  Air conditioning,Armrest,Automatic climate con...   \n",
              "Entertainment_Media  Bluetooth,Hands-free equipment,On-board comput...   \n",
              "Safety_Security      ABS,Central door lock,Daytime running lights,D...   \n",
              "\n",
              "                                                                     1  \\\n",
              "make_model                                                     Audi A1   \n",
              "body_type                                                       Sedans   \n",
              "price                                                            14500   \n",
              "vat                                                   Price negotiable   \n",
              "km                                                           80000.000   \n",
              "Type                                                              Used   \n",
              "Cylinders                                                        4.000   \n",
              "Fuel                                                           Benzine   \n",
              "Gears                                                            7.000   \n",
              "Extras               Alloy wheels,Sport seats,Sport suspension,Voic...   \n",
              "First_Registration                                      [\\n, 2017, \\n]   \n",
              "Previous_Owners                                                    NaN   \n",
              "hp_kW                                                          141.000   \n",
              "Inspection_new                                                     NaN   \n",
              "age                                                              2.000   \n",
              "Paint_Type                                                         NaN   \n",
              "Upholstery_type                                                  Cloth   \n",
              "Nr_of_Doors                                                      3.000   \n",
              "Nr_of_Seats                                                      4.000   \n",
              "Gearing_Type                                                 Automatic   \n",
              "Displacement_cc                                               1798.000   \n",
              "Weight_kg                                                     1255.000   \n",
              "Drive_chain                                                      front   \n",
              "Consumption_comb                                                 5.600   \n",
              "CO2_Emission                                                   129.000   \n",
              "Emission_Class                                                  Euro 6   \n",
              "Comfort_Convenience  Air conditioning,Automatic climate control,Hil...   \n",
              "Entertainment_Media  Bluetooth,Hands-free equipment,On-board comput...   \n",
              "Safety_Security      ABS,Central door lock,Central door lock with r...   \n",
              "\n",
              "                                                                     2  \n",
              "make_model                                                     Audi A1  \n",
              "body_type                                                       Sedans  \n",
              "price                                                            14640  \n",
              "vat                                                     VAT deductible  \n",
              "km                                                           83450.000  \n",
              "Type                                                              Used  \n",
              "Cylinders                                                          NaN  \n",
              "Fuel                                                            Diesel  \n",
              "Gears                                                              NaN  \n",
              "Extras                                      Alloy wheels,Voice Control  \n",
              "First_Registration                                      [\\n, 2016, \\n]  \n",
              "Previous_Owners                                                  1.000  \n",
              "hp_kW                                                           85.000  \n",
              "Inspection_new                                                     NaN  \n",
              "age                                                              3.000  \n",
              "Paint_Type                                                    Metallic  \n",
              "Upholstery_type                                                  Cloth  \n",
              "Nr_of_Doors                                                      4.000  \n",
              "Nr_of_Seats                                                      4.000  \n",
              "Gearing_Type                                                 Automatic  \n",
              "Displacement_cc                                               1598.000  \n",
              "Weight_kg                                                          NaN  \n",
              "Drive_chain                                                      front  \n",
              "Consumption_comb                                                 3.800  \n",
              "CO2_Emission                                                    99.000  \n",
              "Emission_Class                                                  Euro 6  \n",
              "Comfort_Convenience  Air conditioning,Cruise control,Electrical sid...  \n",
              "Entertainment_Media                              MP3,On-board computer  \n",
              "Safety_Security      ABS,Central door lock,Daytime running lights,D...  "
            ],
            "text/html": [
              "\n",
              "  <div id=\"df-3e30d97b-44d0-4733-8dc5-12747dbc1b29\">\n",
              "    <div class=\"colab-df-container\">\n",
              "      <div>\n",
              "<style scoped>\n",
              "    .dataframe tbody tr th:only-of-type {\n",
              "        vertical-align: middle;\n",
              "    }\n",
              "\n",
              "    .dataframe tbody tr th {\n",
              "        vertical-align: top;\n",
              "    }\n",
              "\n",
              "    .dataframe thead th {\n",
              "        text-align: right;\n",
              "    }\n",
              "</style>\n",
              "<table border=\"1\" class=\"dataframe\">\n",
              "  <thead>\n",
              "    <tr style=\"text-align: right;\">\n",
              "      <th></th>\n",
              "      <th>0</th>\n",
              "      <th>1</th>\n",
              "      <th>2</th>\n",
              "    </tr>\n",
              "  </thead>\n",
              "  <tbody>\n",
              "    <tr>\n",
              "      <th>make_model</th>\n",
              "      <td>Audi A1</td>\n",
              "      <td>Audi A1</td>\n",
              "      <td>Audi A1</td>\n",
              "    </tr>\n",
              "    <tr>\n",
              "      <th>body_type</th>\n",
              "      <td>Sedans</td>\n",
              "      <td>Sedans</td>\n",
              "      <td>Sedans</td>\n",
              "    </tr>\n",
              "    <tr>\n",
              "      <th>price</th>\n",
              "      <td>15770</td>\n",
              "      <td>14500</td>\n",
              "      <td>14640</td>\n",
              "    </tr>\n",
              "    <tr>\n",
              "      <th>vat</th>\n",
              "      <td>VAT deductible</td>\n",
              "      <td>Price negotiable</td>\n",
              "      <td>VAT deductible</td>\n",
              "    </tr>\n",
              "    <tr>\n",
              "      <th>km</th>\n",
              "      <td>56013.000</td>\n",
              "      <td>80000.000</td>\n",
              "      <td>83450.000</td>\n",
              "    </tr>\n",
              "    <tr>\n",
              "      <th>Type</th>\n",
              "      <td>Used</td>\n",
              "      <td>Used</td>\n",
              "      <td>Used</td>\n",
              "    </tr>\n",
              "    <tr>\n",
              "      <th>Cylinders</th>\n",
              "      <td>3.000</td>\n",
              "      <td>4.000</td>\n",
              "      <td>NaN</td>\n",
              "    </tr>\n",
              "    <tr>\n",
              "      <th>Fuel</th>\n",
              "      <td>Diesel</td>\n",
              "      <td>Benzine</td>\n",
              "      <td>Diesel</td>\n",
              "    </tr>\n",
              "    <tr>\n",
              "      <th>Gears</th>\n",
              "      <td>NaN</td>\n",
              "      <td>7.000</td>\n",
              "      <td>NaN</td>\n",
              "    </tr>\n",
              "    <tr>\n",
              "      <th>Extras</th>\n",
              "      <td>Alloy wheels,Catalytic Converter,Voice Control</td>\n",
              "      <td>Alloy wheels,Sport seats,Sport suspension,Voic...</td>\n",
              "      <td>Alloy wheels,Voice Control</td>\n",
              "    </tr>\n",
              "    <tr>\n",
              "      <th>First_Registration</th>\n",
              "      <td>[\\n, 2016, \\n]</td>\n",
              "      <td>[\\n, 2017, \\n]</td>\n",
              "      <td>[\\n, 2016, \\n]</td>\n",
              "    </tr>\n",
              "    <tr>\n",
              "      <th>Previous_Owners</th>\n",
              "      <td>2.000</td>\n",
              "      <td>NaN</td>\n",
              "      <td>1.000</td>\n",
              "    </tr>\n",
              "    <tr>\n",
              "      <th>hp_kW</th>\n",
              "      <td>66.000</td>\n",
              "      <td>141.000</td>\n",
              "      <td>85.000</td>\n",
              "    </tr>\n",
              "    <tr>\n",
              "      <th>Inspection_new</th>\n",
              "      <td>Yes</td>\n",
              "      <td>NaN</td>\n",
              "      <td>NaN</td>\n",
              "    </tr>\n",
              "    <tr>\n",
              "      <th>age</th>\n",
              "      <td>3.000</td>\n",
              "      <td>2.000</td>\n",
              "      <td>3.000</td>\n",
              "    </tr>\n",
              "    <tr>\n",
              "      <th>Paint_Type</th>\n",
              "      <td>Metallic</td>\n",
              "      <td>NaN</td>\n",
              "      <td>Metallic</td>\n",
              "    </tr>\n",
              "    <tr>\n",
              "      <th>Upholstery_type</th>\n",
              "      <td>Cloth</td>\n",
              "      <td>Cloth</td>\n",
              "      <td>Cloth</td>\n",
              "    </tr>\n",
              "    <tr>\n",
              "      <th>Nr_of_Doors</th>\n",
              "      <td>5.000</td>\n",
              "      <td>3.000</td>\n",
              "      <td>4.000</td>\n",
              "    </tr>\n",
              "    <tr>\n",
              "      <th>Nr_of_Seats</th>\n",
              "      <td>5.000</td>\n",
              "      <td>4.000</td>\n",
              "      <td>4.000</td>\n",
              "    </tr>\n",
              "    <tr>\n",
              "      <th>Gearing_Type</th>\n",
              "      <td>Automatic</td>\n",
              "      <td>Automatic</td>\n",
              "      <td>Automatic</td>\n",
              "    </tr>\n",
              "    <tr>\n",
              "      <th>Displacement_cc</th>\n",
              "      <td>1422.000</td>\n",
              "      <td>1798.000</td>\n",
              "      <td>1598.000</td>\n",
              "    </tr>\n",
              "    <tr>\n",
              "      <th>Weight_kg</th>\n",
              "      <td>1220.000</td>\n",
              "      <td>1255.000</td>\n",
              "      <td>NaN</td>\n",
              "    </tr>\n",
              "    <tr>\n",
              "      <th>Drive_chain</th>\n",
              "      <td>front</td>\n",
              "      <td>front</td>\n",
              "      <td>front</td>\n",
              "    </tr>\n",
              "    <tr>\n",
              "      <th>Consumption_comb</th>\n",
              "      <td>3.800</td>\n",
              "      <td>5.600</td>\n",
              "      <td>3.800</td>\n",
              "    </tr>\n",
              "    <tr>\n",
              "      <th>CO2_Emission</th>\n",
              "      <td>99.000</td>\n",
              "      <td>129.000</td>\n",
              "      <td>99.000</td>\n",
              "    </tr>\n",
              "    <tr>\n",
              "      <th>Emission_Class</th>\n",
              "      <td>Euro 6</td>\n",
              "      <td>Euro 6</td>\n",
              "      <td>Euro 6</td>\n",
              "    </tr>\n",
              "    <tr>\n",
              "      <th>Comfort_Convenience</th>\n",
              "      <td>Air conditioning,Armrest,Automatic climate con...</td>\n",
              "      <td>Air conditioning,Automatic climate control,Hil...</td>\n",
              "      <td>Air conditioning,Cruise control,Electrical sid...</td>\n",
              "    </tr>\n",
              "    <tr>\n",
              "      <th>Entertainment_Media</th>\n",
              "      <td>Bluetooth,Hands-free equipment,On-board comput...</td>\n",
              "      <td>Bluetooth,Hands-free equipment,On-board comput...</td>\n",
              "      <td>MP3,On-board computer</td>\n",
              "    </tr>\n",
              "    <tr>\n",
              "      <th>Safety_Security</th>\n",
              "      <td>ABS,Central door lock,Daytime running lights,D...</td>\n",
              "      <td>ABS,Central door lock,Central door lock with r...</td>\n",
              "      <td>ABS,Central door lock,Daytime running lights,D...</td>\n",
              "    </tr>\n",
              "  </tbody>\n",
              "</table>\n",
              "</div>\n",
              "      <button class=\"colab-df-convert\" onclick=\"convertToInteractive('df-3e30d97b-44d0-4733-8dc5-12747dbc1b29')\"\n",
              "              title=\"Convert this dataframe to an interactive table.\"\n",
              "              style=\"display:none;\">\n",
              "        \n",
              "  <svg xmlns=\"http://www.w3.org/2000/svg\" height=\"24px\"viewBox=\"0 0 24 24\"\n",
              "       width=\"24px\">\n",
              "    <path d=\"M0 0h24v24H0V0z\" fill=\"none\"/>\n",
              "    <path d=\"M18.56 5.44l.94 2.06.94-2.06 2.06-.94-2.06-.94-.94-2.06-.94 2.06-2.06.94zm-11 1L8.5 8.5l.94-2.06 2.06-.94-2.06-.94L8.5 2.5l-.94 2.06-2.06.94zm10 10l.94 2.06.94-2.06 2.06-.94-2.06-.94-.94-2.06-.94 2.06-2.06.94z\"/><path d=\"M17.41 7.96l-1.37-1.37c-.4-.4-.92-.59-1.43-.59-.52 0-1.04.2-1.43.59L10.3 9.45l-7.72 7.72c-.78.78-.78 2.05 0 2.83L4 21.41c.39.39.9.59 1.41.59.51 0 1.02-.2 1.41-.59l7.78-7.78 2.81-2.81c.8-.78.8-2.07 0-2.86zM5.41 20L4 18.59l7.72-7.72 1.47 1.35L5.41 20z\"/>\n",
              "  </svg>\n",
              "      </button>\n",
              "      \n",
              "  <style>\n",
              "    .colab-df-container {\n",
              "      display:flex;\n",
              "      flex-wrap:wrap;\n",
              "      gap: 12px;\n",
              "    }\n",
              "\n",
              "    .colab-df-convert {\n",
              "      background-color: #E8F0FE;\n",
              "      border: none;\n",
              "      border-radius: 50%;\n",
              "      cursor: pointer;\n",
              "      display: none;\n",
              "      fill: #1967D2;\n",
              "      height: 32px;\n",
              "      padding: 0 0 0 0;\n",
              "      width: 32px;\n",
              "    }\n",
              "\n",
              "    .colab-df-convert:hover {\n",
              "      background-color: #E2EBFA;\n",
              "      box-shadow: 0px 1px 2px rgba(60, 64, 67, 0.3), 0px 1px 3px 1px rgba(60, 64, 67, 0.15);\n",
              "      fill: #174EA6;\n",
              "    }\n",
              "\n",
              "    [theme=dark] .colab-df-convert {\n",
              "      background-color: #3B4455;\n",
              "      fill: #D2E3FC;\n",
              "    }\n",
              "\n",
              "    [theme=dark] .colab-df-convert:hover {\n",
              "      background-color: #434B5C;\n",
              "      box-shadow: 0px 1px 3px 1px rgba(0, 0, 0, 0.15);\n",
              "      filter: drop-shadow(0px 1px 2px rgba(0, 0, 0, 0.3));\n",
              "      fill: #FFFFFF;\n",
              "    }\n",
              "  </style>\n",
              "\n",
              "      <script>\n",
              "        const buttonEl =\n",
              "          document.querySelector('#df-3e30d97b-44d0-4733-8dc5-12747dbc1b29 button.colab-df-convert');\n",
              "        buttonEl.style.display =\n",
              "          google.colab.kernel.accessAllowed ? 'block' : 'none';\n",
              "\n",
              "        async function convertToInteractive(key) {\n",
              "          const element = document.querySelector('#df-3e30d97b-44d0-4733-8dc5-12747dbc1b29');\n",
              "          const dataTable =\n",
              "            await google.colab.kernel.invokeFunction('convertToInteractive',\n",
              "                                                     [key], {});\n",
              "          if (!dataTable) return;\n",
              "\n",
              "          const docLinkHtml = 'Like what you see? Visit the ' +\n",
              "            '<a target=\"_blank\" href=https://colab.research.google.com/notebooks/data_table.ipynb>data table notebook</a>'\n",
              "            + ' to learn more about interactive tables.';\n",
              "          element.innerHTML = '';\n",
              "          dataTable['output_type'] = 'display_data';\n",
              "          await google.colab.output.renderOutput(dataTable, element);\n",
              "          const docLink = document.createElement('div');\n",
              "          docLink.innerHTML = docLinkHtml;\n",
              "          element.appendChild(docLink);\n",
              "        }\n",
              "      </script>\n",
              "    </div>\n",
              "  </div>\n",
              "  "
            ]
          },
          "metadata": {},
          "execution_count": 235
        }
      ]
    },
    {
      "cell_type": "code",
      "source": [
        "df.info()"
      ],
      "metadata": {
        "execution": {
          "iopub.status.busy": "2022-08-04T22:03:28.000778Z",
          "iopub.execute_input": "2022-08-04T22:03:28.001503Z",
          "iopub.status.idle": "2022-08-04T22:03:28.060841Z",
          "shell.execute_reply.started": "2022-08-04T22:03:28.001463Z",
          "shell.execute_reply": "2022-08-04T22:03:28.059553Z"
        },
        "trusted": true,
        "id": "eo1i5DsL-crF",
        "colab": {
          "base_uri": "https://localhost:8080/"
        },
        "outputId": "6263d21b-7f17-42c5-cabe-3724264eda1e"
      },
      "execution_count": 236,
      "outputs": [
        {
          "output_type": "stream",
          "name": "stdout",
          "text": [
            "<class 'pandas.core.frame.DataFrame'>\n",
            "RangeIndex: 15919 entries, 0 to 15918\n",
            "Data columns (total 29 columns):\n",
            " #   Column               Non-Null Count  Dtype  \n",
            "---  ------               --------------  -----  \n",
            " 0   make_model           15919 non-null  object \n",
            " 1   body_type            15859 non-null  object \n",
            " 2   price                15919 non-null  int64  \n",
            " 3   vat                  11406 non-null  object \n",
            " 4   km                   14895 non-null  float64\n",
            " 5   Type                 15917 non-null  object \n",
            " 6   Cylinders            10239 non-null  float64\n",
            " 7   Fuel                 15919 non-null  object \n",
            " 8   Gears                11207 non-null  float64\n",
            " 9   Extras               12957 non-null  object \n",
            " 10  First_Registration   14322 non-null  object \n",
            " 11  Previous_Owners      9279 non-null   float64\n",
            " 12  hp_kW                15831 non-null  float64\n",
            " 13  Inspection_new       3932 non-null   object \n",
            " 14  age                  14322 non-null  float64\n",
            " 15  Paint_Type           10147 non-null  object \n",
            " 16  Upholstery_type      11048 non-null  object \n",
            " 17  Nr_of_Doors          15707 non-null  float64\n",
            " 18  Nr_of_Seats          14942 non-null  float64\n",
            " 19  Gearing_Type         15919 non-null  object \n",
            " 20  Displacement_cc      15423 non-null  float64\n",
            " 21  Weight_kg            8945 non-null   float64\n",
            " 22  Drive_chain          9061 non-null   object \n",
            " 23  Consumption_comb     13886 non-null  float64\n",
            " 24  CO2_Emission         13483 non-null  float64\n",
            " 25  Emission_Class       12291 non-null  object \n",
            " 26  Comfort_Convenience  14999 non-null  object \n",
            " 27  Entertainment_Media  14545 non-null  object \n",
            " 28  Safety_Security      14937 non-null  object \n",
            "dtypes: float64(12), int64(1), object(16)\n",
            "memory usage: 3.5+ MB\n"
          ]
        }
      ]
    },
    {
      "cell_type": "code",
      "source": [
        "df.to_csv(\"clean_scout.csv\", index=False)"
      ],
      "metadata": {
        "execution": {
          "iopub.status.busy": "2022-08-04T22:03:28.062493Z",
          "iopub.execute_input": "2022-08-04T22:03:28.063006Z",
          "iopub.status.idle": "2022-08-04T22:03:28.517279Z",
          "shell.execute_reply.started": "2022-08-04T22:03:28.06297Z",
          "shell.execute_reply": "2022-08-04T22:03:28.515938Z"
        },
        "trusted": true,
        "id": "-audR8W5-crF"
      },
      "execution_count": 237,
      "outputs": []
    },
    {
      "cell_type": "code",
      "source": [
        "from google.colab import drive\n",
        "drive.mount('/content/drive')"
      ],
      "metadata": {
        "colab": {
          "base_uri": "https://localhost:8080/"
        },
        "id": "A0EO0cDHh5gy",
        "outputId": "ece8e9b0-a278-4c04-f297-d799df3dc1c1"
      },
      "execution_count": 240,
      "outputs": [
        {
          "output_type": "stream",
          "name": "stdout",
          "text": [
            "Mounted at /content/drive\n"
          ]
        }
      ]
    },
    {
      "cell_type": "code",
      "source": [],
      "metadata": {
        "id": "TR5tAL6sh6Rk"
      },
      "execution_count": null,
      "outputs": []
    }
  ]
}